{
 "cells": [
  {
   "cell_type": "code",
   "execution_count": 2,
   "metadata": {},
   "outputs": [
    {
     "data": {
      "text/html": [
       "<div>\n",
       "<style scoped>\n",
       "    .dataframe tbody tr th:only-of-type {\n",
       "        vertical-align: middle;\n",
       "    }\n",
       "\n",
       "    .dataframe tbody tr th {\n",
       "        vertical-align: top;\n",
       "    }\n",
       "\n",
       "    .dataframe thead th {\n",
       "        text-align: right;\n",
       "    }\n",
       "</style>\n",
       "<table border=\"1\" class=\"dataframe\">\n",
       "  <thead>\n",
       "    <tr style=\"text-align: right;\">\n",
       "      <th></th>\n",
       "      <th>Game ID</th>\n",
       "      <th>Genres</th>\n",
       "      <th>Developers</th>\n",
       "      <th>Publishers</th>\n",
       "      <th>Release date</th>\n",
       "      <th>Current price in €</th>\n",
       "      <th>Number of reviews</th>\n",
       "      <th>Positive rate in reviews in %</th>\n",
       "      <th>SteamDB score in %</th>\n",
       "      <th>Minimum requirements</th>\n",
       "      <th>Min configuration class</th>\n",
       "    </tr>\n",
       "  </thead>\n",
       "  <tbody>\n",
       "    <tr>\n",
       "      <th>0</th>\n",
       "      <td>568070</td>\n",
       "      <td>['Action', 'Adventure', 'Indie']</td>\n",
       "      <td>['Triplevision Games']</td>\n",
       "      <td>['Graffiti Games']</td>\n",
       "      <td>2019-08-23</td>\n",
       "      <td>3.12</td>\n",
       "      <td>58</td>\n",
       "      <td>60.0</td>\n",
       "      <td>57.31</td>\n",
       "      <td>{'Processor': ' 2ghz dual core cpu', 'Memory':...</td>\n",
       "      <td>1</td>\n",
       "    </tr>\n",
       "    <tr>\n",
       "      <th>1</th>\n",
       "      <td>568090</td>\n",
       "      <td>['Action', 'Indie']</td>\n",
       "      <td>['Waygetter Electronics']</td>\n",
       "      <td>['Little Flag Software, LLC']</td>\n",
       "      <td>2016-12-28</td>\n",
       "      <td>2.39</td>\n",
       "      <td>2027</td>\n",
       "      <td>91.0</td>\n",
       "      <td>87.13</td>\n",
       "      <td>{'Processor': ' 2.0 ghz dual core processor', ...</td>\n",
       "      <td>1</td>\n",
       "    </tr>\n",
       "    <tr>\n",
       "      <th>2</th>\n",
       "      <td>568130</td>\n",
       "      <td>['Action', 'Adventure', 'Indie']</td>\n",
       "      <td>['Nickana Studio']</td>\n",
       "      <td>['Nickana Studio']</td>\n",
       "      <td>2017-01-03</td>\n",
       "      <td>3.99</td>\n",
       "      <td>20</td>\n",
       "      <td>65.0</td>\n",
       "      <td>59.00</td>\n",
       "      <td>{'Processor': ' 1.4ghz or faster', 'Memory': '...</td>\n",
       "      <td>0</td>\n",
       "    </tr>\n",
       "    <tr>\n",
       "      <th>3</th>\n",
       "      <td>568180</td>\n",
       "      <td>['Action', 'Adventure', 'Indie']</td>\n",
       "      <td>['Sword Twin Studios Ltd.']</td>\n",
       "      <td>['Sword Twin Studios Ltd.']</td>\n",
       "      <td>2017-03-31</td>\n",
       "      <td>0.00</td>\n",
       "      <td>12</td>\n",
       "      <td>92.0</td>\n",
       "      <td>72.42</td>\n",
       "      <td>{'Processor': ' 2.5 ghz dual core', 'Memory': ...</td>\n",
       "      <td>1</td>\n",
       "    </tr>\n",
       "    <tr>\n",
       "      <th>4</th>\n",
       "      <td>568200</td>\n",
       "      <td>['Casual', 'Indie']</td>\n",
       "      <td>['Bruno Freitas']</td>\n",
       "      <td>['Bruno Freitas']</td>\n",
       "      <td>2016-12-19</td>\n",
       "      <td>1.99</td>\n",
       "      <td>28</td>\n",
       "      <td>93.0</td>\n",
       "      <td>77.30</td>\n",
       "      <td>{'Processor': ' intel/amd dual core 1,2ghz', '...</td>\n",
       "      <td>1</td>\n",
       "    </tr>\n",
       "  </tbody>\n",
       "</table>\n",
       "</div>"
      ],
      "text/plain": [
       "   Game ID                            Genres                   Developers  \\\n",
       "0   568070  ['Action', 'Adventure', 'Indie']       ['Triplevision Games']   \n",
       "1   568090               ['Action', 'Indie']    ['Waygetter Electronics']   \n",
       "2   568130  ['Action', 'Adventure', 'Indie']           ['Nickana Studio']   \n",
       "3   568180  ['Action', 'Adventure', 'Indie']  ['Sword Twin Studios Ltd.']   \n",
       "4   568200               ['Casual', 'Indie']            ['Bruno Freitas']   \n",
       "\n",
       "                      Publishers Release date  Current price in €  \\\n",
       "0             ['Graffiti Games']   2019-08-23                3.12   \n",
       "1  ['Little Flag Software, LLC']   2016-12-28                2.39   \n",
       "2             ['Nickana Studio']   2017-01-03                3.99   \n",
       "3    ['Sword Twin Studios Ltd.']   2017-03-31                0.00   \n",
       "4              ['Bruno Freitas']   2016-12-19                1.99   \n",
       "\n",
       "   Number of reviews  Positive rate in reviews in %  SteamDB score in %  \\\n",
       "0                 58                           60.0               57.31   \n",
       "1               2027                           91.0               87.13   \n",
       "2                 20                           65.0               59.00   \n",
       "3                 12                           92.0               72.42   \n",
       "4                 28                           93.0               77.30   \n",
       "\n",
       "                                Minimum requirements  Min configuration class  \n",
       "0  {'Processor': ' 2ghz dual core cpu', 'Memory':...                        1  \n",
       "1  {'Processor': ' 2.0 ghz dual core processor', ...                        1  \n",
       "2  {'Processor': ' 1.4ghz or faster', 'Memory': '...                        0  \n",
       "3  {'Processor': ' 2.5 ghz dual core', 'Memory': ...                        1  \n",
       "4  {'Processor': ' intel/amd dual core 1,2ghz', '...                        1  "
      ]
     },
     "execution_count": 2,
     "metadata": {},
     "output_type": "execute_result"
    }
   ],
   "source": [
    "import pandas as pd \n",
    "import numpy as np\n",
    "import matplotlib.pyplot as plt\n",
    "import seaborn as sn\n",
    "\n",
    "df = pd.read_csv('formated_data_new.csv')\n",
    "df.head(5)"
   ]
  },
  {
   "cell_type": "markdown",
   "metadata": {},
   "source": [
    "## Introduction"
   ]
  },
  {
   "cell_type": "markdown",
   "metadata": {},
   "source": [
    "Our objective is to see the influence of the min configuration recommendation on the popularity of a game. This factor is evaluated thanks to the SteamDB grade (depends on the grades attributed by the users and the number of reviews). We want to analyse the distribution of these grades and the class but also the other factors such as the genre, and the price (date?)"
   ]
  },
  {
   "cell_type": "code",
   "execution_count": 3,
   "metadata": {},
   "outputs": [
    {
     "data": {
      "text/plain": [
       "<matplotlib.axes._subplots.AxesSubplot at 0x1b71a113048>"
      ]
     },
     "execution_count": 3,
     "metadata": {},
     "output_type": "execute_result"
    },
    {
     "data": {
      "image/png": "[encoded data removed]",
      "text/plain": [
       "<Figure size 432x288 with 2 Axes>"
      ]
     },
     "metadata": {
      "needs_background": "light"
     },
     "output_type": "display_data"
    }
   ],
   "source": [
    "corrMatrix = df[[\"Min configuration class\", \"Positive rate in reviews in %\", \"Number of reviews\", \"Current price in €\", \"SteamDB score in %\"]].corr()\n",
    "sn.heatmap(corrMatrix, annot=True)"
   ]
  },
  {
   "cell_type": "markdown",
   "metadata": {},
   "source": [
    "We can see that at first sight the different variables are not very correlated, we need to define new variables and selected specific parameters for them to refine our work. Lets procede to a precise analysis of each of the variables."
   ]
  },
  {
   "cell_type": "markdown",
   "metadata": {},
   "source": [
    "## Analysis of the distribution of the classes"
   ]
  },
  {
   "cell_type": "code",
   "execution_count": 4,
   "metadata": {},
   "outputs": [
    {
     "data": {
      "text/plain": [
       "0    9869\n",
       "1    3580\n",
       "2    2331\n",
       "3    1350\n",
       "Name: Min configuration class, dtype: int64"
      ]
     },
     "execution_count": 4,
     "metadata": {},
     "output_type": "execute_result"
    }
   ],
   "source": [
    "df[\"Min configuration class\"].value_counts()"
   ]
  },
  {
   "cell_type": "code",
   "execution_count": 18,
   "metadata": {},
   "outputs": [
    {
     "data": {
      "text/plain": [
       "(-1.1161911819350772,\n",
       " 1.1007710208213133,\n",
       " -1.1281834238600332,\n",
       " 1.162079126908758)"
      ]
     },
     "execution_count": 18,
     "metadata": {},
     "output_type": "execute_result"
    },
    {
     "data": {
      "image/png": "[encoded data removed]",
      "text/plain": [
       "<Figure size 432x288 with 1 Axes>"
      ]
     },
     "metadata": {},
     "output_type": "display_data"
    }
   ],
   "source": [
    "fig1, ax1 = plt.subplots()\n",
    "ax1.pie(df[\"Min configuration class\"].value_counts(), labels = [\"class 0\", \"class 1\", \"class 2\" ,\"class 3\"], explode = (0.05, 0, 0, 0), autopct='%1.1f%%')\n",
    "ax1.axis('equal')"
   ]
  },
  {
   "cell_type": "markdown",
   "metadata": {},
   "source": [
    "Class 0 is the most predominant. The higher are the min configuration, the less there are games. "
   ]
  },
  {
   "cell_type": "markdown",
   "metadata": {},
   "source": [
    "## Analysis of the distribution of the Steam DB score"
   ]
  },
  {
   "cell_type": "code",
   "execution_count": 5,
   "metadata": {
    "scrolled": true
   },
   "outputs": [
    {
     "name": "stdout",
     "output_type": "stream",
     "text": [
      "Stats of of Min configuration of class  0\n",
      "count    9869.000000\n",
      "mean       64.460656\n",
      "std        13.886910\n",
      "min        21.010000\n",
      "25%        55.140000\n",
      "50%        65.250000\n",
      "75%        75.080000\n",
      "max        96.270000\n",
      "Name: SteamDB score in %, dtype: float64 \n",
      "\n",
      "Stats of of Min configuration of class  1\n",
      "count    3580.000000\n",
      "mean       64.028115\n",
      "std        14.090395\n",
      "min        18.520000\n",
      "25%        53.537500\n",
      "50%        64.695000\n",
      "75%        75.125000\n",
      "max        96.520000\n",
      "Name: SteamDB score in %, dtype: float64 \n",
      "\n",
      "Stats of of Min configuration of class  2\n",
      "count    2331.000000\n",
      "mean       63.735332\n",
      "std        13.489052\n",
      "min        23.000000\n",
      "25%        54.170000\n",
      "50%        64.070000\n",
      "75%        73.905000\n",
      "max        94.960000\n",
      "Name: SteamDB score in %, dtype: float64 \n",
      "\n",
      "Stats of of Min configuration of class  3\n",
      "count    1350.000000\n",
      "mean       61.587022\n",
      "std        13.498737\n",
      "min        18.230000\n",
      "25%        51.612500\n",
      "50%        62.075000\n",
      "75%        71.540000\n",
      "max        95.690000\n",
      "Name: SteamDB score in %, dtype: float64 \n",
      "\n"
     ]
    }
   ],
   "source": [
    "for i in range(0,4):\n",
    "    print(\"Stats of of Min configuration of class \", i)\n",
    "    print(df[df['Min configuration class']==i]['SteamDB score in %'].describe(), \"\\n\")"
   ]
  },
  {
   "cell_type": "code",
   "execution_count": 26,
   "metadata": {
    "scrolled": true
   },
   "outputs": [
    {
     "data": {
      "image/png": "[encoded data removed]",
      "text/plain": [
       "<Figure size 432x288 with 1 Axes>"
      ]
     },
     "metadata": {
      "needs_background": "light"
     },
     "output_type": "display_data"
    }
   ],
   "source": [
    "ax = sn.boxplot(x=\"Min configuration class\", y=\"SteamDB score in %\", data=df)"
   ]
  },
  {
   "cell_type": "code",
   "execution_count": 8,
   "metadata": {
    "scrolled": true
   },
   "outputs": [
    {
     "data": {
      "text/plain": [
       "<matplotlib.collections.PathCollection at 0x1b71c42d0f0>"
      ]
     },
     "execution_count": 8,
     "metadata": {},
     "output_type": "execute_result"
    },
    {
     "data": {
      "image/png": "[encoded data removed]",
      "text/plain": [
       "<Figure size 432x288 with 1 Axes>"
      ]
     },
     "metadata": {
      "needs_background": "light"
     },
     "output_type": "display_data"
    }
   ],
   "source": [
    "x = [0,1,2,3]\n",
    "y = [np.mean(df[df['Min configuration class']==i]['SteamDB score in %']) for i in range(0,4)]\n",
    "plt.scatter(x,y)"
   ]
  },
  {
   "cell_type": "markdown",
   "metadata": {},
   "source": [
    "The mean of the score seems to decrease more the recommended config are high."
   ]
  },
  {
   "cell_type": "code",
   "execution_count": 10,
   "metadata": {},
   "outputs": [
    {
     "data": {
      "image/png": "[encoded data removed]",
      "text/plain": [
       "<Figure size 432x288 with 1 Axes>"
      ]
     },
     "metadata": {
      "needs_background": "light"
     },
     "output_type": "display_data"
    },
    {
     "data": {
      "image/png": "[encoded data removed]",
      "text/plain": [
       "<Figure size 432x288 with 1 Axes>"
      ]
     },
     "metadata": {
      "needs_background": "light"
     },
     "output_type": "display_data"
    },
    {
     "data": {
      "image/png": "[encoded data removed]",
      "text/plain": [
       "<Figure size 432x288 with 1 Axes>"
      ]
     },
     "metadata": {
      "needs_background": "light"
     },
     "output_type": "display_data"
    },
    {
     "data": {
      "image/png": "[encoded data removed]",
      "text/plain": [
       "<Figure size 432x288 with 1 Axes>"
      ]
     },
     "metadata": {
      "needs_background": "light"
     },
     "output_type": "display_data"
    }
   ],
   "source": [
    "class_0 = df[df['Min configuration class']==0]\n",
    "class_1 = df[df['Min configuration class']==1]\n",
    "class_2 = df[df['Min configuration class']==2]\n",
    "class_3 = df[df['Min configuration class']==3]\n",
    "\n",
    "plt.figure(221)\n",
    "plt.hist(class_0['SteamDB score in %'], color=\"red\")\n",
    "plt.title(\"distribution of the rate of games of class 0\")\n",
    "plt.axvline(class_0['Positive rate in reviews in %'].mean(), color='k', linestyle='dashed', linewidth=1)\n",
    "plt.axvline(df['SteamDB score in %'].mean(), color='yellow', linestyle='dashed', linewidth=1)\n",
    "\n",
    "plt.figure(222)\n",
    "plt.hist(class_1['SteamDB score in %'], color=\"red\")\n",
    "plt.title(\"distribution of the rate of games of class 1\")\n",
    "plt.axvline(class_1['Positive rate in reviews in %'].mean(), color='k', linestyle='dashed', linewidth=1)\n",
    "plt.axvline(df['SteamDB score in %'].mean(), color='yellow', linestyle='dashed', linewidth=1)\n",
    "\n",
    "plt.figure(223)\n",
    "plt.hist(class_2['SteamDB score in %'], color=\"red\")\n",
    "plt.title(\"distribution of the rate of games of class 2\")\n",
    "plt.axvline(class_2['Positive rate in reviews in %'].mean(), color='k', linestyle='dashed', linewidth=1)\n",
    "plt.axvline(df['SteamDB score in %'].mean(), color='yellow', linestyle='dashed', linewidth=1)\n",
    "\n",
    "plt.figure(224)\n",
    "plt.hist(class_3['SteamDB score in %'], color=\"blue\")\n",
    "plt.title(\"distribution of the rate of games of class 3\")\n",
    "plt.axvline(class_3['Positive rate in reviews in %'].mean(), color='k', linestyle='dashed', linewidth=1)\n",
    "plt.axvline(df['SteamDB score in %'].mean(), color='yellow', linestyle='dashed', linewidth=1)\n",
    "\n",
    "plt.show()"
   ]
  },
  {
   "cell_type": "markdown",
   "metadata": {},
   "source": [
    "The mean of the grades of class 3 is a bit lower than those of class 0. We can see that this is because the distribution is bit different. For class 3, not many games have a very high grade (above 90). Furthermore, the grade are uch more distributed with many more games having a low grade (below 50) "
   ]
  },
  {
   "cell_type": "code",
   "execution_count": 22,
   "metadata": {},
   "outputs": [
    {
     "name": "stdout",
     "output_type": "stream",
     "text": [
      "overall proportion of low grades:  14.576765907764157\n",
      "class 0 proportion of low grades:  13.99331239233965\n",
      "class 3 proportion of low grades:  17.555555555555557 \n",
      "\n",
      "overall proportion of very high grades:  13.333333333333334\n",
      "class 0 proportion of very high grades:  13.89198500354646\n",
      "class 3 proportion of very high grades:  8.592592592592593\n"
     ]
    }
   ],
   "source": [
    "low_grades = df[df['SteamDB score in %']<50]\n",
    "very_high_grades = df[df['SteamDB score in %']>80]\n",
    "\n",
    "print(\"overall proportion of low grades: \",  100*len(low_grades)/len(df))\n",
    "print(\"class 0 proportion of low grades: \", 100*len(low_grades[low_grades['Min configuration class']==0])/len(class_0))\n",
    "print(\"class 3 proportion of low grades: \", 100*len(low_grades[low_grades['Min configuration class']==3])/len(class_3), \"\\n\")\n",
    "\n",
    "print(\"overall proportion of very high grades: \",  100*len(very_high_grades)/len(df))\n",
    "print(\"class 0 proportion of very high grades: \", 100*len(very_high_grades[very_high_grades['Min configuration class']==0])/len(class_0))\n",
    "print(\"class 3 proportion of very high grades: \", 100*len(very_high_grades[very_high_grades['Min configuration class']==3])/len(class_3))\n"
   ]
  },
  {
   "cell_type": "markdown",
   "metadata": {},
   "source": [
    "Class 3 has a higher propotion of low graded games and a much lower proportion of games with very high grades. Class 0 games have a  higher proportion of games with very high grades than the average"
   ]
  },
  {
   "cell_type": "markdown",
   "metadata": {},
   "source": [
    "## Analysis of the number of reviews according to the class"
   ]
  },
  {
   "cell_type": "code",
   "execution_count": 16,
   "metadata": {},
   "outputs": [
    {
     "name": "stdout",
     "output_type": "stream",
     "text": [
      "Number of reviews for class 0\n",
      "count     9876.000000\n",
      "mean       227.531288\n",
      "std       1224.738671\n",
      "min          1.000000\n",
      "25%         10.000000\n",
      "50%         27.000000\n",
      "75%         89.000000\n",
      "max      48827.000000\n",
      "Name: Number of reviews, dtype: float64 \n",
      "\n",
      "Number of reviews for class 1\n",
      "count     3582.000000\n",
      "mean       428.106644\n",
      "std       2503.793843\n",
      "min          0.000000\n",
      "25%         11.000000\n",
      "50%         33.000000\n",
      "75%        126.000000\n",
      "max      78179.000000\n",
      "Name: Number of reviews, dtype: float64 \n",
      "\n",
      "Number of reviews for class 2\n",
      "count     2334.000000\n",
      "mean       494.788346\n",
      "std       3393.197616\n",
      "min          2.000000\n",
      "25%         10.000000\n",
      "50%         25.000000\n",
      "75%         95.750000\n",
      "max      85491.000000\n",
      "Name: Number of reviews, dtype: float64 \n",
      "\n",
      "Number of reviews for class 3\n",
      "count     1350.000000\n",
      "mean       627.913333\n",
      "std       4249.289974\n",
      "min          2.000000\n",
      "25%          9.000000\n",
      "50%         23.000000\n",
      "75%         76.000000\n",
      "max      80911.000000\n",
      "Name: Number of reviews, dtype: float64 \n",
      "\n"
     ]
    }
   ],
   "source": [
    "for i in range(0,4):\n",
    "    print(\"Number of reviews for class\", i)\n",
    "    print(df[df['Min configuration class']==i]['Number of reviews'].describe(), \"\\n\")"
   ]
  },
  {
   "cell_type": "markdown",
   "metadata": {},
   "source": [
    "The mean of the number of reviews per game for class 3 is much higher. The game are more sophisticated and are for a more dedicated community. Thus, the gamers are more likely to leave reviews. Whereas, the mean of the number of reviews per game for class 0 is much lower than average. As the games are likely to be less time-consuming and probably less work was given to it, many games don't have many reviews."
   ]
  },
  {
   "cell_type": "code",
   "execution_count": 19,
   "metadata": {},
   "outputs": [
    {
     "data": {
      "text/plain": [
       "Min configuration class\n",
       "0    400\n",
       "1    228\n",
       "2    155\n",
       "3     88\n",
       "Name: Game ID, dtype: int64"
      ]
     },
     "execution_count": 19,
     "metadata": {},
     "output_type": "execute_result"
    }
   ],
   "source": [
    "df[df['Number of reviews']>1000].groupby('Min configuration class')['Game ID'].count()"
   ]
  },
  {
   "cell_type": "markdown",
   "metadata": {},
   "source": [
    "Even if the mean of the number of review, the vast majority of games have below 100 reviews. The mean of class 3 is much higer but the majority of games with a lot of reviews (above 1000) are of class 0."
   ]
  },
  {
   "cell_type": "code",
   "execution_count": 23,
   "metadata": {
    "scrolled": true
   },
   "outputs": [
    {
     "data": {
      "text/plain": [
       "Text(0,0.5,'Positive rate in reviews')"
      ]
     },
     "execution_count": 23,
     "metadata": {},
     "output_type": "execute_result"
    },
    {
     "data": {
      "image/png": "[encoded data removed]",
      "text/plain": [
       "<Figure size 432x288 with 1 Axes>"
      ]
     },
     "metadata": {
      "needs_background": "light"
     },
     "output_type": "display_data"
    }
   ],
   "source": [
    "plt.scatter(df[df[\"Min configuration class\"]==0]['Number of reviews'], df[df[\"Min configuration class\"]==0]['Positive rate in reviews in %'], color = \"red\")\n",
    "plt.scatter(df[df[\"Min configuration class\"]==1]['Number of reviews'], df[df[\"Min configuration class\"]==1]['Positive rate in reviews in %'], color = \"black\")\n",
    "plt.scatter(df[df[\"Min configuration class\"]==2]['Number of reviews'], df[df[\"Min configuration class\"]==2]['Positive rate in reviews in %'], color = \"black\")\n",
    "plt.scatter(df[df[\"Min configuration class\"]==3]['Number of reviews'], df[df[\"Min configuration class\"]==3]['Positive rate in reviews in %'], color = \"blue\")\n",
    "\n",
    "plt.xlabel(\"Number of reviews\")\n",
    "plt.ylabel(\"Positive rate in reviews\")"
   ]
  },
  {
   "cell_type": "markdown",
   "metadata": {},
   "source": [
    "## Analysis of the genres according to the class"
   ]
  },
  {
   "cell_type": "code",
   "execution_count": 28,
   "metadata": {
    "pycharm": {
     "name": "#%%\n"
    }
   },
   "outputs": [],
   "source": [
    "Action = df[df['Genres'].str.contains(\"Action\") == True]\n",
    "Adventure = df[df['Genres'].str.contains(\"Adventure\") == True]\n",
    "RPG = df[df['Genres'].str.contains(\"RPG\") == True]\n",
    "Strategy = df[df['Genres'].str.contains(\"Strategy\") == True]\n",
    "Simulation = df[df['Genres'].str.contains(\"Simulation\") == True]\n",
    "Casual = df[df['Genres'].str.contains(\"Casual\") == True]\n",
    "Indie = df[df['Genres'].str.contains(\"Indie\") == True]\n",
    "Sports = df[df['Genres'].str.contains(\"Sports\") == True]"
   ]
  },
  {
   "cell_type": "code",
   "execution_count": 29,
   "metadata": {
    "scrolled": true
   },
   "outputs": [
    {
     "data": {
      "image/png": "[encoded data removed]",
      "text/plain": [
       "<Figure size 1080x576 with 8 Axes>"
      ]
     },
     "metadata": {
      "needs_background": "light"
     },
     "output_type": "display_data"
    }
   ],
   "source": [
    "plt.figure(figsize=(15,8))\n",
    "\n",
    "plt.subplot(241)\n",
    "plt.hist(Action[Action['Min configuration class']==0]['Positive rate in reviews in %'], color=\"navy\", label = 'class 0')\n",
    "plt.hist(Action[Action['Min configuration class']==1]['Positive rate in reviews in %'], color=\"blue\", label = 'class 1')\n",
    "plt.hist(Action[Action['Min configuration class']==2]['Positive rate in reviews in %'], color=\"mediumpurple\", label = 'class 2')\n",
    "plt.hist(Action[Action['Min configuration class']==3]['Positive rate in reviews in %'], color=\"plum\", label = 'class 3')\n",
    "plt.legend()\n",
    "plt.title(\"Positive rate of Action\")\n",
    "plt.axvline(Action['Positive rate in reviews in %'].mean(), color='k', linestyle='dashed', linewidth=1)\n",
    "\n",
    "\n",
    "plt.subplot(242)\n",
    "plt.hist(Adventure[Adventure['Min configuration class']==0]['Positive rate in reviews in %'], color=\"navy\", label = 'class 0')\n",
    "plt.hist(Adventure[Adventure['Min configuration class']==1]['Positive rate in reviews in %'], color=\"blue\", label = 'class 1')\n",
    "plt.hist(Adventure[Adventure['Min configuration class']==2]['Positive rate in reviews in %'], color=\"mediumpurple\", label = 'class 2')\n",
    "plt.hist(Adventure[Adventure['Min configuration class']==3]['Positive rate in reviews in %'], color=\"plum\", label = 'class 3')\n",
    "plt.legend()\n",
    "plt.title(\"Positive rate of Adventure\")\n",
    "plt.axvline(Adventure['Positive rate in reviews in %'].mean(), color='k', linestyle='dashed', linewidth=1)\n",
    "\n",
    "plt.subplot(243)\n",
    "plt.hist(RPG[RPG['Min configuration class']==0]['Positive rate in reviews in %'], color=\"navy\", label = 'class 0')\n",
    "plt.hist(RPG[RPG['Min configuration class']==1]['Positive rate in reviews in %'], color=\"blue\", label = 'class 1')\n",
    "plt.hist(RPG[RPG['Min configuration class']==2]['Positive rate in reviews in %'], color=\"mediumpurple\", label = 'class 2')\n",
    "plt.hist(RPG[RPG['Min configuration class']==3]['Positive rate in reviews in %'], color=\"plum\", label = 'class 3')\n",
    "plt.legend()\n",
    "plt.title(\"Positive rate of RPG\")\n",
    "plt.axvline(RPG['Positive rate in reviews in %'].mean(), color='k', linestyle='dashed', linewidth=1)\n",
    "\n",
    "plt.subplot(244)\n",
    "plt.hist(Strategy[Strategy['Min configuration class']==0]['Positive rate in reviews in %'], color=\"navy\", label = 'class 0')\n",
    "plt.hist(Strategy[Strategy['Min configuration class']==1]['Positive rate in reviews in %'], color=\"blue\", label = 'class 1')\n",
    "plt.hist(Strategy[Strategy['Min configuration class']==2]['Positive rate in reviews in %'], color=\"mediumpurple\", label = 'class 2')\n",
    "plt.hist(Strategy[Strategy['Min configuration class']==3]['Positive rate in reviews in %'], color=\"plum\", label = 'class 3')\n",
    "plt.legend()\n",
    "plt.title(\"Positive rate of Strategy\")\n",
    "plt.axvline(Strategy['Positive rate in reviews in %'].mean(), color='k', linestyle='dashed', linewidth=1)\n",
    "\n",
    "plt.subplot(245)\n",
    "plt.hist(Simulation[Simulation['Min configuration class']==0]['Positive rate in reviews in %'], color=\"navy\", label = 'class 0')\n",
    "plt.hist(Simulation[Simulation['Min configuration class']==1]['Positive rate in reviews in %'], color=\"blue\", label = 'class 1')\n",
    "plt.hist(Simulation[Simulation['Min configuration class']==2]['Positive rate in reviews in %'], color=\"mediumpurple\", label = 'class 2')\n",
    "plt.hist(Simulation[Simulation['Min configuration class']==3]['Positive rate in reviews in %'], color=\"plum\", label = 'class 3')\n",
    "plt.legend()\n",
    "plt.title(\"Positive rate of Simulation\")\n",
    "plt.axvline(Simulation['Positive rate in reviews in %'].mean(), color='k', linestyle='dashed', linewidth=1)\n",
    "\n",
    "plt.subplot(246)\n",
    "plt.hist(Casual[Casual['Min configuration class']==0]['Positive rate in reviews in %'], color=\"navy\", label = 'class 0')\n",
    "plt.hist(Casual[Casual['Min configuration class']==1]['Positive rate in reviews in %'], color=\"blue\", label = 'class 1')\n",
    "plt.hist(Casual[Casual['Min configuration class']==2]['Positive rate in reviews in %'], color=\"mediumpurple\", label = 'class 2')\n",
    "plt.hist(Casual[Casual['Min configuration class']==3]['Positive rate in reviews in %'], color=\"plum\", label = 'class 3')\n",
    "plt.legend()\n",
    "plt.title(\"Positive rate of Casual\")\n",
    "plt.axvline(Casual['Positive rate in reviews in %'].mean(), color='k', linestyle='dashed', linewidth=1)\n",
    "\n",
    "plt.subplot(247)\n",
    "plt.hist(Indie[Indie['Min configuration class']==0]['Positive rate in reviews in %'], color=\"navy\", label = 'class 0')\n",
    "plt.hist(Indie[Indie['Min configuration class']==1]['Positive rate in reviews in %'], color=\"blue\", label = 'class 1')\n",
    "plt.hist(Indie[Indie['Min configuration class']==2]['Positive rate in reviews in %'], color=\"mediumpurple\", label = 'class 2')\n",
    "plt.hist(Indie[Indie['Min configuration class']==3]['Positive rate in reviews in %'], color=\"plum\", label = 'class 3')\n",
    "plt.legend()\n",
    "plt.title(\"Positive rate of indie\")\n",
    "plt.axvline(Indie['Positive rate in reviews in %'].mean(), color='k', linestyle='dashed', linewidth=1)\n",
    "\n",
    "plt.subplot(248)\n",
    "plt.hist(Sports[Sports['Min configuration class']==0]['Positive rate in reviews in %'], color=\"navy\", label = 'class 0')\n",
    "plt.hist(Sports[Sports['Min configuration class']==1]['Positive rate in reviews in %'], color=\"blue\", label = 'class 1')\n",
    "plt.hist(Sports[Sports['Min configuration class']==2]['Positive rate in reviews in %'], color=\"mediumpurple\", label = 'class 2')\n",
    "plt.hist(Sports[Sports['Min configuration class']==3]['Positive rate in reviews in %'], color=\"plum\", label = 'class 3')\n",
    "plt.legend()\n",
    "plt.title(\"Positive rate of Sports\")\n",
    "plt.axvline(Sports['Positive rate in reviews in %'].mean(), color='k', linestyle='dashed', linewidth=1)\n",
    "\n",
    "plt.show()"
   ]
  },
  {
   "cell_type": "markdown",
   "metadata": {},
   "source": [
    "There doesn't seem to be any correlation betwen the genre of the game and the rate given by the users. However, these chats show that there isn't the same distribution of classes for each genres. For instance, it seem that Strategy and Casual games don't need to have important material as the porportion of class 2/3 is very low. However, Sports , Simulation and Action games, whose graphics are much more evolved and rapid apparently need more high tech material."
   ]
  },
  {
   "cell_type": "code",
   "execution_count": 30,
   "metadata": {},
   "outputs": [
    {
     "name": "stdout",
     "output_type": "stream",
     "text": [
      "proportion of class 3 :  7.880910683012259\n",
      "proportion of class 3 for simulation game:  10.774784782004998\n"
     ]
    }
   ],
   "source": [
    "print(\"proportion of class 3 : \", 100*len(df[df['Min configuration class']==3])/len(df))\n",
    "print(\"proportion of class 3 for simulation game: \", 100*len(Simulation[Simulation['Min configuration class']==3])/len(Simulation))"
   ]
  },
  {
   "cell_type": "markdown",
   "metadata": {},
   "source": [
    "## Analysis of the price according to the class"
   ]
  },
  {
   "cell_type": "code",
   "execution_count": 31,
   "metadata": {
    "scrolled": true
   },
   "outputs": [
    {
     "name": "stdout",
     "output_type": "stream",
     "text": [
      "Price for class 0\n",
      "count    9869.000000\n",
      "mean        3.302861\n",
      "std         5.077279\n",
      "min         0.000000\n",
      "25%         0.390000\n",
      "50%         1.590000\n",
      "75%         4.090000\n",
      "max        79.990000\n",
      "Name: Current price in €, dtype: float64 \n",
      "\n",
      "Price for class 1\n",
      "count    3580.000000\n",
      "mean        3.967712\n",
      "std         5.417281\n",
      "min         0.000000\n",
      "25%         0.550000\n",
      "50%         1.990000\n",
      "75%         4.990000\n",
      "max        59.990000\n",
      "Name: Current price in €, dtype: float64 \n",
      "\n",
      "Price for class 2\n",
      "count    2331.000000\n",
      "mean        5.433398\n",
      "std         6.741659\n",
      "min         0.000000\n",
      "25%         0.590000\n",
      "50%         3.490000\n",
      "75%         8.190000\n",
      "max        59.990000\n",
      "Name: Current price in €, dtype: float64 \n",
      "\n",
      "Price for class 3\n",
      "count    1350.000000\n",
      "mean        6.160407\n",
      "std         7.183868\n",
      "min         0.000000\n",
      "25%         0.475000\n",
      "50%         3.990000\n",
      "75%         9.790000\n",
      "max        69.990000\n",
      "Name: Current price in €, dtype: float64 \n",
      "\n"
     ]
    }
   ],
   "source": [
    "for i in range(0,4):\n",
    "    print(\"Price for class\", i)\n",
    "    print(df[df['Min configuration class']==i]['Current price in €'].describe(), \"\\n\")"
   ]
  },
  {
   "cell_type": "code",
   "execution_count": 36,
   "metadata": {
    "scrolled": true
   },
   "outputs": [
    {
     "name": "stdout",
     "output_type": "stream",
     "text": [
      "proportion of free games in class 0 : 15.371364879927045\n",
      "proportion of free games in class 1 : 13.435754189944134\n",
      "proportion of free games in class 2 : 19.81981981981982\n",
      "proportion of free games in class 3 : 22.666666666666668\n"
     ]
    }
   ],
   "source": [
    "class_0_f = df.loc[(df['Min configuration class']==0) & (df['Current price in €']==0)]\n",
    "class_1_f = df.loc[(df['Min configuration class']==1) & (df['Current price in €']==0)]\n",
    "class_2_f = df.loc[(df['Min configuration class']==2) & (df['Current price in €']==0)]\n",
    "class_3_f = df.loc[(df['Min configuration class']==3) & (df['Current price in €']==0)]\n",
    "\n",
    "print(\"proportion of free games in class 0 :\", 100*len(class_0_f)/len(class_0))\n",
    "print(\"proportion of free games in class 1 :\", 100*len(class_1_f)/len(class_1))\n",
    "print(\"proportion of free games in class 2 :\", 100*len(class_2_f)/len(class_2))\n",
    "print(\"proportion of free games in class 3 :\", 100*len(class_3_f)/len(class_3))"
   ]
  },
  {
   "cell_type": "code",
   "execution_count": 33,
   "metadata": {},
   "outputs": [
    {
     "data": {
      "text/plain": [
       "<matplotlib.collections.PathCollection at 0x293951cbac8>"
      ]
     },
     "execution_count": 33,
     "metadata": {},
     "output_type": "execute_result"
    },
    {
     "data": {
      "image/png": "[encoded data removed]",
      "text/plain": [
       "<Figure size 432x288 with 1 Axes>"
      ]
     },
     "metadata": {
      "needs_background": "light"
     },
     "output_type": "display_data"
    }
   ],
   "source": [
    "mean_p = [np.mean(df[df['Min configuration class']==i]['Current price in €']) for i in range(0,4)]\n",
    "plt.scatter([0,1,2,3], mean_p)"
   ]
  },
  {
   "cell_type": "markdown",
   "metadata": {},
   "source": [
    "We can clearly see that the price and the class that we have created are correlated. The games of class 3 are in average much pricier than the games of class 0."
   ]
  },
  {
   "cell_type": "code",
   "execution_count": 37,
   "metadata": {},
   "outputs": [
    {
     "data": {
      "image/png": "[encoded data removed]",
      "text/plain": [
       "<Figure size 432x288 with 4 Axes>"
      ]
     },
     "metadata": {
      "needs_background": "light"
     },
     "output_type": "display_data"
    }
   ],
   "source": [
    "class_0 = df[df['Min configuration class']==0]\n",
    "class_1 = df[df['Min configuration class']==1]\n",
    "class_2 = df[df['Min configuration class']==2]\n",
    "class_3 = df[df['Min configuration class']==3]\n",
    "\n",
    "plt.subplot(221)\n",
    "plt.hist(class_0[class_0['Current price in €']<25]['Current price in €'], color=\"blue\")\n",
    "plt.axvline(class_0['Current price in €'].mean(), color='k', linestyle='dashed', linewidth=1)\n",
    "\n",
    "\n",
    "plt.subplot(222)\n",
    "plt.hist(class_1[class_1['Current price in €']<25]['Current price in €'], color=\"blue\")\n",
    "plt.axvline(class_1['Current price in €'].mean(), color='k', linestyle='dashed', linewidth=1)\n",
    "\n",
    "\n",
    "plt.subplot(223)\n",
    "plt.hist(class_2[class_2['Current price in €']<25]['Current price in €'], color=\"blue\")\n",
    "plt.axvline(class_2['Current price in €'].mean(), color='k', linestyle='dashed', linewidth=1)\n",
    "\n",
    "\n",
    "plt.subplot(224)\n",
    "plt.hist(class_3[class_3['Current price in €']<25]['Current price in €'], color=\"blue\")\n",
    "plt.axvline(class_3['Current price in €'].mean(), color='k', linestyle='dashed', linewidth=1)\n",
    "\n",
    "\n",
    "plt.show()"
   ]
  },
  {
   "cell_type": "markdown",
   "metadata": {},
   "source": [
    "It seems that the games with high minimum configuration are thus pricier and have less good ratings. We can make the assumption that as the games have a higher price and demand more performant hardware/software, the public using these games are usually more critical. The users are harsher and will thus give bad grades to these games that do not meet what they expected"
   ]
  },
  {
   "cell_type": "code",
   "execution_count": 5,
   "metadata": {
    "scrolled": true
   },
   "outputs": [
    {
     "data": {
      "text/plain": [
       "'for p in np.arange(0,80000,300):\\n    zozo = df.loc[(df[\"Number of reviews\"]>p)]\\n    c = np.corrcoef([0,1,2,3], [np.mean(zozo[zozo[\\'Min configuration class\\']==i][\\'SteamDB score in %\\']) for i in range(0,4)])\\n    print(c[0][1])'"
      ]
     },
     "execution_count": 5,
     "metadata": {},
     "output_type": "execute_result"
    }
   ],
   "source": [
    "\"\"\"for p in np.arange(0,80000,300):\n",
    "    zozo = df.loc[(df[\"Number of reviews\"]>p)]\n",
    "    c = np.corrcoef([0,1,2,3], [np.mean(zozo[zozo['Min configuration class']==i]['SteamDB score in %']) for i in range(0,4)])\n",
    "    print(c[0][1])\"\"\""
   ]
  },
  {
   "cell_type": "code",
   "execution_count": 7,
   "metadata": {},
   "outputs": [
    {
     "data": {
      "text/plain": [
       "<matplotlib.axes._subplots.AxesSubplot at 0x1b71c360b70>"
      ]
     },
     "execution_count": 7,
     "metadata": {},
     "output_type": "execute_result"
    },
    {
     "data": {
      "image/png": "[encoded data removed]",
      "text/plain": [
       "<Figure size 432x288 with 2 Axes>"
      ]
     },
     "metadata": {
      "needs_background": "light"
     },
     "output_type": "display_data"
    }
   ],
   "source": [
    "data = {'Min configuration class':  [0,1,2,3],\n",
    "        'mean of price': [np.mean(df[df['Min configuration class']==i]['Current price in €']) for i in range(0,4)],\n",
    "        'mean of grades': [np.mean(df[df['Min configuration class']==i]['SteamDB score in %']) for i in range(0,4)]\n",
    "        }\n",
    "mean_table = pd.DataFrame(data, columns=['Min configuration class','mean of price','mean of grades'])\n",
    "\n",
    "corrMatrix = mean_table[['Min configuration class','mean of price','mean of grades']].corr()\n",
    "sn.heatmap(corrMatrix, annot=True)"
   ]
  },
  {
   "cell_type": "markdown",
   "metadata": {},
   "source": [
    "We can see here that the mean of the price and the mean of the grades are highly correlated with the classes that we established"
   ]
  },
  {
   "cell_type": "code",
   "execution_count": 9,
   "metadata": {},
   "outputs": [
    {
     "name": "stdout",
     "output_type": "stream",
     "text": [
      "[64.46065559 64.02811453 63.73533248 61.58702222]\n",
      "slope b1 is -0.8913682147756958\n",
      "intercept b0 is 64.78983352488851\n",
      "squared error is 0.9350245322051727\n",
      "mean squared error is 0.23375613305129317\n",
      "root mean square error is 0.483483332754391\n",
      "R square is 0.8094784856957903\n"
     ]
    },
    {
     "data": {
      "image/png": "[encoded data removed]",
      "text/plain": [
       "<Figure size 432x288 with 1 Axes>"
      ]
     },
     "metadata": {
      "needs_background": "light"
     },
     "output_type": "display_data"
    }
   ],
   "source": [
    "x = np.array([0,1,2,3])  \n",
    "y = np.array([np.mean(df[df['Min configuration class']==i]['SteamDB score in %']) for i in range(0,4)]) \n",
    "print(y)\n",
    "n = np.size(x) \n",
    "  \n",
    "x_mean = np.mean(x) \n",
    "y_mean = np.mean(y) \n",
    "x_mean,y_mean\n",
    "  \n",
    "Sxy = np.sum(x*y)- n*x_mean*y_mean \n",
    "Sxx = np.sum(x*x)-n*x_mean*x_mean \n",
    "  \n",
    "b1 = Sxy/Sxx \n",
    "b0 = y_mean-b1*x_mean \n",
    "print('slope b1 is', b1) \n",
    "print('intercept b0 is', b0) \n",
    "  \n",
    "plt.xlabel('Independent variable X') \n",
    "plt.ylabel('Dependent variable y') \n",
    "\n",
    "y_pred = b1 * x + b0 \n",
    "  \n",
    "plt.scatter(x, y, color = 'red') \n",
    "plt.plot(x, y_pred, color = 'green') \n",
    "plt.xlabel('X') \n",
    "plt.ylabel('y')\n",
    "\n",
    "\n",
    "error = y - y_pred \n",
    "se = np.sum(error**2) \n",
    "print('squared error is', se) \n",
    "  \n",
    "mse = se/n  \n",
    "print('mean squared error is', mse) \n",
    "  \n",
    "rmse = np.sqrt(mse) \n",
    "print('root mean square error is', rmse) \n",
    "  \n",
    "SSt = np.sum((y - y_mean)**2) \n",
    "R2 = 1- (se/SSt) \n",
    "print('R square is', R2) "
   ]
  },
  {
   "cell_type": "markdown",
   "metadata": {},
   "source": [
    "## Linear regression with all observations"
   ]
  },
  {
   "cell_type": "code",
   "execution_count": 85,
   "metadata": {
    "scrolled": true
   },
   "outputs": [
    {
     "name": "stdout",
     "output_type": "stream",
     "text": [
      "                            OLS Regression Results                            \n",
      "==============================================================================\n",
      "Dep. Variable:     SteamDB score in %   R-squared:                       0.920\n",
      "Model:                            OLS   Adj. R-squared:                  0.920\n",
      "Method:                 Least Squares   F-statistic:                 4.898e+04\n",
      "Date:                Mon, 11 Jan 2021   Prob (F-statistic):               0.00\n",
      "Time:                        17:07:43   Log-Likelihood:                -47757.\n",
      "No. Observations:               17130   AIC:                         9.552e+04\n",
      "Df Residuals:                   17125   BIC:                         9.556e+04\n",
      "Df Model:                           4                                         \n",
      "Covariance Type:            nonrobust                                         \n",
      "==============================================================================\n",
      "                 coef    std err          t      P>|t|      [0.025      0.975]\n",
      "------------------------------------------------------------------------------\n",
      "const         17.5948      0.114    154.376      0.000      17.371      17.818\n",
      "x1             0.0598      0.005     11.052      0.000       0.049       0.070\n",
      "x2             0.0005   1.33e-05     36.327      0.000       0.000       0.001\n",
      "x3             0.6555      0.002    432.283      0.000       0.652       0.658\n",
      "x4            -0.0815      0.031     -2.596      0.009      -0.143      -0.020\n",
      "==============================================================================\n",
      "Omnibus:                      736.572   Durbin-Watson:                   1.948\n",
      "Prob(Omnibus):                  0.000   Jarque-Bera (JB):             2426.011\n",
      "Skew:                           0.072   Prob(JB):                         0.00\n",
      "Kurtosis:                       4.838   Cond. No.                     8.75e+03\n",
      "==============================================================================\n",
      "\n",
      "Warnings:\n",
      "[1] Standard Errors assume that the covariance matrix of the errors is correctly specified.\n",
      "[2] The condition number is large, 8.75e+03. This might indicate that there are\n",
      "strong multicollinearity or other numerical problems.\n"
     ]
    }
   ],
   "source": [
    "prices = df['Current price in €']\n",
    "nb_reviews = df['Number of reviews']\n",
    "positive_rate = df['Positive rate in reviews in %']\n",
    "steamDB_score = df['SteamDB score in %']\n",
    "conf_class = df['Min configuration class']\n",
    "n = len(prices)\n",
    "const = np.ones(n)\n",
    "X = np.column_stack((const, prices, nb_reviews, positive_rate, conf_class))\n",
    "model = sm.OLS(steamDB_score, X)\n",
    "results = model.fit()\n",
    "print(results.summary())"
   ]
  },
  {
   "cell_type": "markdown",
   "metadata": {},
   "source": [
    "## Linear regression with only paid games"
   ]
  },
  {
   "cell_type": "code",
   "execution_count": 4,
   "metadata": {
    "scrolled": true
   },
   "outputs": [
    {
     "name": "stdout",
     "output_type": "stream",
     "text": [
      "                            OLS Regression Results                            \n",
      "==============================================================================\n",
      "Dep. Variable:     SteamDB score in %   R-squared:                       0.921\n",
      "Model:                            OLS   Adj. R-squared:                  0.921\n",
      "Method:                 Least Squares   F-statistic:                 4.170e+04\n",
      "Date:                Mon, 11 Jan 2021   Prob (F-statistic):               0.00\n",
      "Time:                        16:10:37   Log-Likelihood:                -40035.\n",
      "No. Observations:               14364   AIC:                         8.008e+04\n",
      "Df Residuals:                   14359   BIC:                         8.012e+04\n",
      "Df Model:                           4                                         \n",
      "Covariance Type:            nonrobust                                         \n",
      "==============================================================================\n",
      "                 coef    std err          t      P>|t|      [0.025      0.975]\n",
      "------------------------------------------------------------------------------\n",
      "const         17.8158      0.123    145.362      0.000      17.576      18.056\n",
      "x1             0.0767      0.006     13.310      0.000       0.065       0.088\n",
      "x2             0.0005   1.46e-05     32.618      0.000       0.000       0.001\n",
      "x3             0.6493      0.002    397.584      0.000       0.646       0.653\n",
      "x4            -0.0552      0.035     -1.560      0.119      -0.125       0.014\n",
      "==============================================================================\n",
      "Omnibus:                      648.522   Durbin-Watson:                   1.948\n",
      "Prob(Omnibus):                  0.000   Jarque-Bera (JB):             2033.841\n",
      "Skew:                           0.144   Prob(JB):                         0.00\n",
      "Kurtosis:                       4.821   Cond. No.                     8.59e+03\n",
      "==============================================================================\n",
      "\n",
      "Warnings:\n",
      "[1] Standard Errors assume that the covariance matrix of the errors is correctly specified.\n",
      "[2] The condition number is large, 8.59e+03. This might indicate that there are\n",
      "strong multicollinearity or other numerical problems.\n"
     ]
    }
   ],
   "source": [
    "paying_games = prices != 0.\n",
    "paying_prices = prices[paying_games]\n",
    "paying_nb_reviews = nb_reviews[paying_games]\n",
    "paying_positive_rate = positive_rate[paying_games]\n",
    "paying_steamDB_score = steamDB_score[paying_games]\n",
    "paying_conf_class = conf_class[paying_games]\n",
    "n_1 = len(paying_prices)\n",
    "const_1 = np.ones(n_1)\n",
    "X_paying = np.column_stack((const_1, paying_prices, paying_nb_reviews, paying_positive_rate, paying_conf_class))\n",
    "model_paying = sm.OLS(paying_steamDB_score, X_paying)\n",
    "results_paying = model_paying.fit()\n",
    "print(results_paying.summary())"
   ]
  },
  {
   "cell_type": "code",
   "execution_count": 68,
   "metadata": {
    "scrolled": true
   },
   "outputs": [
    {
     "name": "stdout",
     "output_type": "stream",
     "text": [
      "Proportion of low grades < 50%\n",
      "class 0: 13.993312392339648\n",
      "class 1: 15.307262569832403\n",
      "class 2: 14.199914199914199\n",
      "class 3: 17.555555555555554\n"
     ]
    }
   ],
   "source": [
    "print('Proportion of low grades < 50%')\n",
    "low_grades_0 = score_0[score_0 < 50]\n",
    "prop_low_grades_0 = len(low_grades_0) / len(score_0) * 100\n",
    "print('class 0:', prop_low_grades_0)\n",
    "low_grades_1 = score_1[score_1 < 50]\n",
    "prop_low_grades_1 = len(low_grades_1) / len(score_1) * 100\n",
    "print('class 1:', prop_low_grades_1)\n",
    "low_grades_2 = score_2[score_2 < 50]\n",
    "prop_low_grades_2 = len(low_grades_2) / len(score_2) * 100\n",
    "print('class 2:', prop_low_grades_2)\n",
    "low_grades_3 = score_3[score_3 < 50]\n",
    "prop_low_grades_3 = len(low_grades_3) / len(score_3) * 100\n",
    "print('class 3:', prop_low_grades_3)"
   ]
  },
  {
   "cell_type": "code",
   "execution_count": 67,
   "metadata": {
    "scrolled": true
   },
   "outputs": [
    {
     "name": "stdout",
     "output_type": "stream",
     "text": [
      "Proportion of good grades > 80%\n",
      "class 0: 13.89198500354646\n",
      "class 1: 14.24581005586592\n",
      "class 2: 12.312312312312311\n",
      "class 3: 8.592592592592592\n"
     ]
    }
   ],
   "source": [
    "print('Proportion of good grades > 80%')\n",
    "good_grades_0 = score_0[score_0 > 80]\n",
    "prop_good_grades_0 = len(good_grades_0) / len(score_0) * 100\n",
    "print('class 0:', prop_good_grades_0)\n",
    "good_grades_1 = score_1[score_1 > 80]\n",
    "prop_good_grades_1 = len(good_grades_1) / len(score_1) * 100\n",
    "print('class 1:', prop_good_grades_1)\n",
    "good_grades_2 = score_2[score_2 > 80]\n",
    "prop_good_grades_2 = len(good_grades_2) / len(score_2) * 100\n",
    "print('class 2:', prop_good_grades_2)\n",
    "good_grades_3 = score_3[score_3 > 80]\n",
    "prop_good_grades_3 = len(good_grades_3) / len(score_3) * 100\n",
    "print('class 3:', prop_good_grades_3)"
   ]
  },
  {
   "cell_type": "code",
   "execution_count": null,
   "metadata": {},
   "outputs": [],
   "source": []
  }
 ],
 "metadata": {
  "kernelspec": {
   "display_name": "Python 3",
   "language": "python",
   "name": "python3"
  },
  "language_info": {
   "codemirror_mode": {
    "name": "ipython",
    "version": 3
   },
   "file_extension": ".py",
   "mimetype": "text/x-python",
   "name": "python",
   "nbconvert_exporter": "python",
   "pygments_lexer": "ipython3",
   "version": "3.7.3"
  }
 },
 "nbformat": 4,
 "nbformat_minor": 4
}
