{
 "cells": [
  {
   "cell_type": "code",
   "execution_count": 212,
   "metadata": {},
   "outputs": [
    {
     "data": {
      "text/html": [
       "<div>\n",
       "<style scoped>\n",
       "    .dataframe tbody tr th:only-of-type {\n",
       "        vertical-align: middle;\n",
       "    }\n",
       "\n",
       "    .dataframe tbody tr th {\n",
       "        vertical-align: top;\n",
       "    }\n",
       "\n",
       "    .dataframe thead th {\n",
       "        text-align: right;\n",
       "    }\n",
       "</style>\n",
       "<table border=\"1\" class=\"dataframe\">\n",
       "  <thead>\n",
       "    <tr style=\"text-align: right;\">\n",
       "      <th></th>\n",
       "      <th>Game ID</th>\n",
       "      <th>Genres</th>\n",
       "      <th>Developers</th>\n",
       "      <th>Publishers</th>\n",
       "      <th>Release date</th>\n",
       "      <th>Current price in €</th>\n",
       "      <th>Number of reviews</th>\n",
       "      <th>Positive rate in reviews in %</th>\n",
       "      <th>SteamDB score in %</th>\n",
       "      <th>Minimum requirements</th>\n",
       "      <th>Min configuration class</th>\n",
       "    </tr>\n",
       "  </thead>\n",
       "  <tbody>\n",
       "    <tr>\n",
       "      <th>0</th>\n",
       "      <td>568070</td>\n",
       "      <td>['Action', 'Adventure', 'Indie']</td>\n",
       "      <td>['Triplevision Games']</td>\n",
       "      <td>['Graffiti Games']</td>\n",
       "      <td>2019-08-23</td>\n",
       "      <td>3.12</td>\n",
       "      <td>58</td>\n",
       "      <td>60.0</td>\n",
       "      <td>57.31</td>\n",
       "      <td>{'Processor': ' 2ghz dual core cpu', 'Memory':...</td>\n",
       "      <td>1</td>\n",
       "    </tr>\n",
       "    <tr>\n",
       "      <th>1</th>\n",
       "      <td>568090</td>\n",
       "      <td>['Action', 'Indie']</td>\n",
       "      <td>['Waygetter Electronics']</td>\n",
       "      <td>['Little Flag Software, LLC']</td>\n",
       "      <td>2016-12-28</td>\n",
       "      <td>2.39</td>\n",
       "      <td>2027</td>\n",
       "      <td>91.0</td>\n",
       "      <td>87.13</td>\n",
       "      <td>{'Processor': ' 2.0 ghz dual core processor', ...</td>\n",
       "      <td>1</td>\n",
       "    </tr>\n",
       "    <tr>\n",
       "      <th>2</th>\n",
       "      <td>568130</td>\n",
       "      <td>['Action', 'Adventure', 'Indie']</td>\n",
       "      <td>['Nickana Studio']</td>\n",
       "      <td>['Nickana Studio']</td>\n",
       "      <td>2017-01-03</td>\n",
       "      <td>3.99</td>\n",
       "      <td>20</td>\n",
       "      <td>65.0</td>\n",
       "      <td>59.00</td>\n",
       "      <td>{'Processor': ' 1.4ghz or faster', 'Memory': '...</td>\n",
       "      <td>0</td>\n",
       "    </tr>\n",
       "    <tr>\n",
       "      <th>3</th>\n",
       "      <td>568180</td>\n",
       "      <td>['Action', 'Adventure', 'Indie']</td>\n",
       "      <td>['Sword Twin Studios Ltd.']</td>\n",
       "      <td>['Sword Twin Studios Ltd.']</td>\n",
       "      <td>2017-03-31</td>\n",
       "      <td>0.00</td>\n",
       "      <td>12</td>\n",
       "      <td>92.0</td>\n",
       "      <td>72.42</td>\n",
       "      <td>{'Processor': ' 2.5 ghz dual core', 'Memory': ...</td>\n",
       "      <td>1</td>\n",
       "    </tr>\n",
       "    <tr>\n",
       "      <th>4</th>\n",
       "      <td>568200</td>\n",
       "      <td>['Casual', 'Indie']</td>\n",
       "      <td>['Bruno Freitas']</td>\n",
       "      <td>['Bruno Freitas']</td>\n",
       "      <td>2016-12-19</td>\n",
       "      <td>1.99</td>\n",
       "      <td>28</td>\n",
       "      <td>93.0</td>\n",
       "      <td>77.30</td>\n",
       "      <td>{'Processor': ' intel/amd dual core 1,2ghz', '...</td>\n",
       "      <td>1</td>\n",
       "    </tr>\n",
       "  </tbody>\n",
       "</table>\n",
       "</div>"
      ],
      "text/plain": [
       "   Game ID                            Genres                   Developers  \\\n",
       "0   568070  ['Action', 'Adventure', 'Indie']       ['Triplevision Games']   \n",
       "1   568090               ['Action', 'Indie']    ['Waygetter Electronics']   \n",
       "2   568130  ['Action', 'Adventure', 'Indie']           ['Nickana Studio']   \n",
       "3   568180  ['Action', 'Adventure', 'Indie']  ['Sword Twin Studios Ltd.']   \n",
       "4   568200               ['Casual', 'Indie']            ['Bruno Freitas']   \n",
       "\n",
       "                      Publishers Release date  Current price in €  \\\n",
       "0             ['Graffiti Games']   2019-08-23                3.12   \n",
       "1  ['Little Flag Software, LLC']   2016-12-28                2.39   \n",
       "2             ['Nickana Studio']   2017-01-03                3.99   \n",
       "3    ['Sword Twin Studios Ltd.']   2017-03-31                0.00   \n",
       "4              ['Bruno Freitas']   2016-12-19                1.99   \n",
       "\n",
       "   Number of reviews  Positive rate in reviews in %  SteamDB score in %  \\\n",
       "0                 58                           60.0               57.31   \n",
       "1               2027                           91.0               87.13   \n",
       "2                 20                           65.0               59.00   \n",
       "3                 12                           92.0               72.42   \n",
       "4                 28                           93.0               77.30   \n",
       "\n",
       "                                Minimum requirements  Min configuration class  \n",
       "0  {'Processor': ' 2ghz dual core cpu', 'Memory':...                        1  \n",
       "1  {'Processor': ' 2.0 ghz dual core processor', ...                        1  \n",
       "2  {'Processor': ' 1.4ghz or faster', 'Memory': '...                        0  \n",
       "3  {'Processor': ' 2.5 ghz dual core', 'Memory': ...                        1  \n",
       "4  {'Processor': ' intel/amd dual core 1,2ghz', '...                        1  "
      ]
     },
     "execution_count": 212,
     "metadata": {},
     "output_type": "execute_result"
    }
   ],
   "source": [
    "import pandas as pd \n",
    "import numpy as np\n",
    "import matplotlib.pyplot as plt\n",
    "import seaborn as sn\n",
    "\n",
    "df = pd.read_csv('formated_data_new.csv')\n",
    "df.head(5)"
   ]
  },
  {
   "cell_type": "markdown",
   "metadata": {},
   "source": [
    "## Analysis of the distribution of the Positive rate in reviews according to class"
   ]
  },
  {
   "cell_type": "code",
   "execution_count": 160,
   "metadata": {},
   "outputs": [
    {
     "name": "stdout",
     "output_type": "stream",
     "text": [
      "Stats of of Min configuration of class  0\n",
      "count    9869.00000\n",
      "mean       71.14125\n",
      "std        20.12185\n",
      "min         0.00000\n",
      "25%        59.00000\n",
      "50%        75.00000\n",
      "75%        88.00000\n",
      "max       100.00000\n",
      "Name: Positive rate in reviews in %, dtype: float64 \n",
      "\n",
      "Stats of of Min configuration of class  1\n",
      "count    3580.000000\n",
      "mean       69.793017\n",
      "std        19.991418\n",
      "min         0.000000\n",
      "25%        56.000000\n",
      "50%        74.000000\n",
      "75%        86.000000\n",
      "max       100.000000\n",
      "Name: Positive rate in reviews in %, dtype: float64 \n",
      "\n",
      "Stats of of Min configuration of class  2\n",
      "count    2331.000000\n",
      "mean       69.891892\n",
      "std        19.306348\n",
      "min         5.000000\n",
      "25%        57.000000\n",
      "50%        74.000000\n",
      "75%        86.000000\n",
      "max        99.000000\n",
      "Name: Positive rate in reviews in %, dtype: float64 \n",
      "\n",
      "Stats of of Min configuration of class  3\n",
      "count    1350.000000\n",
      "mean       66.771111\n",
      "std        19.886973\n",
      "min         7.000000\n",
      "25%        52.250000\n",
      "50%        70.000000\n",
      "75%        83.000000\n",
      "max       100.000000\n",
      "Name: Positive rate in reviews in %, dtype: float64 \n",
      "\n"
     ]
    }
   ],
   "source": [
    "for i in range(0,4):\n",
    "    print(\"Stats of of Min configuration of class \", i)\n",
    "    print(df[df['Min configuration class']==i]['Positive rate in reviews in %'].describe(), \"\\n\")"
   ]
  },
  {
   "cell_type": "markdown",
   "metadata": {},
   "source": [
    "The number of positive reviews seems to decrease more the recommended config are high. The mean seems to gradually decrease."
   ]
  },
  {
   "cell_type": "code",
   "execution_count": 153,
   "metadata": {},
   "outputs": [
    {
     "data": {
      "image/png": "[encoded data removed]",
      "text/plain": [
       "<Figure size 432x288 with 1 Axes>"
      ]
     },
     "metadata": {
      "needs_background": "light"
     },
     "output_type": "display_data"
    },
    {
     "data": {
      "image/png": "[encoded data removed]",
      "text/plain": [
       "<Figure size 432x288 with 1 Axes>"
      ]
     },
     "metadata": {
      "needs_background": "light"
     },
     "output_type": "display_data"
    }
   ],
   "source": [
    "class_0 = df[df['Min configuration class']==0]\n",
    "class_3 = df[df['Min configuration class']==3]\n",
    "\n",
    "plt.figure(221)\n",
    "plt.hist(class_0['Positive rate in reviews in %'], color=\"red\")\n",
    "plt.title(\"distribution of the rate of games of class 0\")\n",
    "plt.axvline(class_0['Positive rate in reviews in %'].mean(), color='k', linestyle='dashed', linewidth=1)\n",
    "plt.axvline(df['Positive rate in reviews in %'].mean(), color='yellow', linestyle='dashed', linewidth=1)\n",
    "\n",
    "plt.figure(222)\n",
    "plt.hist(class_3['Positive rate in reviews in %'], color=\"blue\")\n",
    "plt.title(\"distribution of the rate of games of class 3\")\n",
    "plt.axvline(class_3['Positive rate in reviews in %'].mean(), color='k', linestyle='dashed', linewidth=1)\n",
    "plt.axvline(df['Positive rate in reviews in %'].mean(), color='yellow', linestyle='dashed', linewidth=1)\n",
    "\n",
    "plt.show()"
   ]
  },
  {
   "cell_type": "markdown",
   "metadata": {},
   "source": [
    "The mean of the grades of class 3 is a bit lower than those of class 0. We can see that this is because the distribution is bit different. For class 3, not many games have a very high grade (above 90). Furthermore, the grade are uch more distributed with many more games having a low grade (below 50) "
   ]
  },
  {
   "cell_type": "code",
   "execution_count": 162,
   "metadata": {},
   "outputs": [
    {
     "name": "stdout",
     "output_type": "stream",
     "text": [
      "overall proportion of low grades:  14.530064214827787\n",
      "class 0 proportion of low grades:  13.973046914581012\n",
      "class 3 proportion of low grades:  17.40740740740741 \n",
      "\n",
      "overall proportion of very high grades:  15.726795096322242\n",
      "class 0 proportion of very high grades:  17.26618705035971\n",
      "class 3 proportion of very high grades:  9.481481481481481\n"
     ]
    }
   ],
   "source": [
    "low_grades = df[df['Positive rate in reviews in %']<50]\n",
    "very_high_grades = df[df['Positive rate in reviews in %']>90]\n",
    "\n",
    "print(\"overall proportion of low grades: \",  100*len(low_grades)/len(df))\n",
    "print(\"class 0 proportion of low grades: \", 100*len(low_grades[low_grades['Min configuration class']==0])/len(class_0))\n",
    "print(\"class 3 proportion of low grades: \", 100*len(low_grades[low_grades['Min configuration class']==3])/len(class_3), \"\\n\")\n",
    "\n",
    "print(\"overall proportion of very high grades: \",  100*len(very_high_grades)/len(df))\n",
    "print(\"class 0 proportion of very high grades: \", 100*len(very_high_grades[very_high_grades['Min configuration class']==0])/len(class_0))\n",
    "print(\"class 3 proportion of very high grades: \", 100*len(very_high_grades[very_high_grades['Min configuration class']==3])/len(class_3))\n"
   ]
  },
  {
   "cell_type": "markdown",
   "metadata": {},
   "source": [
    "Class 3 has a higher propotion of low graded games and a much lower proportion of games with very high grades. Class 0 games have a  higher proportion of games with very high grades than the average"
   ]
  },
  {
   "cell_type": "markdown",
   "metadata": {},
   "source": [
    "## Analysis of the distribution of the Positive rate in reviews according to class"
   ]
  },
  {
   "cell_type": "code",
   "execution_count": 16,
   "metadata": {},
   "outputs": [
    {
     "name": "stdout",
     "output_type": "stream",
     "text": [
      "Number of reviews for class 0\n",
      "count     9876.000000\n",
      "mean       227.531288\n",
      "std       1224.738671\n",
      "min          1.000000\n",
      "25%         10.000000\n",
      "50%         27.000000\n",
      "75%         89.000000\n",
      "max      48827.000000\n",
      "Name: Number of reviews, dtype: float64 \n",
      "\n",
      "Number of reviews for class 1\n",
      "count     3582.000000\n",
      "mean       428.106644\n",
      "std       2503.793843\n",
      "min          0.000000\n",
      "25%         11.000000\n",
      "50%         33.000000\n",
      "75%        126.000000\n",
      "max      78179.000000\n",
      "Name: Number of reviews, dtype: float64 \n",
      "\n",
      "Number of reviews for class 2\n",
      "count     2334.000000\n",
      "mean       494.788346\n",
      "std       3393.197616\n",
      "min          2.000000\n",
      "25%         10.000000\n",
      "50%         25.000000\n",
      "75%         95.750000\n",
      "max      85491.000000\n",
      "Name: Number of reviews, dtype: float64 \n",
      "\n",
      "Number of reviews for class 3\n",
      "count     1350.000000\n",
      "mean       627.913333\n",
      "std       4249.289974\n",
      "min          2.000000\n",
      "25%          9.000000\n",
      "50%         23.000000\n",
      "75%         76.000000\n",
      "max      80911.000000\n",
      "Name: Number of reviews, dtype: float64 \n",
      "\n"
     ]
    }
   ],
   "source": [
    "for i in range(0,4):\n",
    "    print(\"Number of reviews for class\", i)\n",
    "    print(df[df['Min configuration class']==i]['Number of reviews'].describe(), \"\\n\")"
   ]
  },
  {
   "cell_type": "markdown",
   "metadata": {},
   "source": [
    "The mean of the number of reviews per game for class 3 is much higher. The game are more sophisticated and are for a more dedicated community. Thus, the gamers are more likely to leave reviews. Whereas, the mean of the number of reviews per game for class 0 is much lower than average. As the games are likely to be less time-consuming and probably less work was given to it, many games don't have many reviews."
   ]
  },
  {
   "cell_type": "code",
   "execution_count": 19,
   "metadata": {},
   "outputs": [
    {
     "data": {
      "text/plain": [
       "Min configuration class\n",
       "0    400\n",
       "1    228\n",
       "2    155\n",
       "3     88\n",
       "Name: Game ID, dtype: int64"
      ]
     },
     "execution_count": 19,
     "metadata": {},
     "output_type": "execute_result"
    }
   ],
   "source": [
    "df[df['Number of reviews']>1000].groupby('Min configuration class')['Game ID'].count()"
   ]
  },
  {
   "cell_type": "markdown",
   "metadata": {},
   "source": [
    "Even if the mean of the number of review, the vast majority of games have below 100 reviews. The mean of class 3 is much higer but the majority of games with a lot of reviews (above 1000) are of class 0."
   ]
  },
  {
   "cell_type": "markdown",
   "metadata": {},
   "source": [
    "Very low correlation (after modification of table, look at coorelation matric with price and date release)"
   ]
  },
  {
   "cell_type": "code",
   "execution_count": 24,
   "metadata": {
    "scrolled": true
   },
   "outputs": [
    {
     "data": {
      "text/plain": [
       "Text(0,0.5,'Positive rate in reviews')"
      ]
     },
     "execution_count": 24,
     "metadata": {},
     "output_type": "execute_result"
    },
    {
     "data": {
      "image/png": "[encoded data removed]",
      "text/plain": [
       "<Figure size 432x288 with 1 Axes>"
      ]
     },
     "metadata": {
      "needs_background": "light"
     },
     "output_type": "display_data"
    }
   ],
   "source": [
    "plt.scatter(df[df[\"Min configuration class\"]==0]['Number of reviews'], df[df[\"Min configuration class\"]==0]['Positive rate in reviews in %'], color = \"red\")\n",
    "plt.scatter(df[df[\"Min configuration class\"]==1]['Number of reviews'], df[df[\"Min configuration class\"]==1]['Positive rate in reviews in %'], color = \"black\")\n",
    "plt.scatter(df[df[\"Min configuration class\"]==2]['Number of reviews'], df[df[\"Min configuration class\"]==2]['Positive rate in reviews in %'], color = \"black\")\n",
    "plt.scatter(df[df[\"Min configuration class\"]==3]['Number of reviews'], df[df[\"Min configuration class\"]==3]['Positive rate in reviews in %'], color = \"blue\")\n",
    "\n",
    "plt.xlabel(\"Number of reviews\")\n",
    "plt.ylabel(\"Positive rate in reviews\")"
   ]
  },
  {
   "cell_type": "markdown",
   "metadata": {},
   "source": [
    "## Analysis of the genres"
   ]
  },
  {
   "cell_type": "code",
   "execution_count": 26,
   "metadata": {
    "pycharm": {
     "name": "#%%\n"
    }
   },
   "outputs": [
    {
     "name": "stdout",
     "output_type": "stream",
     "text": [
      "count    17142.000000\n",
      "mean        70.338700\n",
      "std         20.001688\n",
      "min          0.000000\n",
      "25%         57.000000\n",
      "50%         75.000000\n",
      "75%         87.000000\n",
      "max        100.000000\n",
      "Name: Positive rate in reviews in %, dtype: float64 \n",
      "\n",
      "count    6925.000000\n",
      "mean       69.262671\n",
      "std        20.084625\n",
      "min         6.000000\n",
      "25%        56.000000\n",
      "50%        73.000000\n",
      "75%        86.000000\n",
      "max        99.000000\n",
      "Name: Positive rate in reviews in %, dtype: float64 \n",
      "\n",
      "count    6735.000000\n",
      "mean       70.726503\n",
      "std        20.158594\n",
      "min         0.000000\n",
      "25%        58.000000\n",
      "50%        75.000000\n",
      "75%        87.000000\n",
      "max       100.000000\n",
      "Name: Positive rate in reviews in %, dtype: float64 \n",
      "\n",
      "count    2986.000000\n",
      "mean       71.119558\n",
      "std        19.143331\n",
      "min         7.000000\n",
      "25%        60.000000\n",
      "50%        75.000000\n",
      "75%        86.000000\n",
      "max       100.000000\n",
      "Name: Positive rate in reviews in %, dtype: float64 \n",
      "\n",
      "count    3171.000000\n",
      "mean       68.845790\n",
      "std        19.246906\n",
      "min         0.000000\n",
      "25%        57.000000\n",
      "50%        72.000000\n",
      "75%        84.500000\n",
      "max       100.000000\n",
      "Name: Positive rate in reviews in %, dtype: float64 \n",
      "\n",
      "count    3602.000000\n",
      "mean       67.477790\n",
      "std        20.360884\n",
      "min         5.000000\n",
      "25%        54.000000\n",
      "50%        71.000000\n",
      "75%        84.000000\n",
      "max        99.000000\n",
      "Name: Positive rate in reviews in %, dtype: float64 \n",
      "\n",
      "count    7145.000000\n",
      "mean       70.119524\n",
      "std        20.190394\n",
      "min         0.000000\n",
      "25%        57.000000\n",
      "50%        75.000000\n",
      "75%        87.000000\n",
      "max       100.000000\n",
      "Name: Positive rate in reviews in %, dtype: float64 \n",
      "\n",
      "count    12804.000000\n",
      "mean        70.923305\n",
      "std         19.941782\n",
      "min          0.000000\n",
      "25%         59.000000\n",
      "50%         75.000000\n",
      "75%         87.000000\n",
      "max        100.000000\n",
      "Name: Positive rate in reviews in %, dtype: float64 \n",
      "\n",
      "count    892.000000\n",
      "mean      67.073991\n",
      "std       19.925707\n",
      "min        7.000000\n",
      "25%       54.750000\n",
      "50%       70.500000\n",
      "75%       83.000000\n",
      "max       99.000000\n",
      "Name: Positive rate in reviews in %, dtype: float64 \n",
      "\n"
     ]
    }
   ],
   "source": [
    "Action = df[df['Genres'].str.contains(\"Action\") == True]\n",
    "Adventure = df[df['Genres'].str.contains(\"Adventure\") == True]\n",
    "RPG = df[df['Genres'].str.contains(\"RPG\") == True]\n",
    "Strategy = df[df['Genres'].str.contains(\"Strategy\") == True]\n",
    "Simulation = df[df['Genres'].str.contains(\"Simulation\") == True]\n",
    "Casual = df[df['Genres'].str.contains(\"Casual\") == True]\n",
    "Indie = df[df['Genres'].str.contains(\"Indie\") == True]\n",
    "Sports = df[df['Genres'].str.contains(\"Sports\") == True]\n",
    "\n",
    "print(df['Positive rate in reviews in %'].describe(), \"\\n\")\n",
    "print(Action['Positive rate in reviews in %'].describe(), \"\\n\")\n",
    "print(Adventure['Positive rate in reviews in %'].describe(), \"\\n\")\n",
    "print(RPG['Positive rate in reviews in %'].describe(), \"\\n\")\n",
    "print(Strategy['Positive rate in reviews in %'].describe(), \"\\n\")\n",
    "print(Simulation['Positive rate in reviews in %'].describe(), \"\\n\")\n",
    "print(Casual['Positive rate in reviews in %'].describe(), \"\\n\")\n",
    "print(Indie['Positive rate in reviews in %'].describe(), \"\\n\")\n",
    "print(Sports['Positive rate in reviews in %'].describe(), \"\\n\")"
   ]
  },
  {
   "cell_type": "code",
   "execution_count": 27,
   "metadata": {
    "scrolled": true
   },
   "outputs": [
    {
     "data": {
      "image/png": "[encoded data removed]",
      "text/plain": [
       "<Figure size 1080x576 with 8 Axes>"
      ]
     },
     "metadata": {
      "needs_background": "light"
     },
     "output_type": "display_data"
    }
   ],
   "source": [
    "plt.figure(figsize=(15,8))\n",
    "\n",
    "plt.subplot(241)\n",
    "plt.hist(Action[Action['Min configuration class']==0]['Positive rate in reviews in %'], color=\"navy\", label = 'class 0')\n",
    "plt.hist(Action[Action['Min configuration class']==1]['Positive rate in reviews in %'], color=\"blue\", label = 'class 1')\n",
    "plt.hist(Action[Action['Min configuration class']==2]['Positive rate in reviews in %'], color=\"mediumpurple\", label = 'class 2')\n",
    "plt.hist(Action[Action['Min configuration class']==3]['Positive rate in reviews in %'], color=\"plum\", label = 'class 3')\n",
    "plt.legend()\n",
    "plt.title(\"Positive rate of Action\")\n",
    "plt.axvline(Action['Positive rate in reviews in %'].mean(), color='k', linestyle='dashed', linewidth=1)\n",
    "\n",
    "\n",
    "plt.subplot(242)\n",
    "plt.hist(Adventure[Adventure['Min configuration class']==0]['Positive rate in reviews in %'], color=\"navy\", label = 'class 0')\n",
    "plt.hist(Adventure[Adventure['Min configuration class']==1]['Positive rate in reviews in %'], color=\"blue\", label = 'class 1')\n",
    "plt.hist(Adventure[Adventure['Min configuration class']==2]['Positive rate in reviews in %'], color=\"mediumpurple\", label = 'class 2')\n",
    "plt.hist(Adventure[Adventure['Min configuration class']==3]['Positive rate in reviews in %'], color=\"plum\", label = 'class 3')\n",
    "plt.legend()\n",
    "plt.title(\"Positive rate of Adventure\")\n",
    "plt.axvline(Adventure['Positive rate in reviews in %'].mean(), color='k', linestyle='dashed', linewidth=1)\n",
    "\n",
    "plt.subplot(243)\n",
    "plt.hist(RPG[RPG['Min configuration class']==0]['Positive rate in reviews in %'], color=\"navy\", label = 'class 0')\n",
    "plt.hist(RPG[RPG['Min configuration class']==1]['Positive rate in reviews in %'], color=\"blue\", label = 'class 1')\n",
    "plt.hist(RPG[RPG['Min configuration class']==2]['Positive rate in reviews in %'], color=\"mediumpurple\", label = 'class 2')\n",
    "plt.hist(RPG[RPG['Min configuration class']==3]['Positive rate in reviews in %'], color=\"plum\", label = 'class 3')\n",
    "plt.legend()\n",
    "plt.title(\"Positive rate of RPG\")\n",
    "plt.axvline(RPG['Positive rate in reviews in %'].mean(), color='k', linestyle='dashed', linewidth=1)\n",
    "\n",
    "plt.subplot(244)\n",
    "plt.hist(Strategy[Strategy['Min configuration class']==0]['Positive rate in reviews in %'], color=\"navy\", label = 'class 0')\n",
    "plt.hist(Strategy[Strategy['Min configuration class']==1]['Positive rate in reviews in %'], color=\"blue\", label = 'class 1')\n",
    "plt.hist(Strategy[Strategy['Min configuration class']==2]['Positive rate in reviews in %'], color=\"mediumpurple\", label = 'class 2')\n",
    "plt.hist(Strategy[Strategy['Min configuration class']==3]['Positive rate in reviews in %'], color=\"plum\", label = 'class 3')\n",
    "plt.legend()\n",
    "plt.title(\"Positive rate of Strategy\")\n",
    "plt.axvline(Strategy['Positive rate in reviews in %'].mean(), color='k', linestyle='dashed', linewidth=1)\n",
    "\n",
    "plt.subplot(245)\n",
    "plt.hist(Simulation[Simulation['Min configuration class']==0]['Positive rate in reviews in %'], color=\"navy\", label = 'class 0')\n",
    "plt.hist(Simulation[Simulation['Min configuration class']==1]['Positive rate in reviews in %'], color=\"blue\", label = 'class 1')\n",
    "plt.hist(Simulation[Simulation['Min configuration class']==2]['Positive rate in reviews in %'], color=\"mediumpurple\", label = 'class 2')\n",
    "plt.hist(Simulation[Simulation['Min configuration class']==3]['Positive rate in reviews in %'], color=\"plum\", label = 'class 3')\n",
    "plt.legend()\n",
    "plt.title(\"Positive rate of Simulation\")\n",
    "plt.axvline(Simulation['Positive rate in reviews in %'].mean(), color='k', linestyle='dashed', linewidth=1)\n",
    "\n",
    "plt.subplot(246)\n",
    "plt.hist(Casual[Casual['Min configuration class']==0]['Positive rate in reviews in %'], color=\"navy\", label = 'class 0')\n",
    "plt.hist(Casual[Casual['Min configuration class']==1]['Positive rate in reviews in %'], color=\"blue\", label = 'class 1')\n",
    "plt.hist(Casual[Casual['Min configuration class']==2]['Positive rate in reviews in %'], color=\"mediumpurple\", label = 'class 2')\n",
    "plt.hist(Casual[Casual['Min configuration class']==3]['Positive rate in reviews in %'], color=\"plum\", label = 'class 3')\n",
    "plt.legend()\n",
    "plt.title(\"Positive rate of Casual\")\n",
    "plt.axvline(Casual['Positive rate in reviews in %'].mean(), color='k', linestyle='dashed', linewidth=1)\n",
    "\n",
    "plt.subplot(247)\n",
    "plt.hist(Indie[Indie['Min configuration class']==0]['Positive rate in reviews in %'], color=\"navy\", label = 'class 0')\n",
    "plt.hist(Indie[Indie['Min configuration class']==1]['Positive rate in reviews in %'], color=\"blue\", label = 'class 1')\n",
    "plt.hist(Indie[Indie['Min configuration class']==2]['Positive rate in reviews in %'], color=\"mediumpurple\", label = 'class 2')\n",
    "plt.hist(Indie[Indie['Min configuration class']==3]['Positive rate in reviews in %'], color=\"plum\", label = 'class 3')\n",
    "plt.legend()\n",
    "plt.title(\"Positive rate of indie\")\n",
    "plt.axvline(Indie['Positive rate in reviews in %'].mean(), color='k', linestyle='dashed', linewidth=1)\n",
    "\n",
    "plt.subplot(248)\n",
    "plt.hist(Sports[Sports['Min configuration class']==0]['Positive rate in reviews in %'], color=\"navy\", label = 'class 0')\n",
    "plt.hist(Sports[Sports['Min configuration class']==1]['Positive rate in reviews in %'], color=\"blue\", label = 'class 1')\n",
    "plt.hist(Sports[Sports['Min configuration class']==2]['Positive rate in reviews in %'], color=\"mediumpurple\", label = 'class 2')\n",
    "plt.hist(Sports[Sports['Min configuration class']==3]['Positive rate in reviews in %'], color=\"plum\", label = 'class 3')\n",
    "plt.legend()\n",
    "plt.title(\"Positive rate of Sports\")\n",
    "plt.axvline(Sports['Positive rate in reviews in %'].mean(), color='k', linestyle='dashed', linewidth=1)\n",
    "\n",
    "plt.show()"
   ]
  },
  {
   "cell_type": "markdown",
   "metadata": {},
   "source": [
    "There doesn't seem to be any correlation betwen the genre of the game and the rate given by the users. However, these chats show that there isn't the same distribution of classes for each genres. For instance, it seem that Strategy and Casual games don't need to have important material as the porportion of class 2/3 is very low. However, Sports , Simulation and Action games, whose graphics are much more evolved and rapid apparently need more high tech material."
   ]
  },
  {
   "cell_type": "code",
   "execution_count": 155,
   "metadata": {},
   "outputs": [
    {
     "name": "stdout",
     "output_type": "stream",
     "text": [
      "proportion of class 3 :  7.880910683012259\n",
      "proportion of class 3 for simulation game:  10.771793448084397\n"
     ]
    }
   ],
   "source": [
    "print(\"proportion of class 3 : \", 100*len(df[df['Min configuration class']==3])/len(df))\n",
    "print(\"proportion of class 3 for simulation game: \", 100*len(Simulation[Simulation['Min configuration class']==3])/len(Simulation))"
   ]
  },
  {
   "cell_type": "markdown",
   "metadata": {},
   "source": [
    "## Price Analysis"
   ]
  },
  {
   "cell_type": "code",
   "execution_count": 156,
   "metadata": {
    "scrolled": true
   },
   "outputs": [
    {
     "name": "stdout",
     "output_type": "stream",
     "text": [
      "Price for class 0\n",
      "count    9869.000000\n",
      "mean        3.302861\n",
      "std         5.077279\n",
      "min         0.000000\n",
      "25%         0.390000\n",
      "50%         1.590000\n",
      "75%         4.090000\n",
      "max        79.990000\n",
      "Name: Current price in €, dtype: float64 \n",
      "\n",
      "Price for class 1\n",
      "count    3580.000000\n",
      "mean        3.967712\n",
      "std         5.417281\n",
      "min         0.000000\n",
      "25%         0.550000\n",
      "50%         1.990000\n",
      "75%         4.990000\n",
      "max        59.990000\n",
      "Name: Current price in €, dtype: float64 \n",
      "\n",
      "Price for class 2\n",
      "count    2331.000000\n",
      "mean        5.433398\n",
      "std         6.741659\n",
      "min         0.000000\n",
      "25%         0.590000\n",
      "50%         3.490000\n",
      "75%         8.190000\n",
      "max        59.990000\n",
      "Name: Current price in €, dtype: float64 \n",
      "\n",
      "Price for class 3\n",
      "count    1350.000000\n",
      "mean        6.160407\n",
      "std         7.183868\n",
      "min         0.000000\n",
      "25%         0.475000\n",
      "50%         3.990000\n",
      "75%         9.790000\n",
      "max        69.990000\n",
      "Name: Current price in €, dtype: float64 \n",
      "\n"
     ]
    }
   ],
   "source": [
    "for i in range(0,4):\n",
    "    print(\"Price for class\", i)\n",
    "    print(df[df['Min configuration class']==i]['Current price in €'].describe(), \"\\n\")"
   ]
  },
  {
   "cell_type": "code",
   "execution_count": 98,
   "metadata": {
    "scrolled": true
   },
   "outputs": [
    {
     "name": "stdout",
     "output_type": "stream",
     "text": [
      "proportion of free games in class 0 : 15.360469825840422\n",
      "proportion of free games in class 1 : 13.428252372975992\n",
      "proportion of free games in class 2 : 19.794344473007712\n",
      "proportion of free games in class 3 : 22.666666666666668\n"
     ]
    },
    {
     "data": {
      "image/png": "[encoded data removed]",
      "text/plain": [
       "<Figure size 432x288 with 1 Axes>"
      ]
     },
     "metadata": {
      "needs_background": "light"
     },
     "output_type": "display_data"
    }
   ],
   "source": [
    "class_0_f = df.loc[(df['Min configuration class']==0) & (df['Current price in €']==0)]\n",
    "class_1_f = df.loc[(df['Min configuration class']==1) & (df['Current price in €']==0)]\n",
    "class_2_f = df.loc[(df['Min configuration class']==2) & (df['Current price in €']==0)]\n",
    "class_3_f = df.loc[(df['Min configuration class']==3) & (df['Current price in €']==0)]\n",
    "\n",
    "plt.scatter([0,1,2,3],[len(class_0_f), len(class_1_f), len(class_2_f), len(class_3_f)] , color=\"blue\")\n",
    "plt.scatter([0,1,2,3],[len(class_0), len(class_1), len(class_2), len(class_3)] , color=\"red\")\n",
    "print(\"proportion of free games in class 0 :\", 100*len(class_0_f)/len(class_0))\n",
    "print(\"proportion of free games in class 1 :\", 100*len(class_1_f)/len(class_1))\n",
    "print(\"proportion of free games in class 2 :\", 100*len(class_2_f)/len(class_2))\n",
    "print(\"proportion of free games in class 3 :\", 100*len(class_3_f)/len(class_3))"
   ]
  },
  {
   "cell_type": "code",
   "execution_count": 99,
   "metadata": {},
   "outputs": [
    {
     "data": {
      "text/plain": [
       "<matplotlib.collections.PathCollection at 0x244539e06d8>"
      ]
     },
     "execution_count": 99,
     "metadata": {},
     "output_type": "execute_result"
    },
    {
     "data": {
      "image/png": "[encoded data removed]",
      "text/plain": [
       "<Figure size 432x288 with 1 Axes>"
      ]
     },
     "metadata": {
      "needs_background": "light"
     },
     "output_type": "display_data"
    }
   ],
   "source": [
    "mean_p = [np.mean(df[df['Min configuration class']==i]['Current price in €']) for i in range(0,4)]\n",
    "plt.scatter([0,1,2,3], mean_p)"
   ]
  },
  {
   "cell_type": "markdown",
   "metadata": {},
   "source": [
    "We can clearly see that the price and the class that we have created are correlated. The games of class 3 are in averga much pricier than the games of class 0. However, even if the mean of price of class 3 is superior"
   ]
  },
  {
   "cell_type": "code",
   "execution_count": 59,
   "metadata": {},
   "outputs": [
    {
     "data": {
      "image/png": "[encoded data removed]",
      "text/plain": [
       "<Figure size 432x288 with 4 Axes>"
      ]
     },
     "metadata": {
      "needs_background": "light"
     },
     "output_type": "display_data"
    }
   ],
   "source": [
    "class_0 = df[df['Min configuration class']==0]\n",
    "class_1 = df[df['Min configuration class']==1]\n",
    "class_2 = df[df['Min configuration class']==2]\n",
    "class_3 = df[df['Min configuration class']==3]\n",
    "\n",
    "plt.subplot(221)\n",
    "plt.hist(class_0[class_0['Current price in €']<25]['Current price in €'], color=\"blue\")\n",
    "plt.axvline(class_0['Current price in €'].mean(), color='k', linestyle='dashed', linewidth=1)\n",
    "\n",
    "\n",
    "plt.subplot(222)\n",
    "plt.hist(class_1[class_1['Current price in €']<25]['Current price in €'], color=\"blue\")\n",
    "plt.axvline(class_1['Current price in €'].mean(), color='k', linestyle='dashed', linewidth=1)\n",
    "\n",
    "\n",
    "plt.subplot(223)\n",
    "plt.hist(class_2[class_2['Current price in €']<25]['Current price in €'], color=\"blue\")\n",
    "plt.axvline(class_2['Current price in €'].mean(), color='k', linestyle='dashed', linewidth=1)\n",
    "\n",
    "\n",
    "plt.subplot(224)\n",
    "plt.hist(class_3[class_3['Current price in €']<25]['Current price in €'], color=\"blue\")\n",
    "plt.axvline(class_3['Current price in €'].mean(), color='k', linestyle='dashed', linewidth=1)\n",
    "\n",
    "\n",
    "plt.show()"
   ]
  },
  {
   "cell_type": "code",
   "execution_count": 232,
   "metadata": {
    "scrolled": true
   },
   "outputs": [
    {
     "name": "stdout",
     "output_type": "stream",
     "text": [
      "-0.899691485675977\n",
      "-0.9388685977743151\n",
      "-0.9818610484490187\n",
      "-0.9769219056027598\n",
      "-0.9767349672809781\n",
      "-0.9817156590258227\n",
      "-0.9874311619243489\n",
      "-0.996363645195152\n",
      "-0.9911472846085762\n",
      "-0.991901315769374\n",
      "-0.9828903993623466\n",
      "-0.9875134355340206\n",
      "-0.9960609382187166\n",
      "-0.996669455590337\n",
      "-0.9925663110852775\n",
      "-0.9926002783667737\n",
      "-0.9819236218440304\n",
      "-0.9844158049895086\n",
      "-0.9714346987462138\n",
      "-0.9419642082668902\n",
      "-0.9723661398812992\n",
      "-0.9764695339359865\n",
      "-0.9808611538528409\n",
      "-0.9754916777899942\n",
      "-0.943675567978214\n",
      "-0.940149340624103\n",
      "-0.814107458178041\n",
      "-0.826852453557484\n",
      "-0.8048662041877442\n",
      "-0.8264400640697352\n",
      "-0.8463842189827883\n",
      "-0.8908927371323743\n",
      "-0.8849879070788872\n",
      "-0.883095763995705\n",
      "-0.883349118393361\n",
      "-0.8148937252272044\n",
      "-0.8103249026190308\n",
      "-0.7725847276834711\n",
      "-0.7142364889278141\n",
      "-0.6898103287026255\n",
      "-0.6582422062034786\n",
      "-0.6762246857829995\n",
      "-0.6482536749286547\n",
      "-0.5546856960582411\n",
      "-0.5369096091179762\n",
      "-0.7238827957731852\n",
      "-0.7390366645003529\n",
      "-0.7117165634551508\n",
      "-0.6498952376656493\n",
      "-0.6557606482802664\n",
      "-0.6483197693812323\n",
      "-0.5969686185808281\n",
      "-0.5980617334983424\n",
      "-0.6113981446588225\n",
      "-0.6158538677532589\n",
      "-0.5947108038609862\n",
      "-0.5947108038609862\n",
      "-0.5967902141791873\n",
      "-0.5967902141791873\n",
      "-0.528346732599991\n",
      "-0.3116195177242405\n",
      "-0.2652434237055626\n",
      "-0.2759466230274868\n",
      "-0.5077013719841522\n",
      "-0.5575018353362748\n",
      "-0.48945725407857565\n",
      "-0.48945725407857565\n",
      "-0.4853888410951581\n",
      "-0.43081079149200946\n",
      "-0.20376398479229355\n",
      "-0.20376398479229355\n",
      "-0.20376398479229355\n",
      "-0.1916687689536936\n",
      "-0.11001978417626712\n",
      "-0.06036354497077917\n",
      "-0.06036354497077917\n",
      "-0.06036354497077917\n",
      "-0.06036354497077917\n",
      "-0.06036354497077917\n",
      "0.194942458413487\n",
      "0.194942458413487\n",
      "0.194942458413487\n",
      "0.194942458413487\n",
      "0.194942458413487\n",
      "0.20413503392710988\n",
      "0.20413503392710988\n",
      "0.20413503392710988\n",
      "0.20584427661814242\n",
      "-0.1442461152661174\n",
      "0.01614496107468816\n",
      "0.01614496107468816\n",
      "0.01614496107468816\n",
      "0.05418386915071911\n",
      "0.05418386915071911\n",
      "0.09748682006690951\n",
      "0.09748682006690951\n",
      "0.09748682006690951\n",
      "0.09748682006690951\n",
      "0.09748682006690951\n",
      "0.0406942745548332\n",
      "0.0406942745548332\n",
      "0.0406942745548332\n",
      "0.0406942745548332\n",
      "0.0406942745548332\n",
      "0.0406942745548332\n",
      "-0.0905926557403312\n",
      "-0.028840965939221135\n",
      "0.0601338173827\n",
      "0.0601338173827\n",
      "0.0601338173827\n",
      "0.0601338173827\n",
      "0.0601338173827\n",
      "0.0601338173827\n",
      "0.0601338173827\n",
      "0.0601338173827\n",
      "0.0601338173827\n",
      "0.0601338173827\n",
      "0.0601338173827\n",
      "0.14419171618000964\n",
      "0.14419171618000964\n",
      "0.1383837093858751\n",
      "0.1383837093858751\n",
      "0.1383837093858751\n",
      "0.19041405418890303\n",
      "0.19041405418890303\n",
      "0.19041405418890303\n",
      "0.19041405418890303\n",
      "0.19041405418890303\n",
      "0.19041405418890303\n",
      "0.19041405418890303\n",
      "0.19041405418890303\n",
      "0.04055912703117944\n",
      "0.04055912703117944\n",
      "0.04055912703117944\n",
      "0.04055912703117944\n",
      "0.04055912703117944\n",
      "0.04055912703117944\n",
      "0.04055912703117944\n",
      "0.04055912703117944\n",
      "0.04055912703117944\n",
      "0.04055912703117944\n",
      "0.017778732296792957\n",
      "0.017778732296792957\n",
      "0.017778732296792957\n",
      "0.017778732296792957\n",
      "0.017778732296792957\n",
      "0.017778732296792957\n",
      "0.017778732296792957\n",
      "0.017778732296792957\n",
      "0.017778732296792957\n",
      "0.017778732296792957\n",
      "0.017778732296792957\n",
      "0.017778732296792957\n",
      "0.017778732296792957\n",
      "0.017778732296792957\n",
      "0.017778732296792957\n",
      "0.017778732296792957\n",
      "0.017778732296792957\n",
      "0.017778732296792957\n",
      "0.017778732296792957\n",
      "0.017778732296792957\n",
      "0.017778732296792957\n",
      "-0.034762915700935565\n",
      "nan\n",
      "nan\n",
      "nan\n",
      "nan\n",
      "nan\n",
      "nan\n",
      "nan\n",
      "nan\n",
      "nan\n",
      "nan\n",
      "nan\n",
      "nan\n",
      "nan\n",
      "nan\n",
      "nan\n",
      "nan\n",
      "nan\n",
      "nan\n",
      "nan\n",
      "nan\n",
      "nan\n",
      "nan\n",
      "nan\n",
      "nan\n",
      "nan\n",
      "nan\n",
      "nan\n",
      "nan\n",
      "nan\n",
      "nan\n",
      "nan\n",
      "nan\n",
      "nan\n",
      "nan\n",
      "nan\n",
      "nan\n",
      "nan\n",
      "nan\n",
      "nan\n",
      "nan\n",
      "nan\n",
      "nan\n",
      "nan\n",
      "nan\n",
      "nan\n",
      "nan\n",
      "nan\n",
      "nan\n",
      "nan\n",
      "nan\n",
      "nan\n",
      "nan\n",
      "nan\n",
      "nan\n",
      "nan\n",
      "nan\n",
      "nan\n",
      "nan\n",
      "nan\n",
      "nan\n",
      "nan\n",
      "nan\n",
      "nan\n",
      "nan\n",
      "nan\n",
      "nan\n",
      "nan\n",
      "nan\n",
      "nan\n",
      "nan\n",
      "nan\n",
      "nan\n",
      "nan\n",
      "nan\n",
      "nan\n",
      "nan\n",
      "nan\n",
      "nan\n",
      "nan\n",
      "nan\n",
      "nan\n",
      "nan\n",
      "nan\n",
      "nan\n",
      "nan\n",
      "nan\n",
      "nan\n",
      "nan\n",
      "nan\n",
      "nan\n",
      "nan\n",
      "nan\n",
      "nan\n",
      "nan\n",
      "nan\n",
      "nan\n",
      "nan\n",
      "nan\n",
      "nan\n",
      "nan\n",
      "nan\n",
      "nan\n",
      "nan\n",
      "nan\n",
      "0\n",
      "0\n"
     ]
    }
   ],
   "source": [
    "\"\"\"corrMatrix = df[[\"Min configuration class\", \"Positive rate in reviews in %\", \"Number of reviews\", \"Current price in €\", \"SteamDB score in %\"]].corr()\n",
    "sn.heatmap(corrMatrix, annot=True)\n",
    "plt.show()\"\"\"\n",
    "\n",
    "for p in np.arange(0,80000,300):\n",
    "    res = 0\n",
    "    prix = 0\n",
    "    zozo = df.loc[(df[\"Number of reviews\"]>p)]\n",
    "    c = np.corrcoef([0,1,2,3], [np.mean(zozo[zozo['Min configuration class']==i]['SteamDB score in %']) for i in range(0,4)])\n",
    "    print(c[0][1])\n",
    "    if c[0][1] < res :\n",
    "        res = c[0][1]\n",
    "        prix = p\n",
    "\n",
    "\n",
    "print(res)\n",
    "print(prix)"
   ]
  },
  {
   "cell_type": "code",
   "execution_count": 238,
   "metadata": {},
   "outputs": [
    {
     "data": {
      "text/plain": [
       "<matplotlib.collections.PathCollection at 0x24458084208>"
      ]
     },
     "execution_count": 238,
     "metadata": {},
     "output_type": "execute_result"
    },
    {
     "data": {
      "image/png": "[encoded data removed]",
      "text/plain": [
       "<Figure size 432x288 with 1 Axes>"
      ]
     },
     "metadata": {
      "needs_background": "light"
     },
     "output_type": "display_data"
    }
   ],
   "source": [
    "x = [0,1,2,3]\n",
    "y = mean_p = [np.mean(df[df['Min configuration class']==i]['SteamDB score in %']) for i in range(0,4)]\n",
    "plt.scatter(x,y)\n",
    "\n",
    "x = [0,1,2,3]\n",
    "zozo = df.loc[df[\"Number of reviews\"]>2500]\n",
    "y1 = mean_p = [np.mean(zozo[zozo['Min configuration class']==i]['SteamDB score in %']) for i in range(0,4)]\n",
    "plt.scatter(x,y1)"
   ]
  },
  {
   "cell_type": "code",
   "execution_count": 236,
   "metadata": {},
   "outputs": [
    {
     "data": {
      "image/png": "[encoded data removed]",
      "text/plain": [
       "<Figure size 432x288 with 1 Axes>"
      ]
     },
     "metadata": {
      "needs_background": "light"
     },
     "output_type": "display_data"
    }
   ],
   "source": [
    "ax = sn.boxplot(x=\"Min configuration class\", y=\"SteamDB score in %\", data=df[df[\"Number of reviews\"]>2500])\n"
   ]
  }
 ],
 "metadata": {
  "kernelspec": {
   "display_name": "Python 3",
   "language": "python",
   "name": "python3"
  },
  "language_info": {
   "codemirror_mode": {
    "name": "ipython",
    "version": 3
   },
   "file_extension": ".py",
   "mimetype": "text/x-python",
   "name": "python",
   "nbconvert_exporter": "python",
   "pygments_lexer": "ipython3",
   "version": "3.7.3"
  }
 },
 "nbformat": 4,
 "nbformat_minor": 4
}
