{
 "cells": [
  {
   "cell_type": "code",
   "execution_count": 40,
   "metadata": {},
   "outputs": [
    {
     "data": {
      "text/html": [
       "<div>\n",
       "<style scoped>\n",
       "    .dataframe tbody tr th:only-of-type {\n",
       "        vertical-align: middle;\n",
       "    }\n",
       "\n",
       "    .dataframe tbody tr th {\n",
       "        vertical-align: top;\n",
       "    }\n",
       "\n",
       "    .dataframe thead th {\n",
       "        text-align: right;\n",
       "    }\n",
       "</style>\n",
       "<table border=\"1\" class=\"dataframe\">\n",
       "  <thead>\n",
       "    <tr style=\"text-align: right;\">\n",
       "      <th></th>\n",
       "      <th>Game ID</th>\n",
       "      <th>Genres</th>\n",
       "      <th>Developers</th>\n",
       "      <th>Publishers</th>\n",
       "      <th>Release date</th>\n",
       "      <th>Current price</th>\n",
       "      <th>Number of reviews</th>\n",
       "      <th>Positive rate in reviews</th>\n",
       "      <th>SteamDB score</th>\n",
       "      <th>Minimum requirements</th>\n",
       "      <th>Recommended requirements</th>\n",
       "      <th>Min configuration class</th>\n",
       "    </tr>\n",
       "  </thead>\n",
       "  <tbody>\n",
       "    <tr>\n",
       "      <th>0</th>\n",
       "      <td>568070</td>\n",
       "      <td>['Action', 'Adventure', 'Indie']</td>\n",
       "      <td>['Triplevision Games']</td>\n",
       "      <td>['Graffiti Games']</td>\n",
       "      <td>23 Aug, 2019</td>\n",
       "      <td>3.12€</td>\n",
       "      <td>58</td>\n",
       "      <td>60.0</td>\n",
       "      <td>57.31</td>\n",
       "      <td>{'Processor': ' 2ghz dual core cpu', 'Memory':...</td>\n",
       "      <td>{}</td>\n",
       "      <td>1</td>\n",
       "    </tr>\n",
       "    <tr>\n",
       "      <th>1</th>\n",
       "      <td>568090</td>\n",
       "      <td>['Action', 'Indie']</td>\n",
       "      <td>['Waygetter Electronics']</td>\n",
       "      <td>['Little Flag Software, LLC']</td>\n",
       "      <td>28 Dec, 2016</td>\n",
       "      <td>2.39€</td>\n",
       "      <td>2027</td>\n",
       "      <td>91.0</td>\n",
       "      <td>87.13</td>\n",
       "      <td>{'Processor': ' 2.0 ghz dual core processor', ...</td>\n",
       "      <td>{}</td>\n",
       "      <td>1</td>\n",
       "    </tr>\n",
       "    <tr>\n",
       "      <th>2</th>\n",
       "      <td>568130</td>\n",
       "      <td>['Action', 'Adventure', 'Indie']</td>\n",
       "      <td>['Nickana Studio']</td>\n",
       "      <td>['Nickana Studio']</td>\n",
       "      <td>3 Jan, 2017</td>\n",
       "      <td>3.99€</td>\n",
       "      <td>20</td>\n",
       "      <td>65.0</td>\n",
       "      <td>59.00</td>\n",
       "      <td>{'Processor': ' 1.4ghz or faster', 'Memory': '...</td>\n",
       "      <td>{}</td>\n",
       "      <td>0</td>\n",
       "    </tr>\n",
       "    <tr>\n",
       "      <th>3</th>\n",
       "      <td>568180</td>\n",
       "      <td>['Action', 'Adventure', 'Indie']</td>\n",
       "      <td>['Sword Twin Studios Ltd.']</td>\n",
       "      <td>['Sword Twin Studios Ltd.']</td>\n",
       "      <td>31 Mar, 2017</td>\n",
       "      <td>0.00€</td>\n",
       "      <td>12</td>\n",
       "      <td>92.0</td>\n",
       "      <td>72.42</td>\n",
       "      <td>{'Processor': ' 2.5 ghz dual core', 'Memory': ...</td>\n",
       "      <td>{}</td>\n",
       "      <td>1</td>\n",
       "    </tr>\n",
       "    <tr>\n",
       "      <th>4</th>\n",
       "      <td>568200</td>\n",
       "      <td>['Casual', 'Indie']</td>\n",
       "      <td>['Bruno Freitas']</td>\n",
       "      <td>['Bruno Freitas']</td>\n",
       "      <td>19 Dec, 2016</td>\n",
       "      <td>1.99€</td>\n",
       "      <td>28</td>\n",
       "      <td>93.0</td>\n",
       "      <td>77.30</td>\n",
       "      <td>{'Processor': ' intel/amd dual core 1,2ghz', '...</td>\n",
       "      <td>{'Processor': ' intel(r) celeron(r) cpu  j1800...</td>\n",
       "      <td>1</td>\n",
       "    </tr>\n",
       "    <tr>\n",
       "      <th>...</th>\n",
       "      <td>...</td>\n",
       "      <td>...</td>\n",
       "      <td>...</td>\n",
       "      <td>...</td>\n",
       "      <td>...</td>\n",
       "      <td>...</td>\n",
       "      <td>...</td>\n",
       "      <td>...</td>\n",
       "      <td>...</td>\n",
       "      <td>...</td>\n",
       "      <td>...</td>\n",
       "      <td>...</td>\n",
       "    </tr>\n",
       "    <tr>\n",
       "      <th>17179</th>\n",
       "      <td>1044490</td>\n",
       "      <td>['Adventure', 'Indie']</td>\n",
       "      <td>['SukeraSparo']</td>\n",
       "      <td>['MangaGamer', 'mirai works']</td>\n",
       "      <td>21 Jun, 2019</td>\n",
       "      <td>9.99€</td>\n",
       "      <td>365</td>\n",
       "      <td>97.0</td>\n",
       "      <td>89.05</td>\n",
       "      <td>{'Processor': ' pentium iii 800mhz', 'Memory':...</td>\n",
       "      <td>{'Processor': 'Not specified', 'Memory': ' 1 G...</td>\n",
       "      <td>0</td>\n",
       "    </tr>\n",
       "    <tr>\n",
       "      <th>17180</th>\n",
       "      <td>1044500</td>\n",
       "      <td>['Animation &amp; Modeling', 'Design &amp; Illustratio...</td>\n",
       "      <td>[\"Sin's Temptation\"]</td>\n",
       "      <td>[\"Sin's Temptation\"]</td>\n",
       "      <td>22 Mar, 2019</td>\n",
       "      <td>1.97€</td>\n",
       "      <td>51</td>\n",
       "      <td>73.0</td>\n",
       "      <td>65.69</td>\n",
       "      <td>{'Processor': ' 2.0 ghz intel i5 or equivalent...</td>\n",
       "      <td>{'Processor': ' 3.4 ghz intel i7 or equivalent...</td>\n",
       "      <td>2</td>\n",
       "    </tr>\n",
       "    <tr>\n",
       "      <th>17181</th>\n",
       "      <td>1044620</td>\n",
       "      <td>['Adventure', 'Casual']</td>\n",
       "      <td>['sprite', 'NekoNyan Ltd.']</td>\n",
       "      <td>['NekoNyan Ltd.', 'HIKARI FIELD']</td>\n",
       "      <td>27 Sep, 2019</td>\n",
       "      <td>22.49€</td>\n",
       "      <td>1788</td>\n",
       "      <td>99.0</td>\n",
       "      <td>93.55</td>\n",
       "      <td>{'Processor': ' 1.3 ghz', 'Memory': ' 4 GB RAM...</td>\n",
       "      <td>{}</td>\n",
       "      <td>0</td>\n",
       "    </tr>\n",
       "    <tr>\n",
       "      <th>17182</th>\n",
       "      <td>1044630</td>\n",
       "      <td>['Adventure', 'Indie', 'RPG']</td>\n",
       "      <td>['Choice of Games']</td>\n",
       "      <td>['Choice of Games']</td>\n",
       "      <td>21 Mar, 2019</td>\n",
       "      <td>2.39€</td>\n",
       "      <td>14</td>\n",
       "      <td>43.0</td>\n",
       "      <td>46.02</td>\n",
       "      <td>{'Processor': 'Not specified', 'Memory': 'Not ...</td>\n",
       "      <td>{}</td>\n",
       "      <td>0</td>\n",
       "    </tr>\n",
       "    <tr>\n",
       "      <th>17183</th>\n",
       "      <td>1044640</td>\n",
       "      <td>['Action', 'Casual', 'Indie', 'Strategy']</td>\n",
       "      <td>['Rumbic Studio']</td>\n",
       "      <td>['HH-Games']</td>\n",
       "      <td>20 Mar, 2019</td>\n",
       "      <td>3.74€</td>\n",
       "      <td>23</td>\n",
       "      <td>70.0</td>\n",
       "      <td>62.05</td>\n",
       "      <td>{'Processor': ' 1.0ghz cpu', 'Memory': ' 128 M...</td>\n",
       "      <td>{'Processor': ' 1.2ghz cpu', 'Memory': ' 256 M...</td>\n",
       "      <td>0</td>\n",
       "    </tr>\n",
       "  </tbody>\n",
       "</table>\n",
       "<p>17184 rows × 12 columns</p>\n",
       "</div>"
      ],
      "text/plain": [
       "       Game ID                                             Genres  \\\n",
       "0       568070                   ['Action', 'Adventure', 'Indie']   \n",
       "1       568090                                ['Action', 'Indie']   \n",
       "2       568130                   ['Action', 'Adventure', 'Indie']   \n",
       "3       568180                   ['Action', 'Adventure', 'Indie']   \n",
       "4       568200                                ['Casual', 'Indie']   \n",
       "...        ...                                                ...   \n",
       "17179  1044490                             ['Adventure', 'Indie']   \n",
       "17180  1044500  ['Animation & Modeling', 'Design & Illustratio...   \n",
       "17181  1044620                            ['Adventure', 'Casual']   \n",
       "17182  1044630                      ['Adventure', 'Indie', 'RPG']   \n",
       "17183  1044640          ['Action', 'Casual', 'Indie', 'Strategy']   \n",
       "\n",
       "                        Developers                         Publishers  \\\n",
       "0           ['Triplevision Games']                 ['Graffiti Games']   \n",
       "1        ['Waygetter Electronics']      ['Little Flag Software, LLC']   \n",
       "2               ['Nickana Studio']                 ['Nickana Studio']   \n",
       "3      ['Sword Twin Studios Ltd.']        ['Sword Twin Studios Ltd.']   \n",
       "4                ['Bruno Freitas']                  ['Bruno Freitas']   \n",
       "...                            ...                                ...   \n",
       "17179              ['SukeraSparo']      ['MangaGamer', 'mirai works']   \n",
       "17180         [\"Sin's Temptation\"]               [\"Sin's Temptation\"]   \n",
       "17181  ['sprite', 'NekoNyan Ltd.']  ['NekoNyan Ltd.', 'HIKARI FIELD']   \n",
       "17182          ['Choice of Games']                ['Choice of Games']   \n",
       "17183            ['Rumbic Studio']                       ['HH-Games']   \n",
       "\n",
       "       Release date Current price  Number of reviews  \\\n",
       "0      23 Aug, 2019         3.12€                 58   \n",
       "1      28 Dec, 2016         2.39€               2027   \n",
       "2       3 Jan, 2017         3.99€                 20   \n",
       "3      31 Mar, 2017         0.00€                 12   \n",
       "4      19 Dec, 2016         1.99€                 28   \n",
       "...             ...           ...                ...   \n",
       "17179  21 Jun, 2019         9.99€                365   \n",
       "17180  22 Mar, 2019         1.97€                 51   \n",
       "17181  27 Sep, 2019        22.49€               1788   \n",
       "17182  21 Mar, 2019         2.39€                 14   \n",
       "17183  20 Mar, 2019         3.74€                 23   \n",
       "\n",
       "       Positive rate in reviews  SteamDB score  \\\n",
       "0                          60.0          57.31   \n",
       "1                          91.0          87.13   \n",
       "2                          65.0          59.00   \n",
       "3                          92.0          72.42   \n",
       "4                          93.0          77.30   \n",
       "...                         ...            ...   \n",
       "17179                      97.0          89.05   \n",
       "17180                      73.0          65.69   \n",
       "17181                      99.0          93.55   \n",
       "17182                      43.0          46.02   \n",
       "17183                      70.0          62.05   \n",
       "\n",
       "                                    Minimum requirements  \\\n",
       "0      {'Processor': ' 2ghz dual core cpu', 'Memory':...   \n",
       "1      {'Processor': ' 2.0 ghz dual core processor', ...   \n",
       "2      {'Processor': ' 1.4ghz or faster', 'Memory': '...   \n",
       "3      {'Processor': ' 2.5 ghz dual core', 'Memory': ...   \n",
       "4      {'Processor': ' intel/amd dual core 1,2ghz', '...   \n",
       "...                                                  ...   \n",
       "17179  {'Processor': ' pentium iii 800mhz', 'Memory':...   \n",
       "17180  {'Processor': ' 2.0 ghz intel i5 or equivalent...   \n",
       "17181  {'Processor': ' 1.3 ghz', 'Memory': ' 4 GB RAM...   \n",
       "17182  {'Processor': 'Not specified', 'Memory': 'Not ...   \n",
       "17183  {'Processor': ' 1.0ghz cpu', 'Memory': ' 128 M...   \n",
       "\n",
       "                                Recommended requirements  \\\n",
       "0                                                     {}   \n",
       "1                                                     {}   \n",
       "2                                                     {}   \n",
       "3                                                     {}   \n",
       "4      {'Processor': ' intel(r) celeron(r) cpu  j1800...   \n",
       "...                                                  ...   \n",
       "17179  {'Processor': 'Not specified', 'Memory': ' 1 G...   \n",
       "17180  {'Processor': ' 3.4 ghz intel i7 or equivalent...   \n",
       "17181                                                 {}   \n",
       "17182                                                 {}   \n",
       "17183  {'Processor': ' 1.2ghz cpu', 'Memory': ' 256 M...   \n",
       "\n",
       "       Min configuration class  \n",
       "0                            1  \n",
       "1                            1  \n",
       "2                            0  \n",
       "3                            1  \n",
       "4                            1  \n",
       "...                        ...  \n",
       "17179                        0  \n",
       "17180                        2  \n",
       "17181                        0  \n",
       "17182                        0  \n",
       "17183                        0  \n",
       "\n",
       "[17184 rows x 12 columns]"
      ]
     },
     "execution_count": 40,
     "metadata": {},
     "output_type": "execute_result"
    }
   ],
   "source": [
    "import pandas as pd \n",
    "import numpy as np\n",
    "import matplotlib.pyplot as plt\n",
    "import seaborn as sn\n",
    "\n",
    "#convert grades into int\n",
    "df = pd.read_csv('data_with_scores.csv') \n",
    "df['Positive rate in reviews'] = df['Positive rate in reviews'].apply(lambda x: np.nan if x in ['-'] else x[:-1]).astype(float)\n",
    "df['SteamDB score'] = df['SteamDB score'].apply(lambda x: np.nan if x in ['-'] else x[:-1]).astype(float)\n",
    "df['Current price'] = df['Current price'].str.replace(',','.')\n",
    "df['Current price'] = df['Current price'].str.replace('-','0')\n",
    "df['Current price'] = df['Current price'].str.replace('Free','0.00€')\n",
    "df"
   ]
  },
  {
   "cell_type": "markdown",
   "metadata": {},
   "source": [
    "## Analysis of the distribution of the Positive rate in reviews according to class"
   ]
  },
  {
   "cell_type": "code",
   "execution_count": 51,
   "metadata": {},
   "outputs": [
    {
     "name": "stdout",
     "output_type": "stream",
     "text": [
      "Stats of of Min configuration of class  0\n",
      "count    9903.000000\n",
      "mean       71.140563\n",
      "std        20.128015\n",
      "min         0.000000\n",
      "25%        59.000000\n",
      "50%        75.000000\n",
      "75%        88.000000\n",
      "max       100.000000\n",
      "Name: Positive rate in reviews, dtype: float64 \n",
      "\n",
      "Stats of of Min configuration of class  1\n",
      "count    3585.000000\n",
      "mean       69.776011\n",
      "std        19.987909\n",
      "min         0.000000\n",
      "25%        56.000000\n",
      "50%        74.000000\n",
      "75%        86.000000\n",
      "max       100.000000\n",
      "Name: Positive rate in reviews, dtype: float64 \n",
      "\n",
      "Stats of of Min configuration of class  2\n",
      "count    2340.000000\n",
      "mean       69.872222\n",
      "std        19.323187\n",
      "min         5.000000\n",
      "25%        57.000000\n",
      "50%        74.000000\n",
      "75%        86.000000\n",
      "max        99.000000\n",
      "Name: Positive rate in reviews, dtype: float64 \n",
      "\n",
      "Stats of of Min configuration of class  3\n",
      "count    1356.000000\n",
      "mean       66.716077\n",
      "std        19.921908\n",
      "min         7.000000\n",
      "25%        52.000000\n",
      "50%        70.000000\n",
      "75%        83.000000\n",
      "max       100.000000\n",
      "Name: Positive rate in reviews, dtype: float64 \n",
      "\n"
     ]
    }
   ],
   "source": [
    "for i in range(0,4):\n",
    "    print(\"Stats of of Min configuration of class \", i)\n",
    "    print(df[df['Min configuration class']==i]['Positive rate in reviews'].describe(), \"\\n\")"
   ]
  },
  {
   "cell_type": "markdown",
   "metadata": {},
   "source": [
    "The number of positive reviews seems to decrease more the recommended config are high. The mean seems to gradually decrease."
   ]
  },
  {
   "cell_type": "code",
   "execution_count": 52,
   "metadata": {},
   "outputs": [
    {
     "data": {
      "image/png": "[encoded data removed]",
      "text/plain": [
       "<Figure size 432x288 with 1 Axes>"
      ]
     },
     "metadata": {
      "needs_background": "light"
     },
     "output_type": "display_data"
    },
    {
     "data": {
      "image/png": "[encoded data removed]",
      "text/plain": [
       "<Figure size 432x288 with 1 Axes>"
      ]
     },
     "metadata": {
      "needs_background": "light"
     },
     "output_type": "display_data"
    }
   ],
   "source": [
    "class_0 = df[df['Min configuration class']==0]\n",
    "class_3 = df[df['Min configuration class']==3]\n",
    "\n",
    "f = plt.figure(1)\n",
    "plt.hist(class_0['Positive rate in reviews'], color=\"red\")\n",
    "plt.title(\"distribution of the rate of games of class 0\")\n",
    "plt.show()\n",
    "\n",
    "g = plt.figure(2)\n",
    "plt.hist(class_3['Positive rate in reviews'], color=\"blue\")\n",
    "plt.title(\"distribution of the rate of games of class 3\")\n",
    "\n",
    "plt.show()"
   ]
  },
  {
   "cell_type": "markdown",
   "metadata": {},
   "source": [
    "The mean of the grades of class 3 is a bit lower than those of class 0. We can see that this is because the distribution is bit different. For class 3, not many games have a very high grade (above 90). Furthermore, the grade are uch more distributed with many more games having a low grade (below 50) "
   ]
  },
  {
   "cell_type": "code",
   "execution_count": 53,
   "metadata": {},
   "outputs": [
    {
     "name": "stdout",
     "output_type": "stream",
     "text": [
      "overall proportion of low grades:  14.565875232774674\n",
      "class 0 proportion of low grades:  13.995758860951227\n",
      "class 3 proportion of low grades:  17.625368731563423 \n",
      "\n",
      "overall proportion of very high grades:  15.735567970204842\n",
      "class 0 proportion of very high grades:  17.287690598808442\n",
      "class 3 proportion of very high grades:  9.43952802359882\n"
     ]
    }
   ],
   "source": [
    "low_grades = df[df['Positive rate in reviews']<50]\n",
    "very_high_grades = df[df['Positive rate in reviews']>90]\n",
    "\n",
    "print(\"overall proportion of low grades: \",  100*len(low_grades)/len(df))\n",
    "print(\"class 0 proportion of low grades: \", 100*len(low_grades[low_grades['Min configuration class']==0])/len(class_0))\n",
    "print(\"class 3 proportion of low grades: \", 100*len(low_grades[low_grades['Min configuration class']==3])/len(class_3), \"\\n\")\n",
    "\n",
    "print(\"overall proportion of very high grades: \",  100*len(very_high_grades)/len(df))\n",
    "print(\"class 0 proportion of very high grades: \", 100*len(very_high_grades[very_high_grades['Min configuration class']==0])/len(class_0))\n",
    "print(\"class 3 proportion of very high grades: \", 100*len(very_high_grades[very_high_grades['Min configuration class']==3])/len(class_3))\n"
   ]
  },
  {
   "cell_type": "markdown",
   "metadata": {},
   "source": [
    "Class 3 has a higher propotion of low graded games and a much lower proportion of games with very high grades. Class 0 games have a  higher proportion of games with very high grades than the average"
   ]
  },
  {
   "cell_type": "markdown",
   "metadata": {},
   "source": [
    "## Analysis of the distribution of the Positive rate in reviews according to class"
   ]
  },
  {
   "cell_type": "code",
   "execution_count": 104,
   "metadata": {},
   "outputs": [
    {
     "name": "stdout",
     "output_type": "stream",
     "text": [
      "Number of reviews for class 0\n",
      "count     9903.000000\n",
      "mean       256.032515\n",
      "std       1713.561327\n",
      "min          1.000000\n",
      "25%         10.000000\n",
      "50%         27.000000\n",
      "75%         89.000000\n",
      "max      77148.000000\n",
      "Name: Number of reviews, dtype: float64 \n",
      "\n",
      "Number of reviews for class 1\n",
      "count     3585.000000\n",
      "mean       427.776290\n",
      "std       2502.771808\n",
      "min          0.000000\n",
      "25%         11.000000\n",
      "50%         33.000000\n",
      "75%        126.000000\n",
      "max      78179.000000\n",
      "Name: Number of reviews, dtype: float64 \n",
      "\n",
      "Number of reviews for class 2\n",
      "count     2340.000000\n",
      "mean       494.891880\n",
      "std       3389.296361\n",
      "min          2.000000\n",
      "25%         10.000000\n",
      "50%         25.000000\n",
      "75%         96.000000\n",
      "max      85491.000000\n",
      "Name: Number of reviews, dtype: float64 \n",
      "\n",
      "Number of reviews for class 3\n",
      "count     1356.000000\n",
      "mean       628.825959\n",
      "std       4241.508661\n",
      "min          2.000000\n",
      "25%          9.000000\n",
      "50%         23.000000\n",
      "75%         76.000000\n",
      "max      80911.000000\n",
      "Name: Number of reviews, dtype: float64 \n",
      "\n"
     ]
    }
   ],
   "source": [
    "for i in range(0,4):\n",
    "    print(\"Number of reviews for class\", i)\n",
    "    print(df[df['Min configuration class']==i]['Number of reviews'].describe(), \"\\n\")"
   ]
  },
  {
   "cell_type": "markdown",
   "metadata": {},
   "source": [
    "The mean of the number of reviews per game for class 3 is much higher. The game are more sophisticated and are for a more dedicated community. Thus, the gamers are more likely to leave reviews. Whereas, the mean of the number of reviews per game for class 0 is much lower than average. As the games are likely to be less time-consuming and probably less work was given to it, many games don't have many reviews."
   ]
  },
  {
   "cell_type": "code",
   "execution_count": 59,
   "metadata": {},
   "outputs": [
    {
     "data": {
      "image/png": "[encoded data removed]",
      "text/plain": [
       "<Figure size 432x288 with 1 Axes>"
      ]
     },
     "metadata": {
      "needs_background": "light"
     },
     "output_type": "display_data"
    },
    {
     "data": {
      "image/png": "[encoded data removed]",
      "text/plain": [
       "<Figure size 432x288 with 1 Axes>"
      ]
     },
     "metadata": {
      "needs_background": "light"
     },
     "output_type": "display_data"
    }
   ],
   "source": [
    "class_0 = df[df['Min configuration class']==0]\n",
    "class_3 = df[df['Min configuration class']==3]\n",
    "\n",
    "f = plt.figure(1)\n",
    "plt.hist(class_0[class_0['Number of reviews']<1000]['Number of reviews'], color=\"red\")\n",
    "plt.show()\n",
    "\n",
    "g = plt.figure(2)\n",
    "plt.hist(class_3[class_3['Number of reviews']<1000]['Number of reviews'], color=\"blue\")\n",
    "plt.show()"
   ]
  },
  {
   "cell_type": "code",
   "execution_count": 56,
   "metadata": {},
   "outputs": [
    {
     "data": {
      "text/plain": [
       "Min configuration class\n",
       "0    411\n",
       "1    228\n",
       "2    156\n",
       "3     89\n",
       "Name: Game ID, dtype: int64"
      ]
     },
     "execution_count": 56,
     "metadata": {},
     "output_type": "execute_result"
    }
   ],
   "source": [
    "df[df['Number of reviews']>1000].groupby('Min configuration class')['Game ID'].count()"
   ]
  },
  {
   "cell_type": "markdown",
   "metadata": {},
   "source": [
    "Even if the mean of the number of review, the vast majority of games have below 100 reviews. The mean of class 3 is much higer but the majority of games with a lot of reviews (above 1000) are of class 0."
   ]
  },
  {
   "cell_type": "markdown",
   "metadata": {},
   "source": [
    "## Analysis of the dependance between number of review, positive rate and class"
   ]
  },
  {
   "cell_type": "code",
   "execution_count": 57,
   "metadata": {},
   "outputs": [
    {
     "data": {
      "image/png": "[encoded data removed]",
      "text/plain": [
       "<Figure size 432x288 with 2 Axes>"
      ]
     },
     "metadata": {
      "needs_background": "light"
     },
     "output_type": "display_data"
    }
   ],
   "source": [
    "corrMatrix = df[[\"Min configuration class\", \"Positive rate in reviews\", \"Number of reviews\"]].corr()\n",
    "sn.heatmap(corrMatrix, annot=True)\n",
    "plt.show()\n"
   ]
  },
  {
   "cell_type": "markdown",
   "metadata": {},
   "source": [
    "Very low correlation (after modification of table, look at coorelation matric with price and date release)"
   ]
  },
  {
   "cell_type": "code",
   "execution_count": 58,
   "metadata": {
    "scrolled": true
   },
   "outputs": [
    {
     "data": {
      "text/plain": [
       "Text(0,0.5,'Positive rate in reviews')"
      ]
     },
     "execution_count": 58,
     "metadata": {},
     "output_type": "execute_result"
    },
    {
     "data": {
      "image/png": "[encoded data removed]",
      "text/plain": [
       "<Figure size 432x288 with 1 Axes>"
      ]
     },
     "metadata": {
      "needs_background": "light"
     },
     "output_type": "display_data"
    }
   ],
   "source": [
    "plt.scatter(df[df[\"Min configuration class\"]==0]['Number of reviews'], df[df[\"Min configuration class\"]==0]['Positive rate in reviews'], color = \"red\")\n",
    "plt.scatter(df[df[\"Min configuration class\"]==1]['Number of reviews'], df[df[\"Min configuration class\"]==1]['Positive rate in reviews'], color = \"black\")\n",
    "plt.scatter(df[df[\"Min configuration class\"]==2]['Number of reviews'], df[df[\"Min configuration class\"]==2]['Positive rate in reviews'], color = \"black\")\n",
    "plt.scatter(df[df[\"Min configuration class\"]==3]['Number of reviews'], df[df[\"Min configuration class\"]==3]['Positive rate in reviews'], color = \"blue\")\n",
    "\n",
    "plt.xlabel(\"Number of reviews\")\n",
    "plt.ylabel(\"Positive rate in reviews\")"
   ]
  },
  {
   "cell_type": "markdown",
   "metadata": {},
   "source": [
    "## Analysis of the genres"
   ]
  },
  {
   "cell_type": "code",
   "execution_count": 56,
   "metadata": {
    "pycharm": {
     "name": "#%%\n"
    }
   },
   "outputs": [
    {
     "name": "stdout",
     "output_type": "stream",
     "text": [
      "count    17133.000000\n",
      "mean        70.351661\n",
      "std         20.006998\n",
      "min          0.000000\n",
      "25%         57.000000\n",
      "50%         75.000000\n",
      "75%         87.000000\n",
      "max        100.000000\n",
      "Name: Positive rate in reviews, dtype: float64 \n",
      "\n",
      "count    6917.000000\n",
      "mean       69.274975\n",
      "std        20.087615\n",
      "min         6.000000\n",
      "25%        56.000000\n",
      "50%        73.000000\n",
      "75%        86.000000\n",
      "max        99.000000\n",
      "Name: Positive rate in reviews, dtype: float64 \n",
      "\n",
      "count    6722.000000\n",
      "mean       70.746206\n",
      "std        20.155928\n",
      "min         0.000000\n",
      "25%        58.000000\n",
      "50%        75.000000\n",
      "75%        87.000000\n",
      "max       100.000000\n",
      "Name: Positive rate in reviews, dtype: float64 \n",
      "\n",
      "count    2982.000000\n",
      "mean       71.142857\n",
      "std        19.154689\n",
      "min         7.000000\n",
      "25%        60.000000\n",
      "50%        75.000000\n",
      "75%        87.000000\n",
      "max       100.000000\n",
      "Name: Positive rate in reviews, dtype: float64 \n",
      "\n",
      "count    3171.000000\n",
      "mean       68.806370\n",
      "std        19.268951\n",
      "min         0.000000\n",
      "25%        57.000000\n",
      "50%        72.000000\n",
      "75%        84.000000\n",
      "max       100.000000\n",
      "Name: Positive rate in reviews, dtype: float64 \n",
      "\n",
      "count    3590.000000\n",
      "mean       67.448747\n",
      "std        20.390299\n",
      "min         5.000000\n",
      "25%        54.000000\n",
      "50%        71.000000\n",
      "75%        84.000000\n",
      "max        99.000000\n",
      "Name: Positive rate in reviews, dtype: float64 \n",
      "\n",
      "count    7136.000000\n",
      "mean       70.125561\n",
      "std        20.189160\n",
      "min         0.000000\n",
      "25%        57.000000\n",
      "50%        75.000000\n",
      "75%        87.000000\n",
      "max       100.000000\n",
      "Name: Positive rate in reviews, dtype: float64 \n",
      "\n",
      "count    12792.000000\n",
      "mean        70.933161\n",
      "std         19.946864\n",
      "min          0.000000\n",
      "25%         59.000000\n",
      "50%         75.000000\n",
      "75%         87.000000\n",
      "max        100.000000\n",
      "Name: Positive rate in reviews, dtype: float64 \n",
      "\n",
      "count    892.000000\n",
      "mean      67.077354\n",
      "std       19.913214\n",
      "min        7.000000\n",
      "25%       55.000000\n",
      "50%       70.000000\n",
      "75%       83.000000\n",
      "max       99.000000\n",
      "Name: Positive rate in reviews, dtype: float64 \n",
      "\n"
     ]
    }
   ],
   "source": [
    "Action = df[df['Genres'].str.contains(\"Action\") == True]\n",
    "Adventure = df[df['Genres'].str.contains(\"Adventure\") == True]\n",
    "RPG = df[df['Genres'].str.contains(\"RPG\") == True]\n",
    "Strategy = df[df['Genres'].str.contains(\"Strategy\") == True]\n",
    "Simulation = df[df['Genres'].str.contains(\"Simulation\") == True]\n",
    "Casual = df[df['Genres'].str.contains(\"Casual\") == True]\n",
    "Indie = df[df['Genres'].str.contains(\"Indie\") == True]\n",
    "Sports = df[df['Genres'].str.contains(\"Sports\") == True]\n",
    "\n",
    "print(df['Positive rate in reviews'].describe(), \"\\n\")\n",
    "print(Action['Positive rate in reviews'].describe(), \"\\n\")\n",
    "print(Adventure['Positive rate in reviews'].describe(), \"\\n\")\n",
    "print(RPG['Positive rate in reviews'].describe(), \"\\n\")\n",
    "print(Strategy['Positive rate in reviews'].describe(), \"\\n\")\n",
    "print(Simulation['Positive rate in reviews'].describe(), \"\\n\")\n",
    "print(Casual['Positive rate in reviews'].describe(), \"\\n\")\n",
    "print(Indie['Positive rate in reviews'].describe(), \"\\n\")\n",
    "print(Sports['Positive rate in reviews'].describe(), \"\\n\")"
   ]
  },
  {
   "cell_type": "code",
   "execution_count": 57,
   "metadata": {
    "scrolled": true
   },
   "outputs": [
    {
     "data": {
      "image/png": "[encoded data removed]",
      "text/plain": [
       "<Figure size 1080x576 with 8 Axes>"
      ]
     },
     "metadata": {
      "needs_background": "light"
     },
     "output_type": "display_data"
    }
   ],
   "source": [
    "plt.figure(figsize=(15,8))\n",
    "\n",
    "plt.subplot(241)\n",
    "plt.hist(Action[Action['Min configuration class']==0]['Positive rate in reviews'], color=\"navy\", label = 'class 0')\n",
    "plt.hist(Action[Action['Min configuration class']==1]['Positive rate in reviews'], color=\"blue\", label = 'class 1')\n",
    "plt.hist(Action[Action['Min configuration class']==2]['Positive rate in reviews'], color=\"mediumpurple\", label = 'class 2')\n",
    "plt.hist(Action[Action['Min configuration class']==3]['Positive rate in reviews'], color=\"plum\", label = 'class 3')\n",
    "plt.legend()\n",
    "plt.title(\"Positive rate of Action\")\n",
    "plt.axvline(Action['Positive rate in reviews'].mean(), color='k', linestyle='dashed', linewidth=1)\n",
    "\n",
    "\n",
    "plt.subplot(242)\n",
    "plt.hist(Adventure[Adventure['Min configuration class']==0]['Positive rate in reviews'], color=\"navy\", label = 'class 0')\n",
    "plt.hist(Adventure[Adventure['Min configuration class']==1]['Positive rate in reviews'], color=\"blue\", label = 'class 1')\n",
    "plt.hist(Adventure[Adventure['Min configuration class']==2]['Positive rate in reviews'], color=\"mediumpurple\", label = 'class 2')\n",
    "plt.hist(Adventure[Adventure['Min configuration class']==3]['Positive rate in reviews'], color=\"plum\", label = 'class 3')\n",
    "plt.legend()\n",
    "plt.title(\"Positive rate of Adventure\")\n",
    "plt.axvline(Adventure['Positive rate in reviews'].mean(), color='k', linestyle='dashed', linewidth=1)\n",
    "\n",
    "plt.subplot(243)\n",
    "plt.hist(RPG[RPG['Min configuration class']==0]['Positive rate in reviews'], color=\"navy\", label = 'class 0')\n",
    "plt.hist(RPG[RPG['Min configuration class']==1]['Positive rate in reviews'], color=\"blue\", label = 'class 1')\n",
    "plt.hist(RPG[RPG['Min configuration class']==2]['Positive rate in reviews'], color=\"mediumpurple\", label = 'class 2')\n",
    "plt.hist(RPG[RPG['Min configuration class']==3]['Positive rate in reviews'], color=\"plum\", label = 'class 3')\n",
    "plt.legend()\n",
    "plt.title(\"Positive rate of RPG\")\n",
    "plt.axvline(RPG['Positive rate in reviews'].mean(), color='k', linestyle='dashed', linewidth=1)\n",
    "\n",
    "plt.subplot(244)\n",
    "plt.hist(Strategy[Strategy['Min configuration class']==0]['Positive rate in reviews'], color=\"navy\", label = 'class 0')\n",
    "plt.hist(Strategy[Strategy['Min configuration class']==1]['Positive rate in reviews'], color=\"blue\", label = 'class 1')\n",
    "plt.hist(Strategy[Strategy['Min configuration class']==2]['Positive rate in reviews'], color=\"mediumpurple\", label = 'class 2')\n",
    "plt.hist(Strategy[Strategy['Min configuration class']==3]['Positive rate in reviews'], color=\"plum\", label = 'class 3')\n",
    "plt.legend()\n",
    "plt.title(\"Positive rate of Strategy\")\n",
    "plt.axvline(Strategy['Positive rate in reviews'].mean(), color='k', linestyle='dashed', linewidth=1)\n",
    "\n",
    "plt.subplot(245)\n",
    "plt.hist(Simulation[Simulation['Min configuration class']==0]['Positive rate in reviews'], color=\"navy\", label = 'class 0')\n",
    "plt.hist(Simulation[Simulation['Min configuration class']==1]['Positive rate in reviews'], color=\"blue\", label = 'class 1')\n",
    "plt.hist(Simulation[Simulation['Min configuration class']==2]['Positive rate in reviews'], color=\"mediumpurple\", label = 'class 2')\n",
    "plt.hist(Simulation[Simulation['Min configuration class']==3]['Positive rate in reviews'], color=\"plum\", label = 'class 3')\n",
    "plt.legend()\n",
    "plt.title(\"Positive rate of Simulation\")\n",
    "plt.axvline(Simulation['Positive rate in reviews'].mean(), color='k', linestyle='dashed', linewidth=1)\n",
    "\n",
    "plt.subplot(246)\n",
    "plt.hist(Casual[Casual['Min configuration class']==0]['Positive rate in reviews'], color=\"navy\", label = 'class 0')\n",
    "plt.hist(Casual[Casual['Min configuration class']==1]['Positive rate in reviews'], color=\"blue\", label = 'class 1')\n",
    "plt.hist(Casual[Casual['Min configuration class']==2]['Positive rate in reviews'], color=\"mediumpurple\", label = 'class 2')\n",
    "plt.hist(Casual[Casual['Min configuration class']==3]['Positive rate in reviews'], color=\"plum\", label = 'class 3')\n",
    "plt.legend()\n",
    "plt.title(\"Positive rate of Casual\")\n",
    "plt.axvline(Casual['Positive rate in reviews'].mean(), color='k', linestyle='dashed', linewidth=1)\n",
    "\n",
    "plt.subplot(247)\n",
    "plt.hist(Indie[Indie['Min configuration class']==0]['Positive rate in reviews'], color=\"navy\", label = 'class 0')\n",
    "plt.hist(Indie[Indie['Min configuration class']==1]['Positive rate in reviews'], color=\"blue\", label = 'class 1')\n",
    "plt.hist(Indie[Indie['Min configuration class']==2]['Positive rate in reviews'], color=\"mediumpurple\", label = 'class 2')\n",
    "plt.hist(Indie[Indie['Min configuration class']==3]['Positive rate in reviews'], color=\"plum\", label = 'class 3')\n",
    "plt.legend()\n",
    "plt.title(\"Positive rate of indie\")\n",
    "plt.axvline(Indie['Positive rate in reviews'].mean(), color='k', linestyle='dashed', linewidth=1)\n",
    "\n",
    "plt.subplot(248)\n",
    "plt.hist(Sports[Sports['Min configuration class']==0]['Positive rate in reviews'], color=\"navy\", label = 'class 0')\n",
    "plt.hist(Sports[Sports['Min configuration class']==1]['Positive rate in reviews'], color=\"blue\", label = 'class 1')\n",
    "plt.hist(Sports[Sports['Min configuration class']==2]['Positive rate in reviews'], color=\"mediumpurple\", label = 'class 2')\n",
    "plt.hist(Sports[Sports['Min configuration class']==3]['Positive rate in reviews'], color=\"plum\", label = 'class 3')\n",
    "plt.legend()\n",
    "plt.title(\"Positive rate of Sports\")\n",
    "plt.axvline(Sports['Positive rate in reviews'].mean(), color='k', linestyle='dashed', linewidth=1)\n",
    "\n",
    "plt.show()"
   ]
  },
  {
   "cell_type": "markdown",
   "metadata": {},
   "source": [
    "There doesn't seem to be any correlation betwen the genre of the game and the rate given by the users. However, these chats show that there isn't the same distribution of classes for each genres. For instance, it seem that Strategy and Casual games don't need to have important material as the porportion of class 2/3 is very low. However, Sports , Simulation and Action games, whose graphics are much more evolved and rapid apparently need more high tech material."
   ]
  },
  {
   "cell_type": "code",
   "execution_count": 67,
   "metadata": {},
   "outputs": [
    {
     "name": "stdout",
     "output_type": "stream",
     "text": [
      "proportion of class 3 :  7.902877487888869\n",
      "proportion of class 3 for simulation game:  10.835654596100278\n"
     ]
    }
   ],
   "source": [
    "print(\"proportion of class 3 : \", 100*len(df[df['Min configuration class']==3])/len(df))\n",
    "\n",
    "print(\"proportion of class 3 for simulation game: \", 100*len(Simulation[Simulation['Min configuration class']==3])/len(Simulation))\n"
   ]
  },
  {
   "cell_type": "markdown",
   "metadata": {},
   "source": [
    "## Price Analysis"
   ]
  },
  {
   "cell_type": "code",
   "execution_count": 50,
   "metadata": {},
   "outputs": [
    {
     "name": "stdout",
     "output_type": "stream",
     "text": [
      "₩ 64.800\n",
      "HK$ 3.08\n",
      "₩ 15.840\n",
      "ARS$ 33.99\n",
      "₩ 2.950\n",
      "295₴\n",
      "₩ 5.000\n",
      "₩ 48.860\n",
      "82 pуб.\n",
      "₩ 4.550\n"
     ]
    },
    {
     "ename": "IndexError",
     "evalue": "single positional indexer is out-of-bounds",
     "output_type": "error",
     "traceback": [
      "\u001b[1;31m---------------------------------------------------------------------------\u001b[0m",
      "\u001b[1;31mIndexError\u001b[0m                                Traceback (most recent call last)",
      "\u001b[1;32m<ipython-input-50-6a9165bb9b5e>\u001b[0m in \u001b[0;36m<module>\u001b[1;34m\u001b[0m\n\u001b[0;32m      9\u001b[0m \u001b[1;33m\u001b[0m\u001b[0m\n\u001b[0;32m     10\u001b[0m \u001b[1;32mfor\u001b[0m \u001b[0mi\u001b[0m \u001b[1;32min\u001b[0m \u001b[0mrange\u001b[0m\u001b[1;33m(\u001b[0m\u001b[0mlen\u001b[0m\u001b[1;33m(\u001b[0m\u001b[0mdf\u001b[0m\u001b[1;33m[\u001b[0m\u001b[1;34m'Current price'\u001b[0m\u001b[1;33m]\u001b[0m\u001b[1;33m)\u001b[0m\u001b[1;33m)\u001b[0m\u001b[1;33m:\u001b[0m\u001b[1;33m\u001b[0m\u001b[1;33m\u001b[0m\u001b[0m\n\u001b[1;32m---> 11\u001b[1;33m     \u001b[1;32mif\u001b[0m \u001b[1;34m'€'\u001b[0m \u001b[1;32mnot\u001b[0m \u001b[1;32min\u001b[0m \u001b[0mdf\u001b[0m\u001b[1;33m[\u001b[0m\u001b[1;34m'Current price'\u001b[0m\u001b[1;33m]\u001b[0m\u001b[1;33m.\u001b[0m\u001b[0miloc\u001b[0m\u001b[1;33m[\u001b[0m\u001b[0mi\u001b[0m\u001b[1;33m]\u001b[0m\u001b[1;33m:\u001b[0m\u001b[1;33m\u001b[0m\u001b[1;33m\u001b[0m\u001b[0m\n\u001b[0m\u001b[0;32m     12\u001b[0m         \u001b[0mdf\u001b[0m \u001b[1;33m=\u001b[0m \u001b[0mdf\u001b[0m\u001b[1;33m.\u001b[0m\u001b[0mdrop\u001b[0m\u001b[1;33m(\u001b[0m\u001b[0mi\u001b[0m\u001b[1;33m,\u001b[0m \u001b[0maxis\u001b[0m \u001b[1;33m=\u001b[0m \u001b[1;36m0\u001b[0m\u001b[1;33m)\u001b[0m\u001b[1;33m\u001b[0m\u001b[1;33m\u001b[0m\u001b[0m\n\u001b[0;32m     13\u001b[0m \u001b[1;33m\u001b[0m\u001b[0m\n",
      "\u001b[1;32mc:\\users\\remij\\miniconda3\\lib\\site-packages\\pandas\\core\\indexing.py\u001b[0m in \u001b[0;36m__getitem__\u001b[1;34m(self, key)\u001b[0m\n\u001b[0;32m   1422\u001b[0m \u001b[1;33m\u001b[0m\u001b[0m\n\u001b[0;32m   1423\u001b[0m             \u001b[0mmaybe_callable\u001b[0m \u001b[1;33m=\u001b[0m \u001b[0mcom\u001b[0m\u001b[1;33m.\u001b[0m\u001b[0mapply_if_callable\u001b[0m\u001b[1;33m(\u001b[0m\u001b[0mkey\u001b[0m\u001b[1;33m,\u001b[0m \u001b[0mself\u001b[0m\u001b[1;33m.\u001b[0m\u001b[0mobj\u001b[0m\u001b[1;33m)\u001b[0m\u001b[1;33m\u001b[0m\u001b[1;33m\u001b[0m\u001b[0m\n\u001b[1;32m-> 1424\u001b[1;33m             \u001b[1;32mreturn\u001b[0m \u001b[0mself\u001b[0m\u001b[1;33m.\u001b[0m\u001b[0m_getitem_axis\u001b[0m\u001b[1;33m(\u001b[0m\u001b[0mmaybe_callable\u001b[0m\u001b[1;33m,\u001b[0m \u001b[0maxis\u001b[0m\u001b[1;33m=\u001b[0m\u001b[0maxis\u001b[0m\u001b[1;33m)\u001b[0m\u001b[1;33m\u001b[0m\u001b[1;33m\u001b[0m\u001b[0m\n\u001b[0m\u001b[0;32m   1425\u001b[0m \u001b[1;33m\u001b[0m\u001b[0m\n\u001b[0;32m   1426\u001b[0m     \u001b[1;32mdef\u001b[0m \u001b[0m_is_scalar_access\u001b[0m\u001b[1;33m(\u001b[0m\u001b[0mself\u001b[0m\u001b[1;33m,\u001b[0m \u001b[0mkey\u001b[0m\u001b[1;33m:\u001b[0m \u001b[0mTuple\u001b[0m\u001b[1;33m)\u001b[0m\u001b[1;33m:\u001b[0m\u001b[1;33m\u001b[0m\u001b[1;33m\u001b[0m\u001b[0m\n",
      "\u001b[1;32mc:\\users\\remij\\miniconda3\\lib\\site-packages\\pandas\\core\\indexing.py\u001b[0m in \u001b[0;36m_getitem_axis\u001b[1;34m(self, key, axis)\u001b[0m\n\u001b[0;32m   2155\u001b[0m \u001b[1;33m\u001b[0m\u001b[0m\n\u001b[0;32m   2156\u001b[0m             \u001b[1;31m# validate the location\u001b[0m\u001b[1;33m\u001b[0m\u001b[1;33m\u001b[0m\u001b[1;33m\u001b[0m\u001b[0m\n\u001b[1;32m-> 2157\u001b[1;33m             \u001b[0mself\u001b[0m\u001b[1;33m.\u001b[0m\u001b[0m_validate_integer\u001b[0m\u001b[1;33m(\u001b[0m\u001b[0mkey\u001b[0m\u001b[1;33m,\u001b[0m \u001b[0maxis\u001b[0m\u001b[1;33m)\u001b[0m\u001b[1;33m\u001b[0m\u001b[1;33m\u001b[0m\u001b[0m\n\u001b[0m\u001b[0;32m   2158\u001b[0m \u001b[1;33m\u001b[0m\u001b[0m\n\u001b[0;32m   2159\u001b[0m             \u001b[1;32mreturn\u001b[0m \u001b[0mself\u001b[0m\u001b[1;33m.\u001b[0m\u001b[0m_get_loc\u001b[0m\u001b[1;33m(\u001b[0m\u001b[0mkey\u001b[0m\u001b[1;33m,\u001b[0m \u001b[0maxis\u001b[0m\u001b[1;33m=\u001b[0m\u001b[0maxis\u001b[0m\u001b[1;33m)\u001b[0m\u001b[1;33m\u001b[0m\u001b[1;33m\u001b[0m\u001b[0m\n",
      "\u001b[1;32mc:\\users\\remij\\miniconda3\\lib\\site-packages\\pandas\\core\\indexing.py\u001b[0m in \u001b[0;36m_validate_integer\u001b[1;34m(self, key, axis)\u001b[0m\n\u001b[0;32m   2086\u001b[0m         \u001b[0mlen_axis\u001b[0m \u001b[1;33m=\u001b[0m \u001b[0mlen\u001b[0m\u001b[1;33m(\u001b[0m\u001b[0mself\u001b[0m\u001b[1;33m.\u001b[0m\u001b[0mobj\u001b[0m\u001b[1;33m.\u001b[0m\u001b[0m_get_axis\u001b[0m\u001b[1;33m(\u001b[0m\u001b[0maxis\u001b[0m\u001b[1;33m)\u001b[0m\u001b[1;33m)\u001b[0m\u001b[1;33m\u001b[0m\u001b[1;33m\u001b[0m\u001b[0m\n\u001b[0;32m   2087\u001b[0m         \u001b[1;32mif\u001b[0m \u001b[0mkey\u001b[0m \u001b[1;33m>=\u001b[0m \u001b[0mlen_axis\u001b[0m \u001b[1;32mor\u001b[0m \u001b[0mkey\u001b[0m \u001b[1;33m<\u001b[0m \u001b[1;33m-\u001b[0m\u001b[0mlen_axis\u001b[0m\u001b[1;33m:\u001b[0m\u001b[1;33m\u001b[0m\u001b[1;33m\u001b[0m\u001b[0m\n\u001b[1;32m-> 2088\u001b[1;33m             \u001b[1;32mraise\u001b[0m \u001b[0mIndexError\u001b[0m\u001b[1;33m(\u001b[0m\u001b[1;34m\"single positional indexer is out-of-bounds\"\u001b[0m\u001b[1;33m)\u001b[0m\u001b[1;33m\u001b[0m\u001b[1;33m\u001b[0m\u001b[0m\n\u001b[0m\u001b[0;32m   2089\u001b[0m \u001b[1;33m\u001b[0m\u001b[0m\n\u001b[0;32m   2090\u001b[0m     \u001b[1;32mdef\u001b[0m \u001b[0m_getitem_tuple\u001b[0m\u001b[1;33m(\u001b[0m\u001b[0mself\u001b[0m\u001b[1;33m,\u001b[0m \u001b[0mtup\u001b[0m\u001b[1;33m)\u001b[0m\u001b[1;33m:\u001b[0m\u001b[1;33m\u001b[0m\u001b[1;33m\u001b[0m\u001b[0m\n",
      "\u001b[1;31mIndexError\u001b[0m: single positional indexer is out-of-bounds"
     ]
    }
   ],
   "source": [
    "symbols = ['₩','₴','pуб','$','Free']\n",
    "for p in df['Current price']:\n",
    "    for s in symbols:\n",
    "        if s in p :\n",
    "            print(p) \n",
    "            \n",
    "\n",
    "#df = df.drop(df['€' not in df['Current price']].index)\n",
    "\n",
    "for i in range(len(df['Current price'])):\n",
    "    if '€' not in df['Current price'].iloc[i]:\n",
    "        df = df.drop(i, axis = 0)\n",
    "\n",
    "df['Current price'].unique()"
   ]
  }
 ],
 "metadata": {
  "kernelspec": {
   "display_name": "Python 3",
   "language": "python",
   "name": "python3"
  },
  "language_info": {
   "codemirror_mode": {
    "name": "ipython",
    "version": 3
   },
   "file_extension": ".py",
   "mimetype": "text/x-python",
   "name": "python",
   "nbconvert_exporter": "python",
   "pygments_lexer": "ipython3",
   "version": "3.7.3"
  }
 },
 "nbformat": 4,
 "nbformat_minor": 4
}
