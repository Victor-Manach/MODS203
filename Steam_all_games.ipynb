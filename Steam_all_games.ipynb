{
 "cells": [
  {
   "cell_type": "code",
   "execution_count": 20,
   "metadata": {},
   "outputs": [],
   "source": [
    "import requests\n",
    "import numpy as np\n",
    "from bs4 import BeautifulSoup\n",
    "import pandas as pd\n",
    "import re\n",
    "\n",
    "url = 'https://store.steampowered.com/search/?sort_by=Released_DESC&tags=-1&category1=998&page=1'"
   ]
  },
  {
   "cell_type": "code",
   "execution_count": 21,
   "metadata": {},
   "outputs": [],
   "source": [
    "r = requests.get(url)"
   ]
  },
  {
   "cell_type": "code",
   "execution_count": 22,
   "metadata": {},
   "outputs": [],
   "source": [
    "bs = BeautifulSoup(r.text, 'html.parser')"
   ]
  },
  {
   "cell_type": "code",
   "execution_count": 23,
   "metadata": {},
   "outputs": [
    {
     "name": "stdout",
     "output_type": "stream",
     "text": [
      "Found 25 games on the web page\n",
      "\n"
     ]
    }
   ],
   "source": [
    "games = bs.findAll('div', 'responsive_search_name_combined')\n",
    "print(\"Found {} games on the web page\\n\".format(len(games)))"
   ]
  },
  {
   "cell_type": "code",
   "execution_count": 24,
   "metadata": {
    "scrolled": true
   },
   "outputs": [],
   "source": [
    "for game in games:\n",
    "    title = game.find('span', 'title').contents[0]\n",
    "    if not game.find('div', 'col search_released responsive_secondrow').contents:\n",
    "        release_date = 'Unknown'\n",
    "    else:\n",
    "        release_date = game.find('div', 'col search_released responsive_secondrow').contents[0]\n",
    "    if game.find('div', 'col search_discount responsive_secondrow').find('span') is not None:\n",
    "        discount = game.find('div', 'col search_discount responsive_secondrow').find('span').contents[0]\n",
    "        usual_price = game.find('div', 'col search_price discounted responsive_secondrow').find('span').find('strike').contents[0]\n",
    "        discounted_price = game.find('div', 'col search_price discounted responsive_secondrow').contents[3]\n",
    "    else:\n",
    "        discount = None\n",
    "        discounted_price = None\n",
    "        usual_price = ' '.join(game.find('div', 'col search_price responsive_secondrow').contents[0].split())\n",
    "    \n",
    "    #print ('Title: {}\\nRelease date: {}\\nDiscount: {}\\nUsual price: {}\\nDiscounted price: {}\\n'.format(title,release_date, discount, usual_price, discounted_price))"
   ]
  },
  {
   "cell_type": "code",
   "execution_count": 25,
   "metadata": {
    "scrolled": false
   },
   "outputs": [
    {
     "name": "stdout",
     "output_type": "stream",
     "text": [
      "                                                title        release_date  \\\n",
      "0                                          Astro Dash         5 Dec, 2020   \n",
      "1                                         Last of Ass         5 Dec, 2020   \n",
      "2                                             Puzzzle         5 Dec, 2020   \n",
      "3                                      Primate Signal         5 Dec, 2020   \n",
      "4                                 Public Defense Corp         4 Dec, 2020   \n",
      "5                                       Hanako | 花子さん             Unknown   \n",
      "6                                            OPERATOR         COMING SOON   \n",
      "7                                     Summon & Fusion         4 Dec, 2020   \n",
      "8                               A Monster, The Mauler         4 Dec, 2020   \n",
      "9                              ZERONE - Spinoff Arena            Dec 2020   \n",
      "10                                        Tank Firing         4 Dec, 2020   \n",
      "11                        Snowball Fight At Christmas         4 Dec, 2020   \n",
      "12                                Interactive Empathy         4 Dec, 2020   \n",
      "13                    Silent Mansion : Summoner Part2         4 Dec, 2020   \n",
      "14                         Catch a cat for 60 seconds         4 Dec, 2020   \n",
      "15                                         Blue Lemon         4 Dec, 2020   \n",
      "16                                            BoatMan         4 Dec, 2020   \n",
      "17                                              Tarek         4 Dec, 2020   \n",
      "18                        A Dark Ice Saga: The Rescue         4 Dec, 2020   \n",
      "19                 Abyss The Forgotten Past: Prologue         4 Dec, 2020   \n",
      "20                                          ad movere         4 Dec, 2020   \n",
      "21                                            Sabotaj         Pek Yakında   \n",
      "22                                    Veiled Basilisk         4 Dec, 2020   \n",
      "23                                       Golf Around!         4 Dec, 2020   \n",
      "24                                    Rise of dragons         4 Dec, 2020   \n",
      "25                                   Uphold The Realm            Dec 2020   \n",
      "26                                         Catventure  Winter 2020 - 2021   \n",
      "27                                      Pocket Plants            Dec 2020   \n",
      "28                                   Dark Side of War         4 Dec, 2020   \n",
      "29                 Tallowmere 2: Curse of the Kittens         4 Dec, 2020   \n",
      "30                                              Ayoub         coming soon   \n",
      "31                                  Pumping Simulator        In Few Weeks   \n",
      "32                                      Green Marquis         4 Dec, 2020   \n",
      "33                                     Candy Disaster            Dec 2020   \n",
      "34                              A.I.M.3: War Protocol  approximately 2021   \n",
      "35                                        Yomi Domini         4 Dec, 2020   \n",
      "36                                            Dead TD         4 Dec, 2020   \n",
      "37                                      John Wick Hex         4 Dec, 2020   \n",
      "38                                       THE CORRIDOR         4 Dec, 2020   \n",
      "39                                     Into the Abyss         4 Dec, 2020   \n",
      "40                                    Clash Cup Turbo         4 Dec, 2020   \n",
      "41                             The MoneyMakers Rallye         4 Dec, 2020   \n",
      "42                                          Stars Die         4 Dec, 2020   \n",
      "43  DRAGON QUEST® XI S: Echoes of an Elusive Age™ ...         4 Dec, 2020   \n",
      "44                                        Gothic 1881            Dezember   \n",
      "45                                         Vladiators       December 2020   \n",
      "46                                     Swords of Time         4 Dec, 2020   \n",
      "47                                            Crumble         4 Dec, 2020   \n",
      "48                               Wing of Misadventure         4 Dec, 2020   \n",
      "49                                          Guntastic         4 Dec, 2020   \n",
      "\n",
      "   discount   usual_price discounted_price  \n",
      "0      -20%         3,29€            2,63€  \n",
      "1      -20%         2,39€            1,91€  \n",
      "2      None  Free To Play             None  \n",
      "3      -33%         4,99€            3,34€  \n",
      "4      -10%        12,49€           11,24€  \n",
      "5      None                           None  \n",
      "6      None                           None  \n",
      "7      -20%         8,99€            7,19€  \n",
      "8      None         6,59€             None  \n",
      "9      None                           None  \n",
      "10     -25%         3,29€            2,46€  \n",
      "11     None                           None  \n",
      "12     None          Free             None  \n",
      "13     -30%         5,69€            3,98€  \n",
      "14     None         0,79€             None  \n",
      "15     None  Free To Play             None  \n",
      "16     None                           None  \n",
      "17     -40%         5,50€            3,30€  \n",
      "18     -40%         3,29€            1,97€  \n",
      "19     None          Free             None  \n",
      "20     -15%         3,99€            3,39€  \n",
      "21     None  Free To Play             None  \n",
      "22     None                           None  \n",
      "23     -20%         3,99€            3,19€  \n",
      "24     None                           None  \n",
      "25     None                           None  \n",
      "26     None                           None  \n",
      "27     None          Free             None  \n",
      "28     -41%         0,79€            0,47€  \n",
      "29     -40%         8,99€            5,39€  \n",
      "30     None                           None  \n",
      "31     None                           None  \n",
      "32     None                           None  \n",
      "33     None                           None  \n",
      "34     None                           None  \n",
      "35     None         9,99€             None  \n",
      "36     None         1,59€             None  \n",
      "37     -30%        16,79€           11,75€  \n",
      "38     -15%         1,59€            1,35€  \n",
      "39     -15%         4,99€            4,24€  \n",
      "40     None        14,99€             None  \n",
      "41     -15%        15,--€           12,75€  \n",
      "42     -10%         3,99€            3,59€  \n",
      "43     None        39,99€             None  \n",
      "44     None                           None  \n",
      "45     None                           None  \n",
      "46     -10%         9,99€            8,99€  \n",
      "47     -15%        14,99€           12,74€  \n",
      "48     None  Free To Play             None  \n",
      "49     None        12,99€             None  \n"
     ]
    }
   ],
   "source": [
    "def get_game_data(game):\n",
    "    item = {}\n",
    "    title = game.find('span', 'title').contents[0]\n",
    "    if not game.find('div', 'col search_released responsive_secondrow').contents:\n",
    "        release_date = 'Unknown'\n",
    "    else:\n",
    "        release_date = game.find('div', 'col search_released responsive_secondrow').contents[0]\n",
    "    if game.find('div', 'col search_discount responsive_secondrow').find('span') is not None:\n",
    "        discount = game.find('div', 'col search_discount responsive_secondrow').find('span').contents[0]\n",
    "        usual_price = game.find('div', 'col search_price discounted responsive_secondrow').find('span').find('strike').contents[0]\n",
    "        discounted_price = ' '.join(game.find('div', 'col search_price discounted responsive_secondrow').contents[3].split())\n",
    "    else:\n",
    "        discount = None\n",
    "        discounted_price = None\n",
    "        usual_price = ' '.join(game.find('div', 'col search_price responsive_secondrow').contents[0].split())\n",
    "    item = {\n",
    "        'title': title,\n",
    "        'release_date': release_date,\n",
    "        'discount': discount,\n",
    "        'usual_price': usual_price,\n",
    "        'discounted_price': discounted_price\n",
    "    }\n",
    "    return item\n",
    "\n",
    "def crawl_page(startswith):\n",
    "    url = 'https://store.steampowered.com/search/?sort_by=Released_DESC&tags=-1&category1=998&page={}'.format(startswith)\n",
    "    r = requests.get(url)\n",
    "    bs = BeautifulSoup(r.text, 'html.parser')\n",
    "    data, item = [], {}\n",
    "    games = bs.findAll('div', 'responsive_search_name_combined')\n",
    "    for game in games:\n",
    "        item = get_game_data(game)\n",
    "        data.append(item)\n",
    "    return data\n",
    "\n",
    "data = crawl_page(0)\n",
    "df = pd.DataFrame(data)\n",
    "print(df)"
   ]
  },
  {
   "cell_type": "code",
   "execution_count": 26,
   "metadata": {
    "scrolled": false
   },
   "outputs": [
    {
     "name": "stdout",
     "output_type": "stream",
     "text": [
      "1675\n"
     ]
    }
   ],
   "source": [
    "nb_games_per_page = 25\n",
    "nb_games = bs.find('div', 'responsive_page_template_content').find('script').contents[0]\n",
    "nItemCount = nb_games.find('nItemCount')\n",
    "nb_games = nb_games[nItemCount:]\n",
    "nb_games = nb_games[:nb_games.index(';')]\n",
    "nb_games = int(nb_games.split()[-1])\n",
    "nb_pages = int(np.ceil(nb_games / nb_games_per_page))\n",
    "print(nb_pages)"
   ]
  },
  {
   "cell_type": "code",
   "execution_count": null,
   "metadata": {},
   "outputs": [],
   "source": []
  }
 ],
 "metadata": {
  "kernelspec": {
   "display_name": "Python 3.7.6 64-bit ('base': conda)",
   "language": "python",
   "name": "python37664bitbasecondae5433ad43d13444bb011d4b7eb072777"
  },
  "language_info": {
   "codemirror_mode": {
    "name": "ipython",
    "version": 3
   },
   "file_extension": ".py",
   "mimetype": "text/x-python",
   "name": "python",
   "nbconvert_exporter": "python",
   "pygments_lexer": "ipython3",
   "version": "3.7.6"
  }
 },
 "nbformat": 4,
 "nbformat_minor": 4
}
