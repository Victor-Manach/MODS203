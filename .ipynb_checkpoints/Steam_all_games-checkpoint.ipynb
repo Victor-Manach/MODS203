{
 "cells": [
  {
   "cell_type": "code",
   "execution_count": 1,
   "metadata": {},
   "outputs": [],
   "source": [
    "import requests\n",
    "import numpy as np\n",
    "from bs4 import BeautifulSoup\n",
    "import pandas as pd\n",
    "import re\n",
    "\n",
    "url = 'https://store.steampowered.com/search/?sort_by=Released_DESC&tags=-1&category1=998&page=1'"
   ]
  },
  {
   "cell_type": "code",
   "execution_count": 2,
   "metadata": {},
   "outputs": [],
   "source": [
    "r = requests.get(url)"
   ]
  },
  {
   "cell_type": "code",
   "execution_count": 3,
   "metadata": {},
   "outputs": [],
   "source": [
    "bs = BeautifulSoup(r.text, 'html.parser')"
   ]
  },
  {
   "cell_type": "code",
   "execution_count": 4,
   "metadata": {},
   "outputs": [
    {
     "name": "stdout",
     "output_type": "stream",
     "text": [
      "Found 25 games on the web page\n",
      "\n"
     ]
    }
   ],
   "source": [
    "games = bs.findAll('div', 'responsive_search_name_combined')\n",
    "print(\"Found {} games on the web page\\n\".format(len(games)))"
   ]
  },
  {
   "cell_type": "code",
   "execution_count": 5,
   "metadata": {
    "scrolled": true
   },
   "outputs": [],
   "source": [
    "for game in games:\n",
    "    title = game.find('span', 'title').contents[0]\n",
    "    if not game.find('div', 'col search_released responsive_secondrow').contents:\n",
    "        release_date = 'Unknown'\n",
    "    else:\n",
    "        release_date = game.find('div', 'col search_released responsive_secondrow').contents[0]\n",
    "    if game.find('div', 'col search_discount responsive_secondrow').find('span') is not None:\n",
    "        discount = game.find('div', 'col search_discount responsive_secondrow').find('span').contents[0]\n",
    "        usual_price = game.find('div', 'col search_price discounted responsive_secondrow').find('span').find('strike').contents[0]\n",
    "        discounted_price = game.find('div', 'col search_price discounted responsive_secondrow').contents[3]\n",
    "    else:\n",
    "        discount = None\n",
    "        discounted_price = None\n",
    "        usual_price = ' '.join(game.find('div', 'col search_price responsive_secondrow').contents[0].split())\n",
    "    \n",
    "    #print ('Title: {}\\nRelease date: {}\\nDiscount: {}\\nUsual price: {}\\nDiscounted price: {}\\n'.format(title,release_date, discount, usual_price, discounted_price))"
   ]
  },
  {
   "cell_type": "code",
   "execution_count": 6,
   "metadata": {
    "scrolled": false
   },
   "outputs": [],
   "source": [
    "def get_game_data(game):\n",
    "    item = {}\n",
    "    title = game.find('span', 'title').contents[0]\n",
    "    if not game.find('div', 'col search_released responsive_secondrow').contents:\n",
    "        release_date = 'Unknown'\n",
    "    else:\n",
    "        release_date = game.find('div', 'col search_released responsive_secondrow').contents[0]\n",
    "    if game.find('div', 'col search_discount responsive_secondrow').find('span') is not None:\n",
    "        discount = game.find('div', 'col search_discount responsive_secondrow').find('span').contents[0]\n",
    "        usual_price = game.find('div', 'col search_price discounted responsive_secondrow').find('span').find('strike').contents[0]\n",
    "        discounted_price = ' '.join(game.find('div', 'col search_price discounted responsive_secondrow').contents[3].split())\n",
    "    else:\n",
    "        discount = None\n",
    "        discounted_price = None\n",
    "        usual_price = ' '.join(game.find('div', 'col search_price responsive_secondrow').contents[0].split())\n",
    "    item = {\n",
    "        'title': title,\n",
    "        'release_date': release_date,\n",
    "        'discount': discount,\n",
    "        'usual_price': usual_price,\n",
    "        'discounted_price': discounted_price\n",
    "    }\n",
    "    return item\n",
    "\n",
    "def crawl_page(startswith):\n",
    "    url = 'https://store.steampowered.com/search/?sort_by=Released_DESC&tags=-1&category1=998&page={}'.format(startswith)\n",
    "    r = requests.get(url)\n",
    "    bs = BeautifulSoup(r.text, 'html.parser')\n",
    "    data, item = [], {}\n",
    "    games = bs.findAll('div', 'responsive_search_name_combined')\n",
    "    for game in games:\n",
    "        item = get_game_data(game)\n",
    "        data.append(item)\n",
    "    return data\n",
    "\n",
    "data = crawl_page(0)\n",
    "df = pd.DataFrame(data)"
   ]
  },
  {
   "cell_type": "code",
   "execution_count": 12,
   "metadata": {
    "scrolled": false
   },
   "outputs": [
    {
     "name": "stdout",
     "output_type": "stream",
     "text": [
      "1675\n",
      "1\n",
      "2\n",
      "3\n",
      "4\n",
      "5\n",
      "6\n",
      "7\n",
      "8\n",
      "9\n",
      "10\n"
     ]
    }
   ],
   "source": [
    "nb_games_per_page = 25\n",
    "nb_games = bs.find('div', 'responsive_page_template_content').find('script').contents[0]\n",
    "nItemCount = nb_games.find('nItemCount')\n",
    "nb_games = nb_games[nItemCount:]\n",
    "nb_games = nb_games[:nb_games.index(';')]\n",
    "nb_games = int(nb_games.split()[-1])\n",
    "nb_pages = int(np.ceil(nb_games / nb_games_per_page))\n",
    "print(nb_pages)\n",
    "\n",
    "data =[]\n",
    "df=pd.DataFrame()\n",
    "for i in range (1, 11):\n",
    "    print(i)\n",
    "    data=crawl_page(i)\n",
    "    df.append(data)\n"
   ]
  },
  {
   "cell_type": "code",
   "execution_count": 14,
   "metadata": {},
   "outputs": [
    {
     "data": {
      "text/plain": [
       "0"
      ]
     },
     "execution_count": 14,
     "metadata": {},
     "output_type": "execute_result"
    }
   ],
   "source": []
  },
  {
   "cell_type": "code",
   "execution_count": null,
   "metadata": {},
   "outputs": [],
   "source": []
  }
 ],
 "metadata": {
  "kernelspec": {
   "display_name": "Python 3",
   "language": "python",
   "name": "python3"
  },
  "language_info": {
   "codemirror_mode": {
    "name": "ipython",
    "version": 3
   },
   "file_extension": ".py",
   "mimetype": "text/x-python",
   "name": "python",
   "nbconvert_exporter": "python",
   "pygments_lexer": "ipython3",
   "version": "3.8.3"
  }
 },
 "nbformat": 4,
 "nbformat_minor": 4
}
