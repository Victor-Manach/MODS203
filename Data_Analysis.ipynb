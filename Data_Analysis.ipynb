{
 "cells": [
  {
<<<<<<< HEAD
   "cell_type": "code",
   "execution_count": 53,
   "metadata": {},
   "outputs": [
    {
     "data": {
      "text/html": [
       "<div>\n",
       "<style scoped>\n",
       "    .dataframe tbody tr th:only-of-type {\n",
       "        vertical-align: middle;\n",
       "    }\n",
       "\n",
       "    .dataframe tbody tr th {\n",
       "        vertical-align: top;\n",
       "    }\n",
       "\n",
       "    .dataframe thead th {\n",
       "        text-align: right;\n",
       "    }\n",
       "</style>\n",
       "<table border=\"1\" class=\"dataframe\">\n",
       "  <thead>\n",
       "    <tr style=\"text-align: right;\">\n",
       "      <th></th>\n",
       "      <th>Game ID</th>\n",
       "      <th>Genres</th>\n",
       "      <th>Developers</th>\n",
       "      <th>Publishers</th>\n",
       "      <th>Release date</th>\n",
       "      <th>Current price</th>\n",
       "      <th>Number of reviews</th>\n",
       "      <th>Positive rate in reviews</th>\n",
       "      <th>SteamDB score</th>\n",
       "      <th>Minimum requirements</th>\n",
       "      <th>Recommended requirements</th>\n",
       "      <th>Min configuration class</th>\n",
       "    </tr>\n",
       "  </thead>\n",
       "  <tbody>\n",
       "    <tr>\n",
       "      <th>0</th>\n",
       "      <td>568070</td>\n",
       "      <td>['Action', 'Adventure', 'Indie']</td>\n",
       "      <td>['Triplevision Games']</td>\n",
       "      <td>['Graffiti Games']</td>\n",
       "      <td>23 Aug, 2019</td>\n",
       "      <td>3,12€</td>\n",
       "      <td>58</td>\n",
       "      <td>60.0</td>\n",
       "      <td>57.31</td>\n",
       "      <td>{'Processor': ' 2ghz dual core cpu', 'Memory':...</td>\n",
       "      <td>{}</td>\n",
       "      <td>1</td>\n",
       "    </tr>\n",
       "    <tr>\n",
       "      <th>1</th>\n",
       "      <td>568090</td>\n",
       "      <td>['Action', 'Indie']</td>\n",
       "      <td>['Waygetter Electronics']</td>\n",
       "      <td>['Little Flag Software, LLC']</td>\n",
       "      <td>28 Dec, 2016</td>\n",
       "      <td>2,39€</td>\n",
       "      <td>2027</td>\n",
       "      <td>91.0</td>\n",
       "      <td>87.13</td>\n",
       "      <td>{'Processor': ' 2.0 ghz dual core processor', ...</td>\n",
       "      <td>{}</td>\n",
       "      <td>1</td>\n",
       "    </tr>\n",
       "    <tr>\n",
       "      <th>2</th>\n",
       "      <td>568130</td>\n",
       "      <td>['Action', 'Adventure', 'Indie']</td>\n",
       "      <td>['Nickana Studio']</td>\n",
       "      <td>['Nickana Studio']</td>\n",
       "      <td>3 Jan, 2017</td>\n",
       "      <td>3,99€</td>\n",
       "      <td>20</td>\n",
       "      <td>65.0</td>\n",
       "      <td>59.00</td>\n",
       "      <td>{'Processor': ' 1.4ghz or faster', 'Memory': '...</td>\n",
       "      <td>{}</td>\n",
       "      <td>0</td>\n",
       "    </tr>\n",
       "    <tr>\n",
       "      <th>3</th>\n",
       "      <td>568180</td>\n",
       "      <td>['Action', 'Adventure', 'Indie']</td>\n",
       "      <td>['Sword Twin Studios Ltd.']</td>\n",
       "      <td>['Sword Twin Studios Ltd.']</td>\n",
       "      <td>31 Mar, 2017</td>\n",
       "      <td>Free</td>\n",
       "      <td>12</td>\n",
       "      <td>92.0</td>\n",
       "      <td>72.42</td>\n",
       "      <td>{'Processor': ' 2.5 ghz dual core', 'Memory': ...</td>\n",
       "      <td>{}</td>\n",
       "      <td>1</td>\n",
       "    </tr>\n",
       "    <tr>\n",
       "      <th>4</th>\n",
       "      <td>568200</td>\n",
       "      <td>['Casual', 'Indie']</td>\n",
       "      <td>['Bruno Freitas']</td>\n",
       "      <td>['Bruno Freitas']</td>\n",
       "      <td>19 Dec, 2016</td>\n",
       "      <td>1,99€</td>\n",
       "      <td>28</td>\n",
       "      <td>93.0</td>\n",
       "      <td>77.30</td>\n",
       "      <td>{'Processor': ' intel/amd dual core 1,2ghz', '...</td>\n",
       "      <td>{'Processor': ' intel(r) celeron(r) cpu  j1800...</td>\n",
       "      <td>1</td>\n",
       "    </tr>\n",
       "    <tr>\n",
       "      <th>...</th>\n",
       "      <td>...</td>\n",
       "      <td>...</td>\n",
       "      <td>...</td>\n",
       "      <td>...</td>\n",
       "      <td>...</td>\n",
       "      <td>...</td>\n",
       "      <td>...</td>\n",
       "      <td>...</td>\n",
       "      <td>...</td>\n",
       "      <td>...</td>\n",
       "      <td>...</td>\n",
       "      <td>...</td>\n",
       "    </tr>\n",
       "    <tr>\n",
       "      <th>17179</th>\n",
       "      <td>1044490</td>\n",
       "      <td>['Adventure', 'Indie']</td>\n",
       "      <td>['SukeraSparo']</td>\n",
       "      <td>['MangaGamer', 'mirai works']</td>\n",
       "      <td>21 Jun, 2019</td>\n",
       "      <td>9,99€</td>\n",
       "      <td>365</td>\n",
       "      <td>97.0</td>\n",
       "      <td>89.05</td>\n",
       "      <td>{'Processor': ' pentium iii 800mhz', 'Memory':...</td>\n",
       "      <td>{'Processor': 'Not specified', 'Memory': ' 1 G...</td>\n",
       "      <td>0</td>\n",
       "    </tr>\n",
       "    <tr>\n",
       "      <th>17180</th>\n",
       "      <td>1044500</td>\n",
       "      <td>['Animation &amp; Modeling', 'Design &amp; Illustratio...</td>\n",
       "      <td>[\"Sin's Temptation\"]</td>\n",
       "      <td>[\"Sin's Temptation\"]</td>\n",
       "      <td>22 Mar, 2019</td>\n",
       "      <td>1,97€</td>\n",
       "      <td>51</td>\n",
       "      <td>73.0</td>\n",
       "      <td>65.69</td>\n",
       "      <td>{'Processor': ' 2.0 ghz intel i5 or equivalent...</td>\n",
       "      <td>{'Processor': ' 3.4 ghz intel i7 or equivalent...</td>\n",
       "      <td>2</td>\n",
       "    </tr>\n",
       "    <tr>\n",
       "      <th>17181</th>\n",
       "      <td>1044620</td>\n",
       "      <td>['Adventure', 'Casual']</td>\n",
       "      <td>['sprite', 'NekoNyan Ltd.']</td>\n",
       "      <td>['NekoNyan Ltd.', 'HIKARI FIELD']</td>\n",
       "      <td>27 Sep, 2019</td>\n",
       "      <td>22,49€</td>\n",
       "      <td>1788</td>\n",
       "      <td>99.0</td>\n",
       "      <td>93.55</td>\n",
       "      <td>{'Processor': ' 1.3 ghz', 'Memory': ' 4 GB RAM...</td>\n",
       "      <td>{}</td>\n",
       "      <td>0</td>\n",
       "    </tr>\n",
       "    <tr>\n",
       "      <th>17182</th>\n",
       "      <td>1044630</td>\n",
       "      <td>['Adventure', 'Indie', 'RPG']</td>\n",
       "      <td>['Choice of Games']</td>\n",
       "      <td>['Choice of Games']</td>\n",
       "      <td>21 Mar, 2019</td>\n",
       "      <td>2,39€</td>\n",
       "      <td>14</td>\n",
       "      <td>43.0</td>\n",
       "      <td>46.02</td>\n",
       "      <td>{'Processor': 'Not specified', 'Memory': 'Not ...</td>\n",
       "      <td>{}</td>\n",
       "      <td>0</td>\n",
       "    </tr>\n",
       "    <tr>\n",
       "      <th>17183</th>\n",
       "      <td>1044640</td>\n",
       "      <td>['Action', 'Casual', 'Indie', 'Strategy']</td>\n",
       "      <td>['Rumbic Studio']</td>\n",
       "      <td>['HH-Games']</td>\n",
       "      <td>20 Mar, 2019</td>\n",
       "      <td>3,74€</td>\n",
       "      <td>23</td>\n",
       "      <td>70.0</td>\n",
       "      <td>62.05</td>\n",
       "      <td>{'Processor': ' 1.0ghz cpu', 'Memory': ' 128 M...</td>\n",
       "      <td>{'Processor': ' 1.2ghz cpu', 'Memory': ' 256 M...</td>\n",
       "      <td>0</td>\n",
       "    </tr>\n",
       "  </tbody>\n",
       "</table>\n",
       "<p>17184 rows × 12 columns</p>\n",
       "</div>"
      ],
      "text/plain": [
       "       Game ID                                             Genres  \\\n",
       "0       568070                   ['Action', 'Adventure', 'Indie']   \n",
       "1       568090                                ['Action', 'Indie']   \n",
       "2       568130                   ['Action', 'Adventure', 'Indie']   \n",
       "3       568180                   ['Action', 'Adventure', 'Indie']   \n",
       "4       568200                                ['Casual', 'Indie']   \n",
       "...        ...                                                ...   \n",
       "17179  1044490                             ['Adventure', 'Indie']   \n",
       "17180  1044500  ['Animation & Modeling', 'Design & Illustratio...   \n",
       "17181  1044620                            ['Adventure', 'Casual']   \n",
       "17182  1044630                      ['Adventure', 'Indie', 'RPG']   \n",
       "17183  1044640          ['Action', 'Casual', 'Indie', 'Strategy']   \n",
       "\n",
       "                        Developers                         Publishers  \\\n",
       "0           ['Triplevision Games']                 ['Graffiti Games']   \n",
       "1        ['Waygetter Electronics']      ['Little Flag Software, LLC']   \n",
       "2               ['Nickana Studio']                 ['Nickana Studio']   \n",
       "3      ['Sword Twin Studios Ltd.']        ['Sword Twin Studios Ltd.']   \n",
       "4                ['Bruno Freitas']                  ['Bruno Freitas']   \n",
       "...                            ...                                ...   \n",
       "17179              ['SukeraSparo']      ['MangaGamer', 'mirai works']   \n",
       "17180         [\"Sin's Temptation\"]               [\"Sin's Temptation\"]   \n",
       "17181  ['sprite', 'NekoNyan Ltd.']  ['NekoNyan Ltd.', 'HIKARI FIELD']   \n",
       "17182          ['Choice of Games']                ['Choice of Games']   \n",
       "17183            ['Rumbic Studio']                       ['HH-Games']   \n",
       "\n",
       "       Release date Current price  Number of reviews  \\\n",
       "0      23 Aug, 2019         3,12€                 58   \n",
       "1      28 Dec, 2016         2,39€               2027   \n",
       "2       3 Jan, 2017         3,99€                 20   \n",
       "3      31 Mar, 2017          Free                 12   \n",
       "4      19 Dec, 2016         1,99€                 28   \n",
       "...             ...           ...                ...   \n",
       "17179  21 Jun, 2019         9,99€                365   \n",
       "17180  22 Mar, 2019         1,97€                 51   \n",
       "17181  27 Sep, 2019        22,49€               1788   \n",
       "17182  21 Mar, 2019         2,39€                 14   \n",
       "17183  20 Mar, 2019         3,74€                 23   \n",
       "\n",
       "       Positive rate in reviews  SteamDB score  \\\n",
       "0                          60.0          57.31   \n",
       "1                          91.0          87.13   \n",
       "2                          65.0          59.00   \n",
       "3                          92.0          72.42   \n",
       "4                          93.0          77.30   \n",
       "...                         ...            ...   \n",
       "17179                      97.0          89.05   \n",
       "17180                      73.0          65.69   \n",
       "17181                      99.0          93.55   \n",
       "17182                      43.0          46.02   \n",
       "17183                      70.0          62.05   \n",
       "\n",
       "                                    Minimum requirements  \\\n",
       "0      {'Processor': ' 2ghz dual core cpu', 'Memory':...   \n",
       "1      {'Processor': ' 2.0 ghz dual core processor', ...   \n",
       "2      {'Processor': ' 1.4ghz or faster', 'Memory': '...   \n",
       "3      {'Processor': ' 2.5 ghz dual core', 'Memory': ...   \n",
       "4      {'Processor': ' intel/amd dual core 1,2ghz', '...   \n",
       "...                                                  ...   \n",
       "17179  {'Processor': ' pentium iii 800mhz', 'Memory':...   \n",
       "17180  {'Processor': ' 2.0 ghz intel i5 or equivalent...   \n",
       "17181  {'Processor': ' 1.3 ghz', 'Memory': ' 4 GB RAM...   \n",
       "17182  {'Processor': 'Not specified', 'Memory': 'Not ...   \n",
       "17183  {'Processor': ' 1.0ghz cpu', 'Memory': ' 128 M...   \n",
       "\n",
       "                                Recommended requirements  \\\n",
       "0                                                     {}   \n",
       "1                                                     {}   \n",
       "2                                                     {}   \n",
       "3                                                     {}   \n",
       "4      {'Processor': ' intel(r) celeron(r) cpu  j1800...   \n",
       "...                                                  ...   \n",
       "17179  {'Processor': 'Not specified', 'Memory': ' 1 G...   \n",
       "17180  {'Processor': ' 3.4 ghz intel i7 or equivalent...   \n",
       "17181                                                 {}   \n",
       "17182                                                 {}   \n",
       "17183  {'Processor': ' 1.2ghz cpu', 'Memory': ' 256 M...   \n",
       "\n",
       "       Min configuration class  \n",
       "0                            1  \n",
       "1                            1  \n",
       "2                            0  \n",
       "3                            1  \n",
       "4                            1  \n",
       "...                        ...  \n",
       "17179                        0  \n",
       "17180                        2  \n",
       "17181                        0  \n",
       "17182                        0  \n",
       "17183                        0  \n",
       "\n",
       "[17184 rows x 12 columns]"
      ]
     },
     "execution_count": 53,
     "metadata": {},
     "output_type": "execute_result"
    }
   ],
=======
   "cell_type": "markdown",
   "metadata": {},
   "source": [
    "## Format data to facilitate the study"
   ]
  },
  {
   "cell_type": "code",
   "execution_count": 2,
   "metadata": {},
   "outputs": [],
>>>>>>> b6be3215ce2b3f1a12eb4dab5a1a33fde83aa15d
   "source": [
    "import pandas as pd \n",
    "import numpy as np\n",
    "import matplotlib.pyplot as plt\n",
<<<<<<< HEAD
    "import seaborn as sn\n",
    "\n",
    "#convert grades into int\n",
    "df = pd.read_csv('data_with_scores.csv') \n",
    "df['Positive rate in reviews'] = df['Positive rate in reviews'].apply(lambda x: np.nan if x in ['-'] else x[:-1]).astype(float)\n",
    "df['SteamDB score'] = df['SteamDB score'].apply(lambda x: np.nan if x in ['-'] else x[:-1]).astype(float)\n",
    "df"
=======
    "import seaborn as sn"
   ]
  },
  {
   "cell_type": "code",
   "execution_count": 14,
   "metadata": {
    "scrolled": true
   },
   "outputs": [],
   "source": [
    "#convert number of reviews into int, scores into float and prices into float\n",
    "df = pd.read_csv('data_with_scores.csv')\n",
    "df['Positive rate in reviews'] = df['Positive rate in reviews'].apply(lambda x: np.nan if x in ['-'] else x[:-1]).astype(float)\n",
    "df['SteamDB score'] = df['SteamDB score'].apply(lambda x: np.nan if x in ['-'] else x[:-1]).astype(float)\n",
    "df['Number of reviews'] = df['Number of reviews'].astype(int)\n",
    "unformated_price_df = df['Current price']\n",
    "formated_price_df = pd.DataFrame(columns=['Current price in €'])\n",
    "\n",
    "for i in range(len(unformated_price_df)):\n",
    "    game_price = unformated_price_df.iloc[i]\n",
    "    if game_price == 'Free':\n",
    "        formated_price = 0\n",
    "    else:\n",
    "        game_price = game_price.replace(',', '.')[:-1]\n",
    "        if '-' in game_price:\n",
    "            game_price = game_price.replace('-', '0')\n",
    "        formated_price = float(game_price)\n",
    "    formated_price_df = formated_price_df.append({'Current price in €': formated_price}, ignore_index=True)\n",
    "df['Current price'] = formated_price_df"
   ]
  },
  {
   "cell_type": "code",
   "execution_count": 44,
   "metadata": {},
   "outputs": [],
   "source": [
    "# reformat the date column\n",
    "new_formated_dates = pd.DataFrame(columns=['Release date'])\n",
    "dates_format = {'Jan':'01', 'Feb':'02', 'Mar':'03', 'Apr':'04',\n",
    "                'May':'05', 'Jun':'06', 'Jul':'07', 'Aug':'08',\n",
    "               'Sep':'09', 'Oct':'10', 'Nov':'11', 'Dec':'12'}\n",
    "dates = df['Release date']\n",
    "for date in dates:\n",
    "    if type(date) != str:\n",
    "        formated_date = np.nan\n",
    "    else:\n",
    "        date_list = date.split(' ')\n",
    "        if len(date_list) != 3:\n",
    "            day = '01'\n",
    "            month, year = date_list[0], date_list[1]\n",
    "        else:\n",
    "            day, month, year = date_list[0], date_list[1][:-1], date_list[2]\n",
    "        if month not in dates_format:\n",
    "            formated_date = np.nan\n",
    "        else:\n",
    "            if len(day)==1:\n",
    "                day = '0' + day\n",
    "            formated_date = day + '-' + dates_format[month] + '-' + year\n",
    "    new_formated_dates = new_formated_dates.append({'Release date': formated_date}, ignore_index=True)\n",
    "\n",
    "df['Release date'] = new_formated_dates"
   ]
  },
  {
   "cell_type": "code",
   "execution_count": 51,
   "metadata": {
    "scrolled": true
   },
   "outputs": [],
   "source": [
    "df = df.rename(columns={'Current price':'Current price in €',\n",
    "                        'Positive rate in reviews':'Positive rate in reviews in %',\n",
    "                       'SteamDB score': 'SteamDB score in %'})"
   ]
  },
  {
   "cell_type": "code",
   "execution_count": 6,
   "metadata": {},
   "outputs": [],
   "source": [
    "df = pd.read_csv('formated_data.csv')\n",
    "df['Release date'] = pd.to_datetime(df['Release date'], dayfirst=True)\n",
    "df.to_csv('formated_data.csv', mode='w', index=False)"
   ]
  },
  {
   "cell_type": "markdown",
   "metadata": {},
   "source": [
    "The formated dataset has been written in the file formated_data.csv. We might need to use the dropna function to remove every row that has a missing data."
   ]
  },
  {
   "cell_type": "markdown",
   "metadata": {},
   "source": [
    "# No need to run the previous cells now!"
>>>>>>> b6be3215ce2b3f1a12eb4dab5a1a33fde83aa15d
   ]
  },
  {
   "cell_type": "markdown",
   "metadata": {},
   "source": [
    "## Analysis of the distribution of the Positive rate in reviews according to class"
   ]
  },
  {
   "cell_type": "code",
   "execution_count": 2,
   "metadata": {},
   "outputs": [
    {
     "name": "stdout",
     "output_type": "stream",
     "text": [
      "Stats of of Min configuration of class  0\n",
      "count    9903.000000\n",
      "mean       71.140563\n",
      "std        20.128015\n",
      "min         0.000000\n",
      "25%        59.000000\n",
      "50%        75.000000\n",
      "75%        88.000000\n",
      "max       100.000000\n",
      "Name: Positive rate in reviews, dtype: float64 \n",
      "\n",
      "Stats of of Min configuration of class  1\n",
      "count    3585.000000\n",
      "mean       69.776011\n",
      "std        19.987909\n",
      "min         0.000000\n",
      "25%        56.000000\n",
      "50%        74.000000\n",
      "75%        86.000000\n",
      "max       100.000000\n",
      "Name: Positive rate in reviews, dtype: float64 \n",
      "\n",
      "Stats of of Min configuration of class  2\n",
      "count    2340.000000\n",
      "mean       69.872222\n",
      "std        19.323187\n",
      "min         5.000000\n",
      "25%        57.000000\n",
      "50%        74.000000\n",
      "75%        86.000000\n",
      "max        99.000000\n",
      "Name: Positive rate in reviews, dtype: float64 \n",
      "\n",
      "Stats of of Min configuration of class  3\n",
      "count    1356.000000\n",
      "mean       66.716077\n",
      "std        19.921908\n",
      "min         7.000000\n",
      "25%        52.000000\n",
      "50%        70.000000\n",
      "75%        83.000000\n",
      "max       100.000000\n",
      "Name: Positive rate in reviews, dtype: float64 \n",
      "\n"
     ]
    }
   ],
   "source": [
    "for i in range(0,4):\n",
    "    print(\"Stats of of Min configuration of class \", i)\n",
    "    print(df[df['Min configuration class']==i]['Positive rate in reviews'].describe(), \"\\n\")"
   ]
  },
  {
   "cell_type": "markdown",
   "metadata": {},
   "source": [
    "The number of positive reviews seems to decrease more the recommended config are high. The mean seems to gradually decrease."
   ]
  },
  {
   "cell_type": "code",
   "execution_count": 54,
   "metadata": {},
   "outputs": [
    {
     "data": {
      "image/png": "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\n",
      "text/plain": [
       "<Figure size 432x288 with 1 Axes>"
      ]
     },
     "metadata": {
      "needs_background": "light"
     },
     "output_type": "display_data"
    },
    {
     "data": {
      "image/png": "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\n",
      "text/plain": [
       "<Figure size 432x288 with 1 Axes>"
      ]
     },
     "metadata": {
      "needs_background": "light"
     },
     "output_type": "display_data"
    }
   ],
   "source": [
    "class_0 = df[df['Min configuration class']==0]\n",
    "class_3 = df[df['Min configuration class']==3]\n",
    "\n",
    "f = plt.figure(1)\n",
    "plt.hist(class_0['Positive rate in reviews'], color=\"red\")\n",
    "plt.title(\"distribution of the rate of games of class 0\")\n",
    "plt.show()\n",
    "\n",
    "g = plt.figure(2)\n",
    "plt.hist(class_3['Positive rate in reviews'], color=\"blue\")\n",
    "plt.title(\"distribution of the rate of games of class 3\")\n",
    "\n",
    "plt.show()"
   ]
  },
  {
   "cell_type": "markdown",
   "metadata": {},
   "source": [
    "The mean of the grades of class 3 is a bit lower than those of class 0. We can see that this is because the distribution is bit different. For class 3, not many games have a very high grade (above 90). Furthermore, the grade are uch more distributed with many more games having a low grade (below 50) "
   ]
  },
  {
   "cell_type": "code",
   "execution_count": 4,
   "metadata": {},
   "outputs": [
    {
     "name": "stdout",
     "output_type": "stream",
     "text": [
      "overall proportion of low grades:  14.565875232774674\n",
      "class 0 proportion of low grades:  13.995758860951227\n",
      "class 3 proportion of low grades:  17.625368731563423 \n",
      "\n",
      "overall proportion of very high grades:  15.735567970204842\n",
      "class 0 proportion of very high grades:  17.287690598808442\n",
      "class 3 proportion of very high grades:  9.43952802359882\n"
     ]
    }
   ],
   "source": [
    "low_grades = df[df['Positive rate in reviews']<50]\n",
    "very_high_grades = df[df['Positive rate in reviews']>90]\n",
    "\n",
    "print(\"overall proportion of low grades: \",  100*len(low_grades)/len(df))\n",
    "print(\"class 0 proportion of low grades: \", 100*len(low_grades[low_grades['Min configuration class']==0])/len(class_0))\n",
    "print(\"class 3 proportion of low grades: \", 100*len(low_grades[low_grades['Min configuration class']==3])/len(class_3), \"\\n\")\n",
    "\n",
    "print(\"overall proportion of very high grades: \",  100*len(very_high_grades)/len(df))\n",
    "print(\"class 0 proportion of very high grades: \", 100*len(very_high_grades[very_high_grades['Min configuration class']==0])/len(class_0))\n",
    "print(\"class 3 proportion of very high grades: \", 100*len(very_high_grades[very_high_grades['Min configuration class']==3])/len(class_3))\n"
   ]
  },
  {
   "cell_type": "markdown",
   "metadata": {},
   "source": [
    "Class 3 has a higher propotion of low graded games and a much lower proportion of games with very high grades. Class 0 games have a  higher proportion of games with very high grades than the average"
   ]
  },
  {
   "cell_type": "markdown",
   "metadata": {},
   "source": [
    "## Analysis of the distribution of the Positive rate in reviews according to class"
   ]
  },
  {
   "cell_type": "code",
<<<<<<< HEAD
   "execution_count": 9,
=======
   "execution_count": 7,
>>>>>>> b6be3215ce2b3f1a12eb4dab5a1a33fde83aa15d
   "metadata": {},
   "outputs": [
    {
     "name": "stdout",
     "output_type": "stream",
     "text": [
<<<<<<< HEAD
      "Number of reviews  0\n",
      "count     9903.000000\n",
      "mean       256.032515\n",
      "std       1713.561327\n",
      "min          1.000000\n",
      "25%         10.000000\n",
      "50%         27.000000\n",
      "75%         89.000000\n",
      "max      77148.000000\n",
      "Name: Number of reviews, dtype: float64 \n",
      "\n",
      "Number of reviews  1\n",
      "count     3585.000000\n",
      "mean       427.776290\n",
      "std       2502.771808\n",
=======
      "Configuration class  0\n",
      "count     9895.00000\n",
      "mean       235.28378\n",
      "std       1327.14023\n",
      "min          1.00000\n",
      "25%         10.00000\n",
      "50%         27.00000\n",
      "75%         89.00000\n",
      "max      48827.00000\n",
      "Name: Number of reviews, dtype: float64 \n",
      "\n",
      "Configuration class  1\n",
      "count     3584.000000\n",
      "mean       427.893136\n",
      "std       2503.111261\n",
>>>>>>> b6be3215ce2b3f1a12eb4dab5a1a33fde83aa15d
      "min          0.000000\n",
      "25%         11.000000\n",
      "50%         33.000000\n",
      "75%        126.000000\n",
      "max      78179.000000\n",
      "Name: Number of reviews, dtype: float64 \n",
      "\n",
<<<<<<< HEAD
      "Number of reviews  2\n",
=======
      "Configuration class  2\n",
>>>>>>> b6be3215ce2b3f1a12eb4dab5a1a33fde83aa15d
      "count     2340.000000\n",
      "mean       494.891880\n",
      "std       3389.296361\n",
      "min          2.000000\n",
      "25%         10.000000\n",
      "50%         25.000000\n",
      "75%         96.000000\n",
      "max      85491.000000\n",
      "Name: Number of reviews, dtype: float64 \n",
      "\n",
<<<<<<< HEAD
      "Number of reviews  3\n",
      "count     1356.000000\n",
      "mean       628.825959\n",
      "std       4241.508661\n",
=======
      "Configuration class  3\n",
      "count     1354.000000\n",
      "mean       626.139586\n",
      "std       4243.129345\n",
>>>>>>> b6be3215ce2b3f1a12eb4dab5a1a33fde83aa15d
      "min          2.000000\n",
      "25%          9.000000\n",
      "50%         23.000000\n",
      "75%         76.000000\n",
      "max      80911.000000\n",
      "Name: Number of reviews, dtype: float64 \n",
      "\n"
     ]
    }
   ],
   "source": [
    "for i in range(0,4):\n",
<<<<<<< HEAD
    "    print(\"Number of reviews \", i)\n",
=======
    "    print(\"Configuration class \", i)\n",
>>>>>>> b6be3215ce2b3f1a12eb4dab5a1a33fde83aa15d
    "    print(df[df['Min configuration class']==i]['Number of reviews'].describe(), \"\\n\")"
   ]
  },
  {
   "cell_type": "markdown",
   "metadata": {},
   "source": [
    "The mean of the number of reviews per game for class 3 is much higher. The game are more sophisticated and are for a more dedicated community. Thus, the gamers are more likely to leave reviews. Whereas, the mean of the number of reviews per game for class 0 is much lower than average. As the games are likely to be less time-consuming and probably less work was given to it, many games don't have many reviews."
   ]
  },
  {
   "cell_type": "code",
   "execution_count": 18,
   "metadata": {},
   "outputs": [
    {
     "data": {
      "image/png": "iVBORw0KGgoAAAANSUhEUgAAAYAAAAD8CAYAAAB+UHOxAAAABHNCSVQICAgIfAhkiAAAAAlwSFlzAAALEgAACxIB0t1+/AAAADl0RVh0U29mdHdhcmUAbWF0cGxvdGxpYiB2ZXJzaW9uIDIuMi4zLCBodHRwOi8vbWF0cGxvdGxpYi5vcmcvIxREBQAAE7xJREFUeJzt3W+MXfWd3/H3Z3FCutlubIcBuTapiWJlw1YKoVfgNFW1DbvG0FXMgyARrYpFLbkP0japVtpC+8Ba2AeJVC1ZpC5aFLJrojSEZZNiIRRqOVR9BGG8UAI41JNNFk/N4olsSHeR0iX77YP7G3IxY8+d8XjGM7/3S7o653zP9957fnMsf+b8uXdSVUiS+vMLK70BkqSVYQBIUqcMAEnqlAEgSZ0yACSpUwaAJHXKAJCkThkAktQpA0CSOrVupTfgbC655JLaunXrSm+GJK0qhw8f/nFVTczXd0EHwNatW5mcnFzpzZCkVSXJX47T5ykgSeqUASBJnTIAJKlTBoAkdcoAkKROGQCS1CkDQJI6ZQBIUqcMAEnq1AX9SeBzlqzM+1atzPtK0gJ4BCBJnTIAJKlTBoAkdcoAkKROGQCS1CkDQJI6ZQBIUqcMAEnqlAEgSZ0yACSpUwaAJHVq3gBI8uEkz448fpLk80k2JjmY5Gibbmj9SXJPkqkkzyW5euS1drf+o0l2n8+BSZLObt4AqKqXquqqqroK+MfAG8C3gNuBQ1W1DTjUlgFuALa1x17gXoAkG4F9wLXANcC+2dCQJC2/hZ4Cug74QVX9JbAL2N/q+4Gb2vwu4IEaehJYn2QTcD1wsKpOVtUp4CCw85xHIElalIUGwC3A19v8ZVX1CkCbXtrqm4FjI8+ZbrUz1SVJK2DsAEjybuBTwJ/O1zpHrc5SP/199iaZTDI5MzMz7uZJkhZoIUcANwB/XlWvtuVX26kd2vREq08Dl488bwtw/Cz1t6mq+6pqUFWDiYmJBWyeJGkhFhIAn+Hnp38ADgCzd/LsBh4Zqd/a7gbaDrzeThE9DuxIsqFd/N3RapKkFTDWn4RM8ovAbwD/eqT8BeChJHuAl4GbW/0x4EZgiuEdQ7cBVNXJJHcBT7e+O6vq5DmPQJK0KKkL+O/XDgaDmpycXPwL+DeBJXUoyeGqGszX5yeBJalTBoAkdcoAkKROGQCS1CkDQJI6ZQBIUqcMAEnqlAEgSZ0yACSpUwaAJHXKAJCkThkAktQpA0CSOmUASFKnDABJ6pQBIEmdMgAkqVMGgCR1ygCQpE6NFQBJ1id5OMn3kxxJ8vEkG5McTHK0TTe03iS5J8lUkueSXD3yOrtb/9Eku8/XoCRJ8xv3COAPgG9X1a8AHwWOALcDh6pqG3CoLQPcAGxrj73AvQBJNgL7gGuBa4B9s6EhSVp+8wZAkl8G/hlwP0BV/b+qeg3YBexvbfuBm9r8LuCBGnoSWJ9kE3A9cLCqTlbVKeAgsHNJRyNJGts4RwAfBGaAP07yTJIvJ3kvcFlVvQLQppe2/s3AsZHnT7famepvk2RvkskkkzMzMwsekCRpPOMEwDrgauDeqvoY8Df8/HTPXDJHrc5Sf3uh6r6qGlTVYGJiYozNkyQtxjgBMA1MV9VTbflhhoHwaju1Q5ueGOm/fOT5W4DjZ6lLklbAvAFQVX8FHEvy4Va6DngROADM3smzG3ikzR8Abm13A20HXm+niB4HdiTZ0C7+7mg1SdIKWDdm378Fvpbk3cBfALcxDI+HkuwBXgZubr2PATcCU8AbrZeqOpnkLuDp1ndnVZ1cklFIkhYsVe84DX/BGAwGNTk5ufgXyFyXHZbBBfwzlbT2JTlcVYP5+vwksCR1ygCQpE4ZAJLUKQNAkjplAEhSpwwASeqUASBJnTIAJKlTBoAkdcoAkKROGQCS1CkDQJI6ZQBIUqcMAEnqlAEgSZ0yACSpUwaAJHXKAJCkTo0VAEl+lOR7SZ5NMtlqG5McTHK0TTe0epLck2QqyXNJrh55nd2t/2iS3Wd6P0nS+beQI4B/XlVXjfydyduBQ1W1DTjUlgFuALa1x17gXhgGBrAPuBa4Btg3GxqSpOV3LqeAdgH72/x+4KaR+gM19CSwPskm4HrgYFWdrKpTwEFg5zm8vyTpHIwbAAX89ySHk+xttcuq6hWANr201TcDx0aeO91qZ6pLklbAujH7PlFVx5NcChxM8v2z9GaOWp2l/vYnDwNmL8AHPvCBMTdPkrRQYx0BVNXxNj0BfIvhOfxX26kd2vREa58GLh95+hbg+Fnqp7/XfVU1qKrBxMTEwkYjSRrbvAGQ5L1J/v7sPLADeB44AMzeybMbeKTNHwBubXcDbQdeb6eIHgd2JNnQLv7uaDVJ0goY5xTQZcC3ksz2/9eq+naSp4GHkuwBXgZubv2PATcCU8AbwG0AVXUyyV3A063vzqo6uWQjkSQtSKrecRr+gjEYDGpycnLxL5C5Ljssgwv4Zypp7UtyeOSW/TPyk8CS1CkDQJI6ZQBIUqcMAEnqlAEgSZ0yACSpUwaAJHXKAJCkThkAktQpA0CSOmUASFKnDABJ6pQBIEmdMgAkqVMGgCR1ygCQpE4ZAJLUKQNAkjo1dgAkuSjJM0kebctXJHkqydEk30jy7la/uC1PtfVbR17jjlZ/Kcn1Sz0YSdL4FnIE8DngyMjyF4G7q2obcArY0+p7gFNV9SHg7tZHkiuBW4BfBXYCf5jkonPbfEnSYo0VAEm2AP8C+HJbDvBJ4OHWsh+4qc3vasu09de1/l3Ag1X106r6ITAFXLMUg5AkLdy4RwBfAn4H+Lu2/H7gtap6sy1PA5vb/GbgGEBb/3rrf6s+x3MkScts3gBI8pvAiao6PFqeo7XmWXe254y+394kk0kmZ2Zm5ts8SdIijXME8AngU0l+BDzI8NTPl4D1Sda1ni3A8TY/DVwO0Na/Dzg5Wp/jOW+pqvuqalBVg4mJiQUPSJI0nnkDoKruqKotVbWV4UXc71TVbwFPAJ9ubbuBR9r8gbZMW/+dqqpWv6XdJXQFsA347pKNRJK0IOvmbzmj/wA8mOT3gGeA+1v9fuCrSaYY/uZ/C0BVvZDkIeBF4E3gs1X1s3N4f0nSOcjwl/ML02AwqMnJycW/QOa67LAMLuCfqaS1L8nhqhrM1+cngSWpUwaAJHXKAJCkThkAktQpA0CSOmUASFKnDABJ6pQBIEmdMgAkqVMGgCR1ygCQpE4ZAJLUKQNAkjplAEhSpwwASeqUASBJnTIAJKlTBoAkdWreAEjyniTfTfK/kryQ5Hdb/YokTyU5muQbSd7d6he35am2fuvIa93R6i8luf58DUqSNL9xjgB+Cnyyqj4KXAXsTLId+CJwd1VtA04Be1r/HuBUVX0IuLv1keRKhn8g/leBncAfJrloKQcjSRrfvAFQQ3/dFt/VHgV8Eni41fcDN7X5XW2Ztv66JGn1B6vqp1X1Q2AKuGZJRiFJWrCxrgEkuSjJs8AJ4CDwA+C1qnqztUwDm9v8ZuAYQFv/OvD+0focz5EkLbOxAqCqflZVVwFbGP7W/pG52to0Z1h3pvrbJNmbZDLJ5MzMzDibJ0lahAXdBVRVrwH/A9gOrE+yrq3aAhxv89PA5QBt/fuAk6P1OZ4z+h73VdWgqgYTExML2TxJ0gKMcxfQRJL1bf7vAb8OHAGeAD7d2nYDj7T5A22Ztv47VVWtfku7S+gKYBvw3aUaiCRpYdbN38ImYH+7Y+cXgIeq6tEkLwIPJvk94Bng/tZ/P/DVJFMMf/O/BaCqXkjyEPAi8Cbw2ar62dIOR5I0rgx/Ob8wDQaDmpycXPwLZK7LDsvgAv6ZSlr7khyuqsF8fX4SWJI6ZQBIUqcMAEnqlAEgSZ0yACSpUwaAJHXKAJCkThkAktQpA0CSOmUASFKnDABJ6pQBIEmdMgAkqVMGgCR1ygCQpE4ZAJLUKQNAkjplAEhSpwwASerUvAGQ5PIkTyQ5kuSFJJ9r9Y1JDiY52qYbWj1J7kkyleS5JFePvNbu1n80ye7zNyxJ0nzGOQJ4E/jtqvoIsB34bJIrgduBQ1W1DTjUlgFuALa1x17gXhgGBrAPuBa4Btg3GxqSpOU3bwBU1StV9edt/v8CR4DNwC5gf2vbD9zU5ncBD9TQk8D6JJuA64GDVXWyqk4BB4GdSzoaSdLYFnQNIMlW4GPAU8BlVfUKDEMCuLS1bQaOjTxtutXOVD/9PfYmmUwyOTMzs5DNkyQtwNgBkOSXgD8DPl9VPzlb6xy1Okv97YWq+6pqUFWDiYmJcTdPkrRAYwVAkncx/M//a1X1zVZ+tZ3aoU1PtPo0cPnI07cAx89SlyStgHHuAgpwP3Ckqn5/ZNUBYPZOnt3AIyP1W9vdQNuB19sposeBHUk2tIu/O1pNkrQC1o3R8wngXwLfS/Jsq/1H4AvAQ0n2AC8DN7d1jwE3AlPAG8BtAFV1MsldwNOt786qOrkko5AkLViq3nEa/oIxGAxqcnJy8S+QuS47LIML+Gcqae1LcriqBvP1+UlgSeqUASBJnTIAJKlTBoAkdcoAkKROGQCS1CkDQJI6ZQBIUqcMAEnqlAEgSZ0yACSpUwaAJHXKAJCkThkAktQpA0CSOmUASFKnDABJ6pQBIEmdGuePwn8lyYkkz4/UNiY5mORom25o9SS5J8lUkueSXD3ynN2t/2iS3XO9lyRp+YxzBPAnwM7TarcDh6pqG3CoLQPcAGxrj73AvTAMDGAfcC1wDbBvNjQkSStj3gCoqv8JnDytvAvY3+b3AzeN1B+ooSeB9Uk2AdcDB6vqZFWdAg7yzlCRJC2jxV4DuKyqXgFo00tbfTNwbKRvutXOVJckrZClvgicOWp1lvo7XyDZm2QyyeTMzMySbpwk6ecWGwCvtlM7tOmJVp8GLh/p2wIcP0v9HarqvqoaVNVgYmJikZsnSZrPYgPgADB7J89u4JGR+q3tbqDtwOvtFNHjwI4kG9rF3x2tJklaIevma0jydeDXgEuSTDO8m+cLwENJ9gAvAze39seAG4Ep4A3gNoCqOpnkLuDp1ndnVZ1+YXntyFxnvJZBzXlWTZLmlLqA/9MYDAY1OTm5+BdYqf+IV8oFvC8lLZ8kh6tqMF+fnwSWpE4ZAJLUKQNAkjplAEhSpwwASeqUASBJnTIAJKlTBoAkdcoAkKROGQCS1CkDQJI6ZQBIUqfm/TZQrSIr+eV3fhGdtOp4BCBJnTIAJKlTBoAkdcprAFoa/hU0adXxCECSOrXsAZBkZ5KXkkwluX25319rTLJyD2mVW9ZTQEkuAv4L8BvANPB0kgNV9eJyboe0JDztpVVuua8BXANMVdVfACR5ENgFGADSuHo8+lip0Fvjn61Z7gDYDBwbWZ4Grl3mbZC02vQYestguQNgrr34tphLshfY2xb/OslLi3yvS4AfL/K5q5Vj7oNj7sEw9BY77n84TtNyB8A0cPnI8hbg+GhDVd0H3Heub5RksqoG5/o6q4lj7oNj7sf5Hvdy3wX0NLAtyRVJ3g3cAhxY5m2QJLHMRwBV9WaSfwM8DlwEfKWqXljObZAkDS37J4Gr6jHgsWV4q3M+jbQKOeY+OOZ+nNdxp7ynWJK65FdBSFKn1mQArNWvm0hyeZInkhxJ8kKSz7X6xiQHkxxt0w2tniT3tJ/Dc0muXtkRLE6Si5I8k+TRtnxFkqfaeL/RbiggycVteaqt37qS230ukqxP8nCS77f9/fEO9vO/b/+un0/y9STvWWv7OslXkpxI8vxIbcH7Ncnu1n80ye7Fbs+aC4CRr5u4AbgS+EySK1d2q5bMm8BvV9VHgO3AZ9vYbgcOVdU24FBbhuHPYFt77AXuXf5NXhKfA46MLH8RuLuN9xSwp9X3AKeq6kPA3a1vtfoD4NtV9SvARxmOf83u5ySbgX8HDKrqHzG8SeQW1t6+/hNg52m1Be3XJBuBfQw/RHsNsG82NBasqtbUA/g48PjI8h3AHSu9XedprI8w/F6ll4BNrbYJeKnN/xHwmZH+t/pWy4PhZ0UOAZ8EHmX4YcIfA+tO398M7y77eJtf1/qy0mNYxJh/Gfjh6du+xvfz7LcEbGz77lHg+rW4r4GtwPOL3a/AZ4A/Gqm/rW8hjzV3BMDcXzexeYW25bxph7wfA54CLquqVwDa9NLWthZ+Fl8Cfgf4u7b8fuC1qnqzLY+O6a3xtvWvt/7V5oPADPDH7dTXl5O8lzW8n6vq/wD/GXgZeIXhvjvM2t/XsPD9umT7ey0GwLxfN7HaJfkl4M+Az1fVT87WOkdt1fwskvwmcKKqDo+W52itMdatJuuAq4F7q+pjwN/w89MCc1n1426nMHYBVwD/AHgvw1Mgp1tr+/pszjTGJRv7WgyAeb9uYjVL8i6G//l/raq+2cqvJtnU1m8CTrT6av9ZfAL4VJIfAQ8yPA30JWB9ktnPsIyO6a3xtvXvA04u5wYvkWlguqqeassPMwyEtbqfAX4d+GFVzVTV3wLfBP4Ja39fw8L365Lt77UYAGv26yaSBLgfOFJVvz+y6gAweyfAbobXBmbrt7a7CbYDr88eaq4GVXVHVW2pqq0M9+N3quq3gCeAT7e208c7+3P4dOtfdb8VVtVfAceSfLiVrmP4lelrcj83LwPbk/xi+3c+O+Y1va+bhe7Xx4EdSTa0I6cdrbZwK31B5DxdZLkR+N/AD4D/tNLbs4Tj+qcMD/WeA55tjxsZnvs8BBxt042tPwzviPoB8D2Gd1is+DgWOfZfAx5t8x8EvgtMAX8KXNzq72nLU239B1d6u89hvFcBk21f/zdgw1rfz8DvAt8Hnge+Cly81vY18HWG1zj+luFv8nsWs1+Bf9XGPgXcttjt8ZPAktSptXgKSJI0BgNAkjplAEhSpwwASeqUASBJnTIAJKlTBoAkdcoAkKRO/X9R3x3u/yaBtAAAAABJRU5ErkJggg==\n",
      "text/plain": [
       "<Figure size 432x288 with 1 Axes>"
      ]
     },
     "metadata": {
      "needs_background": "light"
     },
     "output_type": "display_data"
    },
    {
     "data": {
      "image/png": "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\n",
      "text/plain": [
       "<Figure size 432x288 with 1 Axes>"
      ]
     },
     "metadata": {
      "needs_background": "light"
     },
     "output_type": "display_data"
    }
   ],
   "source": [
    "class_0 = df[df['Min configuration class']==0]\n",
    "class_3 = df[df['Min configuration class']==3]\n",
    "\n",
    "f = plt.figure(1)\n",
    "plt.hist(class_0[class_0['Number of reviews']<1000]['Number of reviews'], color=\"red\")\n",
    "plt.show()\n",
    "\n",
    "g = plt.figure(2)\n",
    "plt.hist(class_3[class_3['Number of reviews']<1000]['Number of reviews'], color=\"blue\")\n",
    "plt.show()"
   ]
  },
  {
   "cell_type": "code",
   "execution_count": 32,
   "metadata": {},
   "outputs": [
    {
     "data": {
      "text/plain": [
       "Min configuration class\n",
       "0    411\n",
       "1    228\n",
       "2    156\n",
       "3     89\n",
       "Name: Game ID, dtype: int64"
      ]
     },
     "execution_count": 32,
     "metadata": {},
     "output_type": "execute_result"
    }
   ],
   "source": [
    "df[df['Number of reviews']>1000].groupby('Min configuration class')['Game ID'].count()"
   ]
  },
  {
   "cell_type": "markdown",
   "metadata": {},
   "source": [
    "Even if the mean of the number of review, the vast majority of games have below 100 reviews. The mean of class 3 is much higer but the majority of games with a lot of reviews (above 1000) are of class 0."
   ]
  },
  {
   "cell_type": "markdown",
   "metadata": {},
   "source": [
    "## Analysis of the dependance between number of review, positive rate and class"
   ]
  },
  {
   "cell_type": "code",
   "execution_count": 52,
   "metadata": {},
   "outputs": [
    {
     "data": {
      "image/png": "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\n",
      "text/plain": [
       "<Figure size 432x288 with 2 Axes>"
      ]
     },
     "metadata": {
      "needs_background": "light"
     },
     "output_type": "display_data"
    }
   ],
   "source": [
    "corrMatrix = df[[\"Min configuration class\", \"Positive rate in reviews\", \"Number of reviews\"]].corr()\n",
    "sn.heatmap(corrMatrix, annot=True)\n",
    "plt.show()\n"
   ]
  },
  {
   "cell_type": "markdown",
   "metadata": {},
   "source": [
    "Very low correlation (after modification of table, look at coorelation matric with price and date release)"
   ]
  },
  {
   "cell_type": "code",
   "execution_count": 63,
   "metadata": {},
   "outputs": [
    {
     "data": {
      "text/plain": [
       "Text(0,0.5,'Positive rate in reviews')"
      ]
     },
     "execution_count": 63,
     "metadata": {},
     "output_type": "execute_result"
    },
    {
     "data": {
      "image/png": "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\n",
      "text/plain": [
       "<Figure size 432x288 with 1 Axes>"
      ]
     },
     "metadata": {
      "needs_background": "light"
     },
     "output_type": "display_data"
    }
   ],
   "source": [
    "plt.scatter(df[df[\"Min configuration class\"]==0]['Number of reviews'], df[df[\"Min configuration class\"]==0]['Positive rate in reviews'], color = \"red\")\n",
    "plt.scatter(df[df[\"Min configuration class\"]==1]['Number of reviews'], df[df[\"Min configuration class\"]==1]['Positive rate in reviews'], color = \"black\")\n",
    "plt.scatter(df[df[\"Min configuration class\"]==2]['Number of reviews'], df[df[\"Min configuration class\"]==2]['Positive rate in reviews'], color = \"black\")\n",
    "plt.scatter(df[df[\"Min configuration class\"]==3]['Number of reviews'], df[df[\"Min configuration class\"]==3]['Positive rate in reviews'], color = \"blue\")\n",
    "\n",
    "plt.xlabel(\"Number of reviews\")\n",
    "plt.ylabel(\"Positive rate in reviews\")"
   ]
  }
 ],
 "metadata": {
  "kernelspec": {
   "display_name": "Python 3",
   "language": "python",
   "name": "python3"
  },
  "language_info": {
   "codemirror_mode": {
    "name": "ipython",
    "version": 3
   },
   "file_extension": ".py",
   "mimetype": "text/x-python",
   "name": "python",
   "nbconvert_exporter": "python",
   "pygments_lexer": "ipython3",
<<<<<<< HEAD
   "version": "3.7.3"
=======
   "version": "3.7.6"
>>>>>>> b6be3215ce2b3f1a12eb4dab5a1a33fde83aa15d
  }
 },
 "nbformat": 4,
 "nbformat_minor": 4
}
