{
 "cells": [
  {
   "cell_type": "code",
   "execution_count": 1,
   "metadata": {},
   "outputs": [],
   "source": [
    "import requests\n",
    "from bs4 import BeautifulSoup\n",
    "import pandas as pd\n",
    "import re"
   ]
  },
  {
   "cell_type": "code",
   "execution_count": 12,
   "metadata": {},
   "outputs": [
    {
     "name": "stdout",
     "output_type": "stream",
     "text": [
      "403\n"
     ]
    }
   ],
   "source": [
    "url = 'https://steamdb.info/'\n",
    "cookies = dict(cookie='enable')\n",
    "r = requests.get(url, cookies=cookies)\n",
    "print(r.status_code)"
   ]
  },
  {
   "cell_type": "code",
   "execution_count": 13,
   "metadata": {},
   "outputs": [
    {
     "name": "stdout",
     "output_type": "stream",
     "text": [
      "\n",
      "\n",
      "\n",
      "\n",
      "  \n",
      "\n",
      "Access denied | steamdb.info used Cloudflare to restrict access\n",
      "\n",
      "\n",
      "\n",
      "\n",
      "\n",
      "\n",
      "\n",
      "\n",
      "\n",
      "Please enable cookies.\n",
      "\n",
      "\n",
      "\n",
      "Error\n",
      "1020\n",
      "\n",
      "Ray ID: 5fb55e91ad48eddf •\n",
      "2020-12-02 13:24:39 UTC\n",
      "Access denied\n",
      "\n",
      "\n",
      "\n",
      "What happened?\n",
      "This website is using a security service to protect itself from online attacks.\n",
      "\n",
      "\n",
      "\n",
      "\n",
      "Cloudflare Ray ID: 5fb55e91ad48eddf\n",
      "•\n",
      "Your IP: 2a04:8ec0:0:144:dd7c:53bc:f733:5460\n",
      "•\n",
      "Performance & security by Cloudflare\n",
      "\n",
      "\n",
      "\n",
      "\n",
      "\n",
      "  window._cf_translation = {};\n",
      "  \n",
      "  \n",
      "\n",
      "\n",
      "\n",
      "\n"
     ]
    }
   ],
   "source": [
    "#print(r.text)\n",
    "bs = BeautifulSoup(r.text, 'html.parser')\n",
    "print(bs.get_text())"
   ]
  },
  {
   "cell_type": "code",
   "execution_count": null,
   "metadata": {},
   "outputs": [],
   "source": []
  }
 ],
 "metadata": {
  "kernelspec": {
   "display_name": "Python 3.7.6 64-bit ('base': conda)",
   "language": "python",
   "name": "python37664bitbasecondae5433ad43d13444bb011d4b7eb072777"
  },
  "language_info": {
   "codemirror_mode": {
    "name": "ipython",
    "version": 3
   },
   "file_extension": ".py",
   "mimetype": "text/x-python",
   "name": "python",
   "nbconvert_exporter": "python",
   "pygments_lexer": "ipython3",
   "version": "3.7.6"
  }
 },
 "nbformat": 4,
 "nbformat_minor": 4
}
